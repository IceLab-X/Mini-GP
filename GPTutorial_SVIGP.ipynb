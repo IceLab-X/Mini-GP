{
 "cells": [
  {
   "cell_type": "markdown",
   "id": "9d0d9dd5-534c-4a6a-8027-f5be4ca8a86f",
   "metadata": {},
   "source": "<span style=\"font-size:24px; font-weight:bold;\">A tutorial for Stochastic Variational Inference Gaussian Process  </span>\n"
  },
  {
   "metadata": {},
   "cell_type": "markdown",
   "source": [
    "Author: Zidong Chen\n",
    "\n",
    "Date: 2024/07/16\n",
    "\n",
    "Reference: [Gaussian process for big data](https://arxiv.org/pdf/1309.6835)"
   ],
   "id": "54559eda81067459"
  },
  {
   "cell_type": "code",
   "id": "30a10e18-dcec-4d6d-ab64-99ed5513a5ff",
   "metadata": {
    "ExecuteTime": {
     "end_time": "2024-07-17T07:10:25.634805Z",
     "start_time": "2024-07-17T07:10:25.630928Z"
    }
   },
   "source": [
    "import torch\n",
    "import torch.nn as nn\n",
    "from matplotlib import pyplot as plt\n",
    "import os\n",
    "from core.kernel import ARDKernel\n",
    "import torch.optim as optim\n",
    "import core.GP_CommonCalculation as GP\n",
    "os.environ['KMP_DUPLICATE_LIB_OK'] = 'True' # Fixing strange error if run in MacOS\n",
    "JITTER = 1e-4 \n",
    "EPS = 1e-10\n",
    "PI = 3.1415\n",
    "torch.set_default_dtype(torch.float64)"
   ],
   "outputs": [],
   "execution_count": 269
  },
  {
   "cell_type": "code",
   "id": "a64f8d83-93ce-4334-9672-137d1621c199",
   "metadata": {
    "ExecuteTime": {
     "end_time": "2024-07-17T07:10:25.899598Z",
     "start_time": "2024-07-17T07:10:25.896140Z"
    }
   },
   "source": [
    "# Train set\n",
    "num_data = 100  # We initialize 10 thousands training data to see its scalability\n",
    "\n",
    "xtr = torch.rand(num_data, 1, dtype=torch.float64)\n",
    "ytr = ((6 * xtr - 2) ** 2) * torch.sin(12 * xtr - 4) + torch.randn(num_data, 1, dtype=torch.float64) * 0.1\n",
    "\n",
    "# Test set\n",
    "xte = torch.linspace(0, 1, 1000, dtype=torch.float64).view(-1, 1)\n",
    "yte = ((6 * xte - 2) ** 2) * torch.sin(12 * xte - 4)"
   ],
   "outputs": [],
   "execution_count": 270
  },
  {
   "metadata": {},
   "cell_type": "markdown",
   "source": "You must normalize the training data to use this method. The mean of the inducing points are learnable and initialized as zero. If there is a large difference between the real mean and zero, it may cause the mean to fail to update.\n",
   "id": "c456218ad3c6ec8a"
  },
  {
   "metadata": {
    "ExecuteTime": {
     "end_time": "2024-07-17T07:10:26.390557Z",
     "start_time": "2024-07-17T07:10:26.387827Z"
    }
   },
   "cell_type": "code",
   "source": [
    "# normalize\n",
    "normalizer=GP.DataNormalization(method='standard',mode=0)\n",
    "normalizer.fit(xtr,'xtr')\n",
    "normalizer.fit(ytr,'ytr')\n",
    "x_normalized=normalizer.normalize(xtr,'xtr')\n",
    "y_normalized=normalizer.normalize(ytr,'ytr')\n",
    "xte_normalized=normalizer.normalize(xte,'xtr')"
   ],
   "id": "8d7d850561596726",
   "outputs": [],
   "execution_count": 271
  },
  {
   "cell_type": "code",
   "id": "eecf77bd-444f-46bc-8e45-03736f3dd7b5",
   "metadata": {
    "ExecuteTime": {
     "end_time": "2024-07-17T07:10:26.655151Z",
     "start_time": "2024-07-17T07:10:26.651478Z"
    }
   },
   "source": [
    "#subset_set_of_training_set\n",
    "num_inducing=10\n",
    "xm=nn.Parameter(torch.rand(num_inducing,1))\n",
    "q_u_mean=nn.Parameter(torch.zeros(xm.size(0),1))\n",
    "chole=nn.Parameter(torch.rand(xm.size(0),1)) # this is trained instead of the covariance to ensure positive definite"
   ],
   "outputs": [],
   "execution_count": 272
  },
  {
   "cell_type": "code",
   "id": "88171297-a84d-49cd-8921-0d667630743c",
   "metadata": {
    "ExecuteTime": {
     "end_time": "2024-07-17T07:10:26.863220Z",
     "start_time": "2024-07-17T07:10:26.860724Z"
    }
   },
   "source": "log_beta = nn.Parameter(torch.ones(1)*0)",
   "outputs": [],
   "execution_count": 273
  },
  {
   "cell_type": "code",
   "id": "963dc876-a34b-4814-8396-13c53d12bced",
   "metadata": {
    "ExecuteTime": {
     "end_time": "2024-07-17T07:10:27.131644Z",
     "start_time": "2024-07-17T07:10:27.128789Z"
    }
   },
   "source": "kernel=ARDKernel(1)",
   "outputs": [],
   "execution_count": 274
  },
  {
   "cell_type": "markdown",
   "id": "cd01779f-b35c-4545-a4f7-8a2ed3ce6701",
   "metadata": {},
   "source": [
    "The lowerbound introduced by Hensman et al. [2013]\n",
    "$$\n",
    "\\mathcal{L} = \\mathbb{E}_{q(\\mathbf{f}, \\mathbf{u})}[\\log p(\\mathbf{y}|\\mathbf{f})] - \\mathrm{KL}[q(\\mathbf{u})||p(\\mathbf{u})]\n",
    "$$\n",
    "allow us to apply mini-batch learning on sparse GP"
   ]
  },
  {
   "cell_type": "markdown",
   "id": "dcef19a7-0116-44dc-8c2d-6f94ab99c6b7",
   "metadata": {},
   "source": [
    "$$\n",
    "\\mathcal{L} = \\sum_{i=1}^{n} \\left\\{ \\log \\mathcal{N}\\left(y_i \\middle| k_i^T K_{mm}^{-1} m, \\beta^{-1}\\right) - \\frac{1}{2} \\beta k_{i,i} - \\frac{1}{2} \\text{tr}(S \\Lambda_i) \\right\\} - \\mathrm{KL}[q(\\mathbf{u}) \\parallel p(\\mathbf{u})]\n",
    "$$\n",
    "$$\n",
    "\\mathcal{L} = \\sum_{i=1}^{n} \\left\\{-\\frac{1}{2} \\log(2 \\pi \\beta^{-1}) - \\frac{\\beta}{2} \\left((y_i - k_i^T K_{mm}^{-1} m)^2 \\right)- \\frac{1}{2} \\beta k_{i,i} - \\frac{1}{2} \\text{tr}(S \\Lambda_i) \\right\\} - \\mathrm{KL}[q(\\mathbf{u}) \\parallel p(\\mathbf{u})]\n",
    "$$\n",
    "And:\n",
    "$$\n",
    "\\mathrm{KL}[q(\\mathbf{u}) \\parallel p(\\mathbf{u})] = \\frac{1}{2} \\left( \\text{tr}(\\mathbf{K_{mm}}^{-1}\\mathbf{S}) + \\mathbf{m}^T \\mathbf{K_{mm}}^{-1} \\mathbf{m} - \\log\\left(\\frac{|\\mathbf{S}|}{|\\mathbf{K_{mm}}|}\\right) - d \\right)\n",
    "$$\n",
    "[reference for KL](https://en.wikipedia.org/wiki/Kullback%E2%80%93Leibler_divergence)"
   ]
  },
  {
   "cell_type": "markdown",
   "source": [
    "Where $\\tilde{k}_{i,i}$ is the ith diagonal element of $\\tilde{\\mathbf{K}}$\n",
    "\n",
    "$$\n",
    "\\tilde{\\mathbf{K}} = \\mathbf{K}_{nn} - \\mathbf{K}_{nm} \\mathbf{K}_{mm}^{-1} \\mathbf{K}_{mn}\n",
    "$$\n",
    "$\\mathbf{k}_i$ is a vector representing the $i$-th column of $\\mathbf{K}_{mn}$\n",
    "\n",
    "and $\\Lambda_i$is defined as:\n",
    "\n",
    "$$\\Lambda_i = \\beta \\mathbf{K}_{mm}^{-1} \\mathbf{k}_i \\mathbf{k}_i^\\top \\mathbf{K}_{mm}^{-1} $$\n",
    "\n",
    "As we can see, this lower bound is disjoint for each training data point, allowing us to implement mini-batch gradient descent during training. Below is the implementation without mini-batch; more details on how to perform mini-batch gradient descent can be found in core.svgp.py\n"
   ],
   "metadata": {
    "collapsed": false
   },
   "id": "f7f8548365e675c6"
  },
  {
   "cell_type": "code",
   "source": [
    "def negative_lower_bound(q_u_mean,chole,xm,xtr,ytr,kernel,log_beta):\n",
    "    b=xtr.size(0) #batch size\n",
    "\n",
    "    k_mm=kernel(xm, xm)+JITTER * torch.eye(xm.size(0))\n",
    "    k_mn=kernel(xm, xtr)\n",
    "    Lm = torch.linalg.cholesky(k_mm)\n",
    "    k_nm=k_mn.t()\n",
    "\n",
    "    gamma,_ = torch.triangular_solve(k_mn, Lm, upper = False)\n",
    "    K=gamma.t()@gamma\n",
    "    K_tilda=(kernel(xtr, xtr).diag()-K.diag()).view(-1,1)\n",
    "\n",
    "    #Option 1\n",
    "    #k_mm_inv=torch.inverse(k_mm)\n",
    "\n",
    "    #Option 2 More efficient and stable\n",
    "    k_mm_inv= torch.cholesky_inverse(Lm)\n",
    "\n",
    "    q_u_S=chole@chole.t()+JITTER * torch.eye(xm.size(0))\n",
    "    Ls=torch.linalg.cholesky(q_u_S)\n",
    "    #Ls=flat_to_trian(chole)\n",
    "    #q_u_S=Ls@Ls.t()\n",
    "\n",
    "\n",
    "    A_i=log_beta.exp()*(k_mm_inv@k_mn@k_nm@k_mm_inv)\n",
    "    SA_i=q_u_S@A_i\n",
    "    tr_SA_i=SA_i.diag()\n",
    "    L=-0.5*b*torch.log(2*torch.tensor(PI))+0.5*b*torch.log(log_beta.exp())\\\n",
    "      -0.5*log_beta.exp()*((ytr-k_nm@k_mm_inv@q_u_mean)**2).sum(dim = 0).view(-1,1)\\\n",
    "      -0.5*log_beta.exp()*K_tilda.sum(dim = 0).view(-1,1)-0.5*(tr_SA_i.sum(dim = 0).view(-1,1))\n",
    "\n",
    "\n",
    "    # compute KL\n",
    "    logdetS = 2 * Ls.diag().log().sum()\n",
    "    logdetKmm=2*Lm.diag().log().sum()\n",
    "    k_mm_invS=k_mm_inv@q_u_S\n",
    "\n",
    "    KL =  0.5*k_mm_invS.diag().sum(dim = 0).view(-1,1)+ 0.5*(q_u_mean.t()@k_mm_inv@q_u_mean)-0.5*logdetS+ 0.5*logdetKmm -0.5*num_inducing\n",
    "\n",
    "    return KL,L,k_mm_inv"
   ],
   "metadata": {
    "collapsed": false,
    "ExecuteTime": {
     "end_time": "2024-07-17T07:10:28.562202Z",
     "start_time": "2024-07-17T07:10:28.556378Z"
    }
   },
   "id": "342fd86bb08c02de",
   "outputs": [],
   "execution_count": 275
  },
  {
   "cell_type": "code",
   "id": "517aaa62-b8a7-4b56-b5d2-55f9b67edc83",
   "metadata": {
    "ExecuteTime": {
     "end_time": "2024-07-17T07:10:29.683093Z",
     "start_time": "2024-07-17T07:10:29.136539Z"
    }
   },
   "source": [
    "num_epochs = 500\n",
    "optimizer = optim.Adam([q_u_mean, chole, log_beta,xm] + list(kernel.parameters()), lr=0.1) #You probably need a large learning rate to escape local minima\n",
    "\n",
    "for i in range(num_epochs):\n",
    "    optimizer.zero_grad()\n",
    "    KL,L,k_mm_inv=negative_lower_bound(q_u_mean,chole,xm,x_normalized,y_normalized,kernel,log_beta)\n",
    "    loss=KL-L\n",
    "    loss.backward()\n",
    "    optimizer.step()\n",
    "\n",
    "        # Print kernel parameters\n",
    "        #for name, param in kernel.named_parameters():\n",
    "            #if param.requires_grad:\n",
    "                #print(f'{name}: {param.data}')\n",
    "\n",
    "        #print('log_beta:', log_beta.data)\n",
    "    if i % 10 == 0:\n",
    "\n",
    "        print('iter', i, 'nll:{:.5f}'.format(loss.item()))"
   ],
   "outputs": [
    {
     "name": "stdout",
     "output_type": "stream",
     "text": [
      "iter 0 nll:4520.01152\n",
      "iter 10 nll:478.84124\n",
      "iter 20 nll:233.59101\n",
      "iter 30 nll:199.93108\n",
      "iter 40 nll:186.72108\n",
      "iter 50 nll:181.45472\n",
      "iter 60 nll:178.75020\n",
      "iter 70 nll:176.10459\n",
      "iter 80 nll:173.61532\n",
      "iter 90 nll:171.23887\n",
      "iter 100 nll:168.77413\n",
      "iter 110 nll:166.26735\n",
      "iter 120 nll:163.68479\n",
      "iter 130 nll:161.02301\n",
      "iter 140 nll:158.27282\n",
      "iter 150 nll:155.42140\n",
      "iter 160 nll:152.45076\n",
      "iter 170 nll:149.33229\n",
      "iter 180 nll:146.02326\n",
      "iter 190 nll:142.46444\n",
      "iter 200 nll:138.57992\n",
      "iter 210 nll:134.27647\n",
      "iter 220 nll:129.44144\n",
      "iter 230 nll:123.94636\n",
      "iter 240 nll:117.67881\n",
      "iter 250 nll:110.63972\n",
      "iter 260 nll:113.58400\n",
      "iter 270 nll:114.11807\n",
      "iter 280 nll:105.00071\n",
      "iter 290 nll:94.89447\n",
      "iter 300 nll:84.17556\n",
      "iter 310 nll:74.36554\n",
      "iter 320 nll:64.24907\n",
      "iter 330 nll:53.33813\n",
      "iter 340 nll:41.68981\n",
      "iter 350 nll:29.37199\n",
      "iter 360 nll:16.46692\n",
      "iter 370 nll:3.04940\n",
      "iter 380 nll:-10.56028\n",
      "iter 390 nll:-24.17161\n",
      "iter 400 nll:-37.68769\n",
      "iter 410 nll:-51.03660\n",
      "iter 420 nll:-64.02143\n",
      "iter 430 nll:305.26029\n",
      "iter 440 nll:42.63668\n",
      "iter 450 nll:-28.35605\n",
      "iter 460 nll:-44.56972\n",
      "iter 470 nll:-54.80254\n",
      "iter 480 nll:-68.67265\n",
      "iter 490 nll:-83.24746\n"
     ]
    }
   ],
   "execution_count": 276
  },
  {
   "cell_type": "code",
   "id": "7ceccc9a-ca2d-42e2-b7bb-a396a1d87e61",
   "metadata": {
    "ExecuteTime": {
     "end_time": "2024-07-17T07:10:30.423691Z",
     "start_time": "2024-07-17T07:10:30.418050Z"
    }
   },
   "source": [
    "_,_,k_mm_inv=negative_lower_bound(q_u_mean,chole,xm,x_normalized,y_normalized,kernel,log_beta)\n",
    "def forward(xm,xte,q_u_mean,kernel, chole,log_beta):\n",
    "    K_tt=kernel(xte,xte)\n",
    "    K_tm=kernel(xte,xm)\n",
    "    K_mt= K_tm.t()\n",
    "    ypred=(K_tm@k_mm_inv)@q_u_mean\n",
    "    yvar=K_tt-K_tm@k_mm_inv@K_mt+K_tm@k_mm_inv@(chole @ chole.t())@k_mm_inv@K_mt\n",
    "    yvar = yvar.diag().view(-1,1)\n",
    "    return ypred,yvar"
   ],
   "outputs": [],
   "execution_count": 277
  },
  {
   "cell_type": "code",
   "id": "5287c31e-8f20-40d7-8812-19a16e518d13",
   "metadata": {
    "ExecuteTime": {
     "end_time": "2024-07-17T07:10:31.034549Z",
     "start_time": "2024-07-17T07:10:30.958035Z"
    }
   },
   "source": [
    "ypred,yvar=forward(xm,xte_normalized,q_u_mean,kernel,chole, log_beta)\n",
    "ypred=normalizer.denormalize(ypred,'ytr')\n",
    "yvar=normalizer.denormalize_cov(yvar,'ytr')\n",
    "plt.plot(xte.numpy(), yte.numpy(), label='Latent function', c='k', lw=0.5)\n",
    "plt.plot(xte.numpy(), ypred.detach().numpy(), label='Prediction', c='b',lw=0.5)\n",
    "plt.errorbar(xte.numpy().reshape(1000), ypred.detach().numpy().reshape(1000),\n",
    "             yerr=yvar.sqrt().squeeze().detach().numpy(), fmt='r-.', alpha=0.2)"
   ],
   "outputs": [
    {
     "data": {
      "text/plain": [
       "<ErrorbarContainer object of 3 artists>"
      ]
     },
     "execution_count": 278,
     "metadata": {},
     "output_type": "execute_result"
    },
    {
     "data": {
      "text/plain": [
       "<Figure size 640x480 with 1 Axes>"
      ],
      "image/png": "[encoded data removed]"
     },
     "metadata": {},
     "output_type": "display_data"
    }
   ],
   "execution_count": 278
  },
  {
   "metadata": {},
   "cell_type": "code",
   "outputs": [],
   "execution_count": null,
   "source": "",
   "id": "e9233cbd8de7765f"
  }
 ],
 "metadata": {
  "kernelspec": {
   "display_name": "Python 3 (ipykernel)",
   "language": "python",
   "name": "python3"
  },
  "language_info": {
   "codemirror_mode": {
    "name": "ipython",
    "version": 3
   },
   "file_extension": ".py",
   "mimetype": "text/x-python",
   "name": "python",
   "nbconvert_exporter": "python",
   "pygments_lexer": "ipython3",
   "version": "3.11.7"
  }
 },
 "nbformat": 4,
 "nbformat_minor": 5
}
