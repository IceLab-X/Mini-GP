{
 "cells": [
  {
   "cell_type": "markdown",
   "source": [
    "Author: Zidong Chen\n",
    "\n",
    "Date:2024/07/04\n",
    "\n",
    "Introduction\n",
    "\n",
    "With the advancement of hardware technology, leveraging GPUs for parallel computing in Gaussian processes has become a prominent question. After significant progress in developing scalable GP models, I am excited to introduce a new inference method for standard Gaussian processes that enables GPU acceleration. This method allows for training exact Gaussian processes with thousands of data points in seconds, using just a single GPU on a laptop.\n"
   ],
   "metadata": {
    "collapsed": false
   }
  },
  {
   "cell_type": "code",
   "execution_count": 1,
   "outputs": [
    {
     "name": "stdout",
     "output_type": "stream",
     "text": [
      "2.2.1\n"
     ]
    }
   ],
   "source": [
    "import os\n",
    "import time\n",
    "import sys\n",
    "sys.path.append('..')  # Add parent folder to sys.path\n",
    "\n",
    "import torch\n",
    "import torch.nn as nn\n",
    "import numpy as np\n",
    "from matplotlib import pyplot as plt\n",
    "from data_sample import generate_example_data as data\n",
    "from cigp_v10 import cigp\n",
    "# from torch.autograd import Variable\n",
    "import torch.optim as optim\n",
    "from kernel import ARDKernel\n",
    "os.environ['KMP_DUPLICATE_LIB_OK'] = 'True' # Fixing strange error if run in MacOS\n",
    "JITTER = 1e-6\n",
    "EPS = 1e-10\n",
    "PI = 3.1416"
   ],
   "metadata": {
    "collapsed": false,
    "ExecuteTime": {
     "end_time": "2024-07-08T23:34:50.252910200Z",
     "start_time": "2024-07-08T23:34:45.497334600Z"
    }
   }
  },
  {
   "cell_type": "markdown",
   "source": [
    "In standard Gaussian process, the negative log likelihood is given by:\n",
    "$$-L=\\frac{1}{2}y^T\\Sigma^{-1}y+\\frac{1}{2}log(|\\Sigma|)+\\frac{n}{2}log(2\\pi)$$\n",
    "Where$\\Sigma = K(X,X)+ \\frac{1}{\\beta} I$, normally we compute the inverse of $\\Sigma$ using Cholesky decomposition, which requires $O(n^3)$ time complexity. Here we use the conjugate gradient method to solve the linear system $\\Sigma \\cdot x = y$, which gives us x=$\\Sigma^{-1} \\cdot y$. The [conjugate gradient](https://en.wikipedia.org/wiki/Conjugate_gradient_method) is an iterative method, which is more suitable for large-scale data. And the time complexity is $O(n^2 t_\\epsilon)$ with $t_\\epsilon$ equals to the number of iterations required for the algorithm to converge to a solution within a tolerance level $\\epsilon$, and $t_\\epsilon \\ll n$ for large $n$.\n"
   ],
   "metadata": {
    "collapsed": false
   }
  },
  {
   "cell_type": "code",
   "execution_count": 2,
   "outputs": [],
   "source": [
    "device = torch.device('cuda' if torch.cuda.is_available() else 'cpu')\n",
    "def conjugate_gradient(A, b, x0=None, tol=1e-1, max_iter=1000):\n",
    "    if x0 is None:\n",
    "        x = torch.zeros_like(b)\n",
    "    else:\n",
    "        x = x0\n",
    "    r = b - torch.matmul(A, x)\n",
    "    p = r.clone()\n",
    "    rsold = torch.dot(r.flatten(), r.flatten())\n",
    "\n",
    "    for i in range(max_iter):\n",
    "        Ap = torch.matmul(A, p)\n",
    "        alpha = rsold / torch.dot(p.flatten(), Ap.flatten())\n",
    "        x = x + alpha * p\n",
    "        r = r - alpha * Ap\n",
    "        rsnew = torch.dot(r.flatten(), r.flatten())\n",
    "\n",
    "        if torch.sqrt(rsnew) < tol:\n",
    "            break\n",
    "\n",
    "        p = r + (rsnew / rsold) * p\n",
    "        rsold = rsnew\n",
    "\n",
    "        #if i % 10 == 0:  # Print diagnostics every 10 iterations\n",
    "            #print(f\"Iteration {i}: Residual norm {torch.sqrt(rsnew):.6e}\")\n",
    "\n",
    "    return x\n",
    "\n",
    "\n",
    "def cholesky_solve(A, b):\n",
    "    # Perform Cholesky decomposition (A = LL^T)\n",
    "    L = torch.linalg.cholesky(A)\n",
    "\n",
    "    # Solve Ax = b using torch.cholesky_solve\n",
    "    x = torch.cholesky_solve(b, L)\n",
    "\n",
    "    return x\n",
    "# Verify the solutions\n",
    "def verify_solution(A, b, x):\n",
    "    residual = b - torch.matmul(A, x)\n",
    "    residual_norm = torch.norm(residual)\n",
    "    return residual_norm"
   ],
   "metadata": {
    "collapsed": false,
    "ExecuteTime": {
     "end_time": "2024-07-08T23:35:39.172658Z",
     "start_time": "2024-07-08T23:35:39.104979100Z"
    }
   }
  },
  {
   "cell_type": "code",
   "execution_count": 3,
   "outputs": [],
   "source": [
    "# generate example data\n",
    "xtr, ytr,xte,yte = data.generate(2000,100,seed=42)\n",
    "xtr = xtr.to(dtype=torch.float64,device=device)\n",
    "ytr = ytr.to(dtype=torch.float64, device=device)\n",
    "xte = xte.to(dtype=torch.float64,device=device)"
   ],
   "metadata": {
    "collapsed": false,
    "ExecuteTime": {
     "end_time": "2024-07-08T23:35:43.460887100Z",
     "start_time": "2024-07-08T23:35:40.787749Z"
    }
   }
  },
  {
   "cell_type": "code",
   "execution_count": 4,
   "outputs": [],
   "source": [
    "kernel= ARDKernel(1)"
   ],
   "metadata": {
    "collapsed": false,
    "ExecuteTime": {
     "end_time": "2024-07-08T23:35:44.673275500Z",
     "start_time": "2024-07-08T23:35:44.658884400Z"
    }
   }
  },
  {
   "cell_type": "code",
   "execution_count": 5,
   "outputs": [],
   "source": [
    "log_beta = nn.Parameter(torch.ones(1, dtype=torch.float64, device=device) * -4)\n",
    " # this is a large noise. we optimize to shrink it to a proper value."
   ],
   "metadata": {
    "collapsed": false,
    "ExecuteTime": {
     "end_time": "2024-07-08T23:35:46.150563600Z",
     "start_time": "2024-07-08T23:35:46.126768500Z"
    }
   }
  },
  {
   "cell_type": "markdown",
   "source": [
    "Let us compare the performance of using conjugate_gradient and cholesky decomposition to solve the linear system $\\Sigma \\cdot x=y$"
   ],
   "metadata": {
    "collapsed": false
   }
  },
  {
   "cell_type": "code",
   "execution_count": 6,
   "outputs": [],
   "source": [
    "Sigma = kernel(xtr, xtr) + torch.eye(xtr.size(0), device=device) * torch.exp(log_beta) + JITTER * torch.eye(xtr.size(0), device=device)\n"
   ],
   "metadata": {
    "collapsed": false,
    "ExecuteTime": {
     "end_time": "2024-07-08T23:35:51.813877100Z",
     "start_time": "2024-07-08T23:35:49.090551200Z"
    }
   }
  },
  {
   "cell_type": "code",
   "execution_count": 12,
   "outputs": [
    {
     "name": "stdout",
     "output_type": "stream",
     "text": [
      "Conjugate Gradient Solution Time: 0.120026 seconds\n"
     ]
    }
   ],
   "source": [
    "start_time = time.time()\n",
    "x_cg=conjugate_gradient(Sigma,ytr)\n",
    "time_cg = time.time() - start_time\n",
    "print(f\"Conjugate Gradient Solution Time: {time_cg:.6f} seconds\")"
   ],
   "metadata": {
    "collapsed": false,
    "ExecuteTime": {
     "end_time": "2024-07-08T23:36:23.882358200Z",
     "start_time": "2024-07-08T23:36:23.756603400Z"
    }
   }
  },
  {
   "cell_type": "code",
   "execution_count": 11,
   "outputs": [
    {
     "name": "stdout",
     "output_type": "stream",
     "text": [
      "Cholesky Solution Time: 0.268060 seconds\n"
     ]
    }
   ],
   "source": [
    "start_time = time.time()\n",
    "x_cholesky=cholesky_solve(Sigma,ytr)\n",
    "time_cholesky = time.time() - start_time\n",
    "print(f\"Cholesky Solution Time: {time_cholesky:.6f} seconds\")"
   ],
   "metadata": {
    "collapsed": false,
    "ExecuteTime": {
     "end_time": "2024-07-08T23:36:20.386791300Z",
     "start_time": "2024-07-08T23:36:20.113198600Z"
    }
   }
  },
  {
   "cell_type": "code",
   "execution_count": 13,
   "outputs": [
    {
     "name": "stdout",
     "output_type": "stream",
     "text": [
      "Conjugate Gradient Residual Norm: 1.945838e-02\n",
      "Cholesky Residual Norm: 8.868066e-10\n"
     ]
    }
   ],
   "source": [
    "residual_norm_cg=verify_solution(Sigma, ytr, x_cg)\n",
    "residual_norm_cholesky=verify_solution(Sigma, ytr, x_cholesky)\n",
    "print(f\"Conjugate Gradient Residual Norm: {residual_norm_cg:.6e}\")\n",
    "print(f\"Cholesky Residual Norm: {residual_norm_cholesky:.6e}\")"
   ],
   "metadata": {
    "collapsed": false,
    "ExecuteTime": {
     "end_time": "2024-07-08T23:36:29.193454200Z",
     "start_time": "2024-07-08T23:36:29.123978300Z"
    }
   }
  },
  {
   "cell_type": "markdown",
   "source": [
    "As we can see from the above results, the Conjugate Gradient method solves the linear system much faster than Cholesky decomposition with acceptable accuracy. Users can set a smaller tolerance for better accuracy, but due to floating-point errors, this is often unnecessary. The next challenge is to solve for the log determinant of the covariance matrix, here we propose a numerically stable version of [Lanczos algorithm for quadratic forms](https://shashankaubaru.github.io/Papers/Lanc_Quad.pdf)."
   ],
   "metadata": {
    "collapsed": false
   }
  },
  {
   "cell_type": "code",
   "execution_count": 25,
   "outputs": [],
   "source": [
    "import torch\n",
    "\n",
    "def lanc_quad_logdet(A, m=10, nvecs=10):\n",
    "    \"\"\"\n",
    "    Estimate the log-determinant of a symmetric positive definite matrix using\n",
    "    the Stochastic Lanczos Quadrature (SLQ) method.\n",
    "\n",
    "    Parameters:\n",
    "    A (torch.Tensor): The symmetric positive definite input matrix.\n",
    "    m (int): Number of Lanczos steps (degree).\n",
    "    nvecs (int): Number of starting vectors.\n",
    "\n",
    "    Returns:\n",
    "    z1 mean: The average of estimates for starting vectors.\n",
    "    \"\"\"\n",
    "    n = A.shape[0]\n",
    "    z1 = torch.zeros(nvecs, dtype=A.dtype, device=A.device)\n",
    "\n",
    "    for ii in range(nvecs):\n",
    "        w = torch.sign(torch.randn(n, dtype=A.dtype, device=A.device))  # Random Rademacher vector\n",
    "        v0 = w / torch.norm(w)\n",
    "\n",
    "        # Lanczos algorithm\n",
    "        V = torch.zeros((n, m), dtype=A.dtype, device=A.device)\n",
    "        alpha = torch.zeros(m, dtype=A.dtype, device=A.device)\n",
    "        beta = torch.zeros(m-1, dtype=A.dtype, device=A.device)\n",
    "        V[:, 0] = v0.clone()\n",
    "\n",
    "\n",
    "        w = A @ V[:, 0]\n",
    "        alpha[0] = torch.dot(V[:, 0], w)\n",
    "        w = w - alpha[0] * V[:, 0]\n",
    "\n",
    "        for j in range(1, m):\n",
    "            beta[j-1] = torch.norm(w)\n",
    "            if beta[j-1] != 0:\n",
    "                V[:, j] = w / beta[j-1]\n",
    "                w_new = A @ V[:, j] - beta[j-1] * V[:, j-1]\n",
    "                alpha[j] = torch.dot(V[:, j], w_new)\n",
    "                w = w_new - alpha[j] * V[:, j]\n",
    "\n",
    "        H = torch.diag(alpha) + torch.diag(beta, 1) + torch.diag(beta, -1)\n",
    "\n",
    "        eigvals, eigvecs = torch.linalg.eigh(H)\n",
    "        theta = torch.abs(eigvals)\n",
    "        gamma2 = eigvecs[0, :]**2\n",
    "\n",
    "        # Sum of gamma2 * log(theta)\n",
    "        count = torch.sum(gamma2 * torch.log(theta))\n",
    "        z1[ii] = count * n\n",
    "\n",
    "    return z1.mean()\n"
   ],
   "metadata": {
    "collapsed": false,
    "ExecuteTime": {
     "end_time": "2024-07-08T23:47:13.657538600Z",
     "start_time": "2024-07-08T23:47:13.643657100Z"
    }
   }
  },
  {
   "cell_type": "code",
   "execution_count": 28,
   "outputs": [
    {
     "name": "stdout",
     "output_type": "stream",
     "text": [
      "Lanczos Quadrature Time: 0.259296 seconds\n",
      "Log determinant (SLQ): -7969.254095540607\n"
     ]
    }
   ],
   "source": [
    "start_time = time.time()\n",
    "log_det_lanc = lanc_quad_logdet(Sigma)\n",
    "end_time = time.time()\n",
    "print(f\"Lanczos Quadrature Time: {end_time - start_time:.6f} seconds\")\n",
    "print(f\"Log determinant (SLQ): {log_det_lanc}\")"
   ],
   "metadata": {
    "collapsed": false,
    "ExecuteTime": {
     "end_time": "2024-07-08T23:47:20.580415600Z",
     "start_time": "2024-07-08T23:47:20.316494700Z"
    }
   }
  },
  {
   "cell_type": "code",
   "execution_count": 30,
   "outputs": [
    {
     "name": "stdout",
     "output_type": "stream",
     "text": [
      "Cholesky Decomposition Time: 0.269092 seconds\n",
      "Exact log determinant (Cholesky): -7967.792402458366\n"
     ]
    }
   ],
   "source": [
    "start_time = time.time()\n",
    "L = torch.linalg.cholesky(Sigma)\n",
    "log_det_cholesky=2 * torch.sum(torch.log(torch.diag(L)))\n",
    "end_time = time.time()\n",
    "print(f\"Cholesky Decomposition Time: {end_time - start_time:.6f} seconds\")\n",
    "print(f\"Exact log determinant (Cholesky): {log_det_cholesky.item()}\")"
   ],
   "metadata": {
    "collapsed": false,
    "ExecuteTime": {
     "end_time": "2024-07-08T23:47:53.480174500Z",
     "start_time": "2024-07-08T23:47:53.206647Z"
    }
   }
  },
  {
   "cell_type": "markdown",
   "source": [
    "Again the difference is acceptable. Now we can build our standard GP with new inference methods that leverage GPU acceleration."
   ],
   "metadata": {
    "collapsed": false
   }
  },
  {
   "cell_type": "code",
   "execution_count": 36,
   "outputs": [],
   "source": [
    "def negative_log_likelihood(xtr, ytr, kernel,log_beta):\n",
    "    n = xtr.shape[0]\n",
    "    Sigma = kernel(xtr, xtr) + torch.eye(n, device=device) * torch.exp(log_beta) + JITTER * torch.eye(n, device=device)\n",
    "    Sigma_inv_y = conjugate_gradient(Sigma, ytr)\n",
    "    #option1:\n",
    "    L=torch.linalg.cholesky(Sigma)\n",
    "    nll = 0.5 * (torch.matmul(ytr.t(), Sigma_inv_y) + 0.5* n * torch.log(2 * torch.tensor(PI))) +L.diag().log().sum()\n",
    "    #option2:\n",
    "    #nll=0.5 * (torch.matmul(ytr.t(), Sigma_inv_y) + 0.5* n * torch.log(2 * torch.tensor(PI)))+lanc_quad_logdet(Sigma)\n",
    "    return nll\n"
   ],
   "metadata": {
    "collapsed": false,
    "ExecuteTime": {
     "end_time": "2024-07-09T00:54:44.425961900Z",
     "start_time": "2024-07-09T00:54:44.419049500Z"
    }
   }
  },
  {
   "cell_type": "code",
   "execution_count": 37,
   "outputs": [],
   "source": [
    "def forward(xtr, ytr, xte, kernel,log_beta):\n",
    "    n_test = xte.size(0)\n",
    "    #xte=data_normalizer.normalize(xte)\n",
    "    Sigma = kernel(xtr, xtr) + torch.eye(xtr.size(0), device=device) * torch.exp(log_beta) + JITTER * torch.eye(xtr.size(0), device=device)\n",
    "\n",
    "    K_s = kernel(xtr, xte)\n",
    "\n",
    "\n",
    "    mean=K_s.t()@conjugate_gradient(Sigma, ytr)\n",
    "\n",
    "    #option 1 (standard):\n",
    "    #K_ss= kernel(xte, xte)\n",
    "    #var_diag=K_ss.diag().view(-1,1)-  K_s.t()@conjugate_gradient(Sigma, K_s).sum(dim = 0).view(-1, 1)\n",
    "\n",
    "    #option 2 (fast):\n",
    "    var_diag = kernel.signal_variance.exp().expand(n_test, 1).to(device) -  (K_s.t()@conjugate_gradient(Sigma, K_s)).sum(dim = 0).view(-1, 1)\n",
    "    # The first term of above equation might be different if you use a different kernel!\n",
    "\n",
    "    var_diag = var_diag + log_beta.exp().pow(-1)\n",
    "\n",
    "    # Denormalize\n",
    "    #mean, var_diag = data_normalizer.denormalize_result(mean, var_diag)\n",
    "    return mean, var_diag"
   ],
   "metadata": {
    "collapsed": false,
    "ExecuteTime": {
     "end_time": "2024-07-09T00:54:45.189555800Z",
     "start_time": "2024-07-09T00:54:45.180953900Z"
    }
   }
  },
  {
   "cell_type": "code",
   "execution_count": 38,
   "outputs": [],
   "source": [
    "def train_adam(xtr, ytr, kernel, log_beta, niteration=10, lr=0.1):\n",
    "    # Adam optimizer\n",
    "    optimizer = optim.Adam([\n",
    "        {'params': kernel.parameters()},\n",
    "        {'params': [log_beta]}\n",
    "    ], lr=lr)\n",
    "\n",
    "    for i in range(niteration):\n",
    "        optimizer.zero_grad()\n",
    "        loss = negative_log_likelihood(xtr, ytr, kernel, log_beta)\n",
    "        loss.backward()\n",
    "        optimizer.step()\n",
    "\n",
    "        # Print kernel parameters\n",
    "        #for name, param in kernel.named_parameters():\n",
    "            #if param.requires_grad:\n",
    "                #print(f'{name}: {param.data}')\n",
    "\n",
    "        #print('log_beta:', log_beta.data)\n",
    "\n",
    "        print('iter', i, 'nll:{:.5f}'.format(loss.item()))"
   ],
   "metadata": {
    "collapsed": false,
    "ExecuteTime": {
     "end_time": "2024-07-09T00:54:46.795593300Z",
     "start_time": "2024-07-09T00:54:46.788525300Z"
    }
   }
  },
  {
   "cell_type": "code",
   "execution_count": 40,
   "outputs": [
    {
     "name": "stdout",
     "output_type": "stream",
     "text": [
      "iter 0 nll:225745.13467\n",
      "iter 1 nll:161026.52072\n",
      "iter 2 nll:117062.95899\n",
      "iter 3 nll:90260.61464\n",
      "iter 4 nll:73503.21980\n",
      "iter 5 nll:61867.62335\n",
      "iter 6 nll:52964.12194\n",
      "iter 7 nll:45749.93405\n",
      "iter 8 nll:39755.55376\n",
      "iter 9 nll:34673.23784\n",
      "iter 10 nll:30197.62861\n",
      "iter 11 nll:26098.09459\n",
      "iter 12 nll:22333.30022\n",
      "iter 13 nll:19037.95026\n",
      "iter 14 nll:16363.52362\n",
      "iter 15 nll:14325.33446\n",
      "iter 16 nll:12809.11168\n",
      "iter 17 nll:11669.66884\n",
      "iter 18 nll:10790.71740\n",
      "iter 19 nll:10091.65439\n",
      "iter 20 nll:9518.17700\n",
      "iter 21 nll:9033.86578\n",
      "iter 22 nll:8614.76921\n",
      "iter 23 nll:8245.26558\n",
      "iter 24 nll:7914.99494\n",
      "iter 25 nll:7616.92913\n",
      "iter 26 nll:7346.03308\n",
      "iter 27 nll:7098.51850\n",
      "iter 28 nll:6871.40635\n",
      "iter 29 nll:6662.27099\n",
      "iter 30 nll:6469.08588\n",
      "iter 31 nll:6290.12764\n",
      "iter 32 nll:6123.91125\n",
      "iter 33 nll:5969.14961\n",
      "iter 34 nll:5824.71257\n",
      "iter 35 nll:5689.61144\n",
      "iter 36 nll:5562.97088\n",
      "iter 37 nll:5444.01862\n",
      "iter 38 nll:5332.06809\n",
      "iter 39 nll:5226.53693\n",
      "iter 40 nll:5126.82686\n",
      "iter 41 nll:5032.47362\n",
      "iter 42 nll:4943.03972\n",
      "iter 43 nll:4858.13152\n",
      "iter 44 nll:4777.39493\n",
      "iter 45 nll:4700.51011\n",
      "iter 46 nll:4627.19005\n",
      "iter 47 nll:4557.16909\n",
      "iter 48 nll:4490.21442\n",
      "iter 49 nll:4426.10947\n",
      "iter 50 nll:4364.65870\n",
      "iter 51 nll:4305.68407\n",
      "iter 52 nll:4249.02291\n",
      "iter 53 nll:4194.52714\n",
      "iter 54 nll:4142.06101\n",
      "iter 55 nll:4091.50080\n",
      "iter 56 nll:4042.73240\n",
      "iter 57 nll:3995.65149\n",
      "iter 58 nll:3950.16217\n",
      "iter 59 nll:3906.17619\n",
      "iter 60 nll:3863.61215\n",
      "iter 61 nll:3822.39521\n",
      "iter 62 nll:3782.45594\n",
      "iter 63 nll:3743.73025\n",
      "iter 64 nll:3706.15841\n",
      "iter 65 nll:3669.68677\n",
      "iter 66 nll:3634.26283\n",
      "iter 67 nll:3599.84073\n",
      "iter 68 nll:3566.37257\n",
      "iter 69 nll:3533.82077\n",
      "iter 70 nll:3502.14673\n",
      "iter 71 nll:3471.31122\n",
      "iter 72 nll:3441.28370\n",
      "iter 73 nll:3412.03153\n",
      "iter 74 nll:3383.52539\n",
      "iter 75 nll:3355.73639\n",
      "iter 76 nll:3328.63934\n",
      "iter 77 nll:3302.20907\n",
      "iter 78 nll:3276.42229\n",
      "iter 79 nll:3251.25569\n",
      "iter 80 nll:3226.69201\n",
      "iter 81 nll:3202.70786\n",
      "iter 82 nll:3179.28521\n",
      "iter 83 nll:3156.40702\n",
      "iter 84 nll:3134.05631\n",
      "iter 85 nll:3112.21619\n",
      "iter 86 nll:3090.87233\n",
      "iter 87 nll:3070.00907\n",
      "iter 88 nll:3049.61087\n",
      "iter 89 nll:3029.66724\n",
      "iter 90 nll:3010.16289\n",
      "iter 91 nll:2991.08900\n",
      "iter 92 nll:2972.43026\n",
      "iter 93 nll:2954.17645\n",
      "iter 94 nll:2936.31664\n",
      "iter 95 nll:2918.84034\n",
      "iter 96 nll:2901.73789\n",
      "iter 97 nll:2884.99821\n",
      "iter 98 nll:2868.61323\n",
      "iter 99 nll:2852.57366\n"
     ]
    }
   ],
   "source": [
    "start_time = time.time()\n",
    "train_adam(xtr, ytr, kernel, log_beta, niteration=100,lr=0.1)\n",
    "end_time = time.time()\n",
    "cg_gp_time=end_time-start_time"
   ],
   "metadata": {
    "collapsed": false,
    "ExecuteTime": {
     "end_time": "2024-07-09T00:55:58.095435200Z",
     "start_time": "2024-07-09T00:55:32.217632800Z"
    }
   }
  },
  {
   "cell_type": "code",
   "execution_count": 41,
   "outputs": [
    {
     "data": {
      "text/plain": "<Figure size 640x480 with 1 Axes>",
      "image/png": "[encoded data removed]"
     },
     "metadata": {},
     "output_type": "display_data"
    }
   ],
   "source": [
    "with torch.no_grad():\n",
    "    ypred, yvar = forward(xtr, ytr, xte, kernel,log_beta)\n",
    "plt.errorbar(xte.cpu().numpy().reshape(100), ypred.detach().cpu().numpy().reshape(100),\n",
    "             yerr=yvar.cpu().sqrt().squeeze().detach().numpy(), fmt='r-.', alpha=0.2)\n",
    "plt.plot(xtr.cpu().numpy(), ytr.cpu().numpy(), 'b+')\n",
    "plt.show()"
   ],
   "metadata": {
    "collapsed": false,
    "ExecuteTime": {
     "end_time": "2024-07-09T00:56:01.418162200Z",
     "start_time": "2024-07-09T00:56:00.644677900Z"
    }
   }
  },
  {
   "cell_type": "code",
   "execution_count": 55,
   "outputs": [
    {
     "name": "stdout",
     "output_type": "stream",
     "text": [
      "iter 0 nll:1992.60405\n",
      "iter 10 nll:1004.92647\n",
      "iter 20 nll:256.53823\n",
      "iter 30 nll:-130.12748\n",
      "iter 40 nll:-119.43786\n",
      "iter 50 nll:-138.47822\n",
      "iter 60 nll:-151.89502\n",
      "iter 70 nll:-150.11973\n",
      "iter 80 nll:-152.93419\n",
      "iter 90 nll:-152.62457\n"
     ]
    }
   ],
   "source": [
    "start_time = time.time()\n",
    "xtr,ytr=xtr.cpu(),ytr.cpu()\n",
    "model=cigp(xtr,ytr)\n",
    "model.train_adam(100,0.1)\n",
    "end_time = time.time()\n",
    "standard_gp_time=end_time-start_time"
   ],
   "metadata": {
    "collapsed": false,
    "ExecuteTime": {
     "end_time": "2024-07-05T00:44:50.395376400Z",
     "start_time": "2024-07-05T00:44:08.146128400Z"
    }
   }
  },
  {
   "cell_type": "code",
   "execution_count": 56,
   "outputs": [
    {
     "name": "stdout",
     "output_type": "stream",
     "text": [
      "42.24608373641968\n"
     ]
    }
   ],
   "source": [
    "print(standard_gp_time)"
   ],
   "metadata": {
    "collapsed": false,
    "ExecuteTime": {
     "end_time": "2024-07-05T00:45:05.818294600Z",
     "start_time": "2024-07-05T00:45:05.801377600Z"
    }
   }
  },
  {
   "cell_type": "code",
   "execution_count": null,
   "outputs": [],
   "source": [],
   "metadata": {
    "collapsed": false
   }
  }
 ],
 "metadata": {
  "kernelspec": {
   "display_name": "Python 3",
   "language": "python",
   "name": "python3"
  },
  "language_info": {
   "codemirror_mode": {
    "name": "ipython",
    "version": 2
   },
   "file_extension": ".py",
   "mimetype": "text/x-python",
   "name": "python",
   "nbconvert_exporter": "python",
   "pygments_lexer": "ipython2",
   "version": "2.7.6"
  }
 },
 "nbformat": 4,
 "nbformat_minor": 0
}
