{
 "cells": [
  {
   "cell_type": "code",
   "execution_count": 27,
   "metadata": {
    "collapsed": true,
    "ExecuteTime": {
     "end_time": "2024-07-19T02:45:01.017658200Z",
     "start_time": "2024-07-19T02:45:01.009454600Z"
    }
   },
   "outputs": [
    {
     "name": "stdout",
     "output_type": "stream",
     "text": [
      "a: 0.30000000000000004\n",
      "b: 0.3\n",
      "a == b: False\n",
      "Difference: 5.551115123125783e-17\n"
     ]
    }
   ],
   "source": [
    "import torch\n",
    "\n",
    "a = 0.1 + 0.2\n",
    "b = 0.3\n",
    "\n",
    "print(\"a:\", a)\n",
    "print(\"b:\", b)\n",
    "print(\"a == b:\", a == b)\n",
    "print(\"Difference:\", abs(a - b))"
   ]
  },
  {
   "cell_type": "code",
   "execution_count": 2,
   "outputs": [],
   "source": [
    "import struct\n",
    "\n",
    "def float_to_ieee754_components(f):\n",
    "    # Convert the float to raw binary representation\n",
    "    binary_rep = struct.unpack('>I', struct.pack('>f', f))[0]\n",
    "\n",
    "    # Extract sign (1 bit), exponent (8 bits), and significand (23 bits)\n",
    "    sign = (binary_rep >> 31) & 0x1\n",
    "    exponent = (binary_rep >> 23) & 0xFF\n",
    "    significand = binary_rep & 0x7FFFFF\n",
    "\n",
    "    # Compute the actual exponent by subtracting the bias (127 for single precision)\n",
    "    actual_exponent = exponent - 127\n",
    "\n",
    "    # Convert the significand to the normalized form by adding the implicit leading 1\n",
    "    if exponent != 0:\n",
    "        normalized_significand = 1 + significand / (2**23)\n",
    "    else:\n",
    "        # Handle the case for denormals\n",
    "        normalized_significand = significand / (2**23)\n",
    "\n",
    "    return sign, actual_exponent, normalized_significand\n",
    "\n",
    "def print_float_components(f):\n",
    "    sign, exponent, significand = float_to_ieee754_components(f)\n",
    "    print(f\"Floating-point number: {f}\")\n",
    "    print(f\"Sign: {sign}\")\n",
    "    print(f\"Exponent (actual): {exponent}\")\n",
    "    print(f\"Significand (normalized): {significand}\")\n",
    "    print(f\"Representation: (-1)^{sign} * {significand} * 2^{exponent}\")"
   ],
   "metadata": {
    "collapsed": false,
    "ExecuteTime": {
     "end_time": "2024-07-19T02:22:26.442605700Z",
     "start_time": "2024-07-19T02:22:26.430369400Z"
    }
   }
  },
  {
   "cell_type": "code",
   "execution_count": 31,
   "outputs": [
    {
     "name": "stdout",
     "output_type": "stream",
     "text": [
      "Floating-point number: 0.1\n",
      "Sign: 0\n",
      "Exponent (actual): -4\n",
      "Significand (normalized): 1.600000023841858\n",
      "Representation: (-1)^0 * 1.600000023841858 * 2^-4\n"
     ]
    }
   ],
   "source": [
    "# Example usage\n",
    "float_number = 0.1\n",
    "print_float_components(float_number)"
   ],
   "metadata": {
    "collapsed": false,
    "ExecuteTime": {
     "end_time": "2024-07-19T02:46:15.668660900Z",
     "start_time": "2024-07-19T02:46:15.657779300Z"
    }
   }
  },
  {
   "cell_type": "code",
   "execution_count": 34,
   "outputs": [
    {
     "name": "stdout",
     "output_type": "stream",
     "text": [
      "Floating-point number: 0.2\n",
      "Sign: 0\n",
      "Exponent (actual): -3\n",
      "Significand (normalized): 1.600000023841858\n",
      "Representation: (-1)^0 * 1.600000023841858 * 2^-3\n"
     ]
    }
   ],
   "source": [
    "float_number = 0.2\n",
    "print_float_components(float_number)"
   ],
   "metadata": {
    "collapsed": false,
    "ExecuteTime": {
     "end_time": "2024-07-19T02:46:30.273358Z",
     "start_time": "2024-07-19T02:46:30.260785Z"
    }
   }
  }
 ],
 "metadata": {
  "kernelspec": {
   "display_name": "Python 3",
   "language": "python",
   "name": "python3"
  },
  "language_info": {
   "codemirror_mode": {
    "name": "ipython",
    "version": 2
   },
   "file_extension": ".py",
   "mimetype": "text/x-python",
   "name": "python",
   "nbconvert_exporter": "python",
   "pygments_lexer": "ipython2",
   "version": "2.7.6"
  }
 },
 "nbformat": 4,
 "nbformat_minor": 0
}
