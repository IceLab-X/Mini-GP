{
 "cells": [
  {
   "cell_type": "code",
   "execution_count": 1,
   "metadata": {
    "collapsed": true,
    "ExecuteTime": {
     "end_time": "2024-07-06T02:24:53.532004900Z",
     "start_time": "2024-07-06T02:24:50.785076Z"
    }
   },
   "outputs": [
    {
     "name": "stdout",
     "output_type": "stream",
     "text": [
      "2.2.1\n"
     ]
    }
   ],
   "source": [
    "import torch\n",
    "import torch.nn as nn\n",
    "from data_sample import generate_example_data as data\n",
    "from matplotlib import pyplot as plt\n",
    "import GP_CommonCalculation as GP\n",
    "import kernel\n",
    "from kernel import RBFKernel, LinearKernel, RationalQuadraticKernel, PeriodicKernel\n",
    "import torch.optim as optim\n",
    "import importlib\n",
    "\n",
    "# I use torch (1.11.0) for this work. lower version may not work.\n",
    "from cigp_v10 import cigp\n",
    "import os\n",
    "os.environ['KMP_DUPLICATE_LIB_OK'] = 'True' # Fixing strange error if run in MacOS\n",
    "JITTER = 1e-6\n",
    "EPS = 1e-10\n",
    "PI = 3.1415"
   ]
  },
  {
   "cell_type": "code",
   "execution_count": 2,
   "outputs": [
    {
     "data": {
      "text/plain": "<Figure size 640x480 with 1 Axes>",
      "image/png": "[encoded data removed]"
     },
     "metadata": {},
     "output_type": "display_data"
    }
   ],
   "source": [
    "# generate example data\n",
    "xtr, ytr,xte,yte = data.generate(32,100,seed=42)\n",
    "data.plot(xtr, ytr,xte,yte)"
   ],
   "metadata": {
    "collapsed": false,
    "ExecuteTime": {
     "end_time": "2024-07-06T02:24:54.153606600Z",
     "start_time": "2024-07-06T02:24:54.023761900Z"
    }
   }
  },
  {
   "cell_type": "code",
   "execution_count": 66,
   "outputs": [],
   "source": [
    "class neural_kernel(nn.Module):\n",
    "    def __init__(self, x_dim, num_kernels=3,dtype=torch.float64,EPS=1e-6):\n",
    "        \"\"\"\n",
    "        Initializes the neural_kernel class.\n",
    "\n",
    "        Parameters:\n",
    "        - x_dim (int): The number of dimensions (features) in the input data. This is used for ARD in the kernels.\n",
    "        - num_kernels (int): The number of different kernels whose outputs will be combined. Default is 3.\n",
    "        \"\"\"\n",
    "        super(neural_kernel, self).__init__()\n",
    "        self.RBFKernel_1 = RBFKernel(x_dim)\n",
    "        self.RQKern_1 = RationalQuadraticKernel(x_dim)\n",
    "        self.PerKern_1 = PeriodicKernel(x_dim)\n",
    "        self.linear_1 = nn.Linear(num_kernels, 1,dtype=dtype)\n",
    "        nn.init.uniform_(self.linear_1.weight, a=0.5 * 1. / (2 * self.linear_1.in_features),\n",
    "                         b=0.5 * 3. / (2 * self.linear_1.in_features))\n",
    "        self.EPS = EPS\n",
    "\n",
    "    def forward(self, x1, x2):\n",
    "        \"\"\"\n",
    "        Forward pass through the neural kernel network.\n",
    "\n",
    "        Parameters:\n",
    "        - x1 (Tensor): The first input tensor.\n",
    "        - x2 (Tensor): The second input tensor.\n",
    "\n",
    "        Returns:\n",
    "        - var_act (Tensor): The output tensor after applying the kernels, linear layer, and activation function.\n",
    "        \"\"\"\n",
    "        var1 = self.RBFKernel_1.forward(x1, x2)\n",
    "        var2 = self.PerKern_1.forward(x1, x2)\n",
    "        var3 = self.RQKern_1.forward(x1, x2)\n",
    "        var = torch.stack((var1, var2, var3), dim=-1)  # Stack along a new dimension (third dimension)\n",
    "        var_lin1 = self.linear_1(var).reshape(var1.shape)\n",
    "        return var_lin1.abs()+self.EPS"
   ],
   "metadata": {
    "collapsed": false,
    "ExecuteTime": {
     "end_time": "2024-07-06T02:28:45.043747100Z",
     "start_time": "2024-07-06T02:28:45.041241300Z"
    }
   }
  },
  {
   "cell_type": "code",
   "execution_count": 76,
   "outputs": [],
   "source": [
    "x_dim= xtr.size(1)\n",
    "kernel= neural_kernel(x_dim)"
   ],
   "metadata": {
    "collapsed": false,
    "ExecuteTime": {
     "end_time": "2024-07-06T02:29:14.596726800Z",
     "start_time": "2024-07-06T02:29:14.590714900Z"
    }
   }
  },
  {
   "cell_type": "code",
   "execution_count": 77,
   "outputs": [],
   "source": [
    "#initiate_log_beta\n",
    "log_beta = nn.Parameter(torch.ones(1) * -4) # this is a large noise. we optimize to shrink it to a proper value."
   ],
   "metadata": {
    "collapsed": false,
    "ExecuteTime": {
     "end_time": "2024-07-06T02:29:14.748249200Z",
     "start_time": "2024-07-06T02:29:14.742743200Z"
    }
   }
  },
  {
   "cell_type": "code",
   "execution_count": 78,
   "outputs": [],
   "source": [
    "def negative_log_likelihood(xtr, ytr, kernel,log_beta):\n",
    "    Sigma = kernel(xtr, xtr) + log_beta.exp().pow(-1) * torch.eye(\n",
    "        xtr.size(0)) + JITTER * torch.eye(xtr.size(0))\n",
    "    return -GP.Gaussian_log_likelihood(ytr, Sigma)\n"
   ],
   "metadata": {
    "collapsed": false,
    "ExecuteTime": {
     "end_time": "2024-07-06T02:29:14.956684200Z",
     "start_time": "2024-07-06T02:29:14.950175300Z"
    }
   }
  },
  {
   "cell_type": "code",
   "execution_count": 79,
   "outputs": [],
   "source": [
    "def forward(xtr, ytr, xte, kernel,log_beta):\n",
    "    n_test = xte.size(0)\n",
    "    #xte=data_normalizer.normalize(xte)\n",
    "    Sigma = kernel(xtr, xtr) + log_beta.exp().pow(-1) * torch.eye(\n",
    "        xtr.size(0)) + JITTER * torch.eye(xtr.size(0))\n",
    "\n",
    "    K_s = kernel(xtr, xte)\n",
    "    K_ss= kernel(xte, xte)\n",
    "\n",
    "    mean, var = GP.conditional_Gaussian(ytr, Sigma, K_s, K_ss)\n",
    "\n",
    "    var_diag = var.sum(dim=0).view(-1, 1)\n",
    "    var_diag = var_diag + log_beta.exp().pow(-1)\n",
    "\n",
    "    # Denormalize\n",
    "    #mean, var_diag = data_normalizer.denormalize_result(mean, var_diag)\n",
    "    return mean, var_diag"
   ],
   "metadata": {
    "collapsed": false,
    "ExecuteTime": {
     "end_time": "2024-07-06T02:29:15.107108Z",
     "start_time": "2024-07-06T02:29:15.103600900Z"
    }
   }
  },
  {
   "cell_type": "code",
   "execution_count": 80,
   "outputs": [],
   "source": [
    "def train_adam(xtr, ytr, kernel, log_beta, niteration=10, lr=0.1):\n",
    "    # Adam optimizer\n",
    "    optimizer = optim.Adam([\n",
    "        {'params': kernel.parameters()},\n",
    "        {'params': [log_beta]}\n",
    "    ], lr=lr)\n",
    "\n",
    "    for i in range(niteration):\n",
    "        optimizer.zero_grad()\n",
    "        loss = negative_log_likelihood(xtr, ytr, kernel, log_beta)\n",
    "        loss.backward()\n",
    "        optimizer.step()\n",
    "\n",
    "        # Print kernel parameters\n",
    "        #for name, param in kernel.named_parameters():\n",
    "            #if param.requires_grad:\n",
    "                #print(f'{name}: {param.data}')\n",
    "\n",
    "        #print('log_beta:', log_beta.data)\n",
    "        if i % 10 == 0:\n",
    "            print('iter', i, 'nll:{:.5f}'.format(loss.item()))"
   ],
   "metadata": {
    "collapsed": false,
    "ExecuteTime": {
     "end_time": "2024-07-06T02:29:15.284177Z",
     "start_time": "2024-07-06T02:29:15.278669700Z"
    }
   }
  },
  {
   "cell_type": "code",
   "execution_count": 81,
   "outputs": [
    {
     "name": "stdout",
     "output_type": "stream",
     "text": [
      "iter 0 nll:97.26187\n",
      "iter 10 nll:93.79057\n",
      "iter 20 nll:90.88182\n",
      "iter 30 nll:88.57404\n",
      "iter 40 nll:86.73931\n",
      "iter 50 nll:85.30034\n",
      "iter 60 nll:84.22577\n",
      "iter 70 nll:83.38669\n",
      "iter 80 nll:82.79447\n",
      "iter 90 nll:82.37367\n",
      "iter 100 nll:82.10181\n",
      "iter 110 nll:81.89511\n",
      "iter 120 nll:81.75954\n",
      "iter 130 nll:81.65981\n",
      "iter 140 nll:81.58545\n",
      "iter 150 nll:81.56193\n",
      "iter 160 nll:81.13234\n",
      "iter 170 nll:77.68457\n",
      "iter 180 nll:73.49731\n",
      "iter 190 nll:70.09784\n",
      "iter 200 nll:67.02385\n",
      "iter 210 nll:69.92634\n",
      "iter 220 nll:67.21576\n",
      "iter 230 nll:64.85442\n",
      "iter 240 nll:64.20550\n",
      "iter 250 nll:64.09090\n",
      "iter 260 nll:64.05005\n",
      "iter 270 nll:64.01907\n",
      "iter 280 nll:63.99943\n",
      "iter 290 nll:63.98901\n",
      "iter 300 nll:63.98263\n",
      "iter 310 nll:63.97749\n",
      "iter 320 nll:63.97276\n",
      "iter 330 nll:63.96832\n",
      "iter 340 nll:63.96419\n",
      "iter 350 nll:63.96032\n",
      "iter 360 nll:63.95666\n",
      "iter 370 nll:63.95319\n",
      "iter 380 nll:63.94987\n",
      "iter 390 nll:63.94670\n"
     ]
    }
   ],
   "source": [
    "train_adam(xtr, ytr, kernel, log_beta, niteration=400,lr=0.03)"
   ],
   "metadata": {
    "collapsed": false,
    "ExecuteTime": {
     "end_time": "2024-07-06T02:29:16.548901Z",
     "start_time": "2024-07-06T02:29:15.457165700Z"
    }
   }
  },
  {
   "cell_type": "code",
   "execution_count": 82,
   "outputs": [],
   "source": [
    "with torch.no_grad():\n",
    "    ypred, yvar = forward(xtr, ytr, xte, kernel,log_beta)"
   ],
   "metadata": {
    "collapsed": false,
    "ExecuteTime": {
     "end_time": "2024-07-06T02:29:17.059581200Z",
     "start_time": "2024-07-06T02:29:17.053114800Z"
    }
   }
  },
  {
   "cell_type": "code",
   "execution_count": 83,
   "outputs": [
    {
     "data": {
      "text/plain": "<Figure size 640x480 with 1 Axes>",
      "image/png": "[encoded data removed]"
     },
     "metadata": {},
     "output_type": "display_data"
    }
   ],
   "source": [
    "#xtr,ytr=data_normalizer.denormalize(xtr,ytr)\n",
    "plt.errorbar(xte.numpy().reshape(100), ypred.detach().numpy().reshape(100),\n",
    "             yerr=yvar.sqrt().squeeze().detach().numpy(), fmt='r-.', alpha=0.2)\n",
    "plt.plot(xtr.numpy(), ytr.numpy(), 'b+')\n",
    "plt.show()"
   ],
   "metadata": {
    "collapsed": false,
    "ExecuteTime": {
     "end_time": "2024-07-06T02:29:17.505536Z",
     "start_time": "2024-07-06T02:29:17.411362700Z"
    }
   }
  },
  {
   "cell_type": "code",
   "execution_count": 84,
   "outputs": [
    {
     "name": "stdout",
     "output_type": "stream",
     "text": [
      "iter 0 nll:42.66771\n",
      "iter 10 nll:31.22810\n",
      "iter 20 nll:24.20384\n",
      "iter 30 nll:23.08859\n",
      "iter 40 nll:23.10083\n",
      "iter 50 nll:22.75421\n",
      "iter 60 nll:22.79893\n",
      "iter 70 nll:22.74644\n",
      "iter 80 nll:22.75299\n",
      "iter 90 nll:22.74604\n",
      "mse_neuralKernel: tensor(0.2561, dtype=torch.float64)\n",
      "mse_standardGP: tensor(0.2392, dtype=torch.float64)\n"
     ]
    }
   ],
   "source": [
    "#Comparing with standard GP\n",
    "model2=cigp(xtr, ytr)\n",
    "model2.train_adam(100,0.1)\n",
    "with torch.no_grad():\n",
    "    ypred2, yvar2 = model2.forward(xte)\n",
    "mse_neuralKernel = ((yte - ypred) ** 2).mean()\n",
    "mse_standardGP = ((yte - ypred2) ** 2).mean()\n",
    "print('mse_neuralKernel:',mse_neuralKernel)\n",
    "print('mse_standardGP:',mse_standardGP)"
   ],
   "metadata": {
    "collapsed": false,
    "ExecuteTime": {
     "end_time": "2024-07-06T02:29:18.438901600Z",
     "start_time": "2024-07-06T02:29:18.301028100Z"
    }
   }
  }
 ],
 "metadata": {
  "kernelspec": {
   "display_name": "Python 3",
   "language": "python",
   "name": "python3"
  },
  "language_info": {
   "codemirror_mode": {
    "name": "ipython",
    "version": 2
   },
   "file_extension": ".py",
   "mimetype": "text/x-python",
   "name": "python",
   "nbconvert_exporter": "python",
   "pygments_lexer": "ipython2",
   "version": "2.7.6"
  }
 },
 "nbformat": 4,
 "nbformat_minor": 0
}
