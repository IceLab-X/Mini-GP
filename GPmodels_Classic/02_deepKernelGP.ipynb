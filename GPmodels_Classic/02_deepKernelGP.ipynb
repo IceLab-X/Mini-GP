{
 "cells": [
  {
   "cell_type": "code",
   "execution_count": 15,
   "metadata": {
    "ExecuteTime": {
     "end_time": "2024-07-06T02:09:03.551070500Z",
     "start_time": "2024-07-06T02:09:03.545563300Z"
    }
   },
   "outputs": [],
   "source": [
    "import torch\n",
    "import torch.nn as nn\n",
    "from data_sample import generate_example_data as data\n",
    "from matplotlib import pyplot as plt\n",
    "import GP_CommonCalculation as GP\n",
    "from kernel import ARDKernel\n",
    "import torch.optim as optim\n",
    "# I use torch (1.11.0) for this work. lower version may not work.\n",
    "from cigp_v10 import cigp\n",
    "import os\n",
    "os.environ['KMP_DUPLICATE_LIB_OK'] = 'True' # Fixing strange error if run in MacOS\n",
    "JITTER = 1e-6\n",
    "EPS = 1e-10\n",
    "PI = 3.1415"
   ]
  },
  {
   "cell_type": "code",
   "execution_count": 16,
   "outputs": [
    {
     "data": {
      "text/plain": "<Figure size 640x480 with 1 Axes>",
      "image/png": "[encoded data removed]"
     },
     "metadata": {},
     "output_type": "display_data"
    }
   ],
   "source": [
    "# generate example data\n",
    "xtr, ytr,xte,yte = data.generate(32,100,seed=42,input_dim=1)\n",
    "data.plot(xtr, ytr,xte,yte)"
   ],
   "metadata": {
    "collapsed": false,
    "ExecuteTime": {
     "end_time": "2024-07-06T02:09:04.050623800Z",
     "start_time": "2024-07-06T02:09:03.951323900Z"
    }
   }
  },
  {
   "cell_type": "code",
   "execution_count": 17,
   "outputs": [],
   "source": [
    "kernel= ARDKernel(1)"
   ],
   "metadata": {
    "collapsed": false,
    "ExecuteTime": {
     "end_time": "2024-07-06T02:09:04.364519800Z",
     "start_time": "2024-07-06T02:09:04.357010900Z"
    }
   }
  },
  {
   "cell_type": "code",
   "execution_count": 18,
   "outputs": [],
   "source": [
    "#initiate_log_beta\n",
    "log_beta = nn.Parameter(torch.ones(1) * -4) # this is a large noise. we optimize to shrink it to a proper value."
   ],
   "metadata": {
    "collapsed": false,
    "ExecuteTime": {
     "end_time": "2024-07-06T02:09:04.611806500Z",
     "start_time": "2024-07-06T02:09:04.604282100Z"
    }
   }
  },
  {
   "cell_type": "code",
   "execution_count": 19,
   "outputs": [],
   "source": [
    "class FeatureExtractor(nn.Module):\n",
    "    def __init__(self, input_dim=1):\n",
    "        super(FeatureExtractor, self).__init__()\n",
    "        self.network = nn.Sequential(\n",
    "            nn.Linear(input_dim, input_dim * 4),\n",
    "            nn.LeakyReLU(),\n",
    "            nn.Linear(input_dim * 4, input_dim * 2),\n",
    "            nn.LeakyReLU(),\n",
    "            nn.Linear(input_dim * 2, input_dim),\n",
    "        )\n",
    "\n",
    "    def forward(self, x):\n",
    "        return self.network(x)"
   ],
   "metadata": {
    "collapsed": false,
    "ExecuteTime": {
     "end_time": "2024-07-06T02:09:04.851335800Z",
     "start_time": "2024-07-06T02:09:04.843082800Z"
    }
   }
  },
  {
   "cell_type": "markdown",
   "source": [
    "If you want to normalize the data, you should do it after the feature extraction."
   ],
   "metadata": {
    "collapsed": false
   }
  },
  {
   "cell_type": "code",
   "execution_count": 20,
   "outputs": [],
   "source": [
    "feature_extractor = FeatureExtractor()"
   ],
   "metadata": {
    "collapsed": false,
    "ExecuteTime": {
     "end_time": "2024-07-06T02:09:05.261871900Z",
     "start_time": "2024-07-06T02:09:05.257065900Z"
    }
   }
  },
  {
   "cell_type": "code",
   "execution_count": 21,
   "outputs": [],
   "source": [
    "def negative_log_likelihood(xtr, ytr, kernel,log_beta,feature_extractor):\n",
    "    x_train=feature_extractor.forward(xtr)\n",
    "    Sigma = kernel(x_train, x_train) + log_beta.exp().pow(-1) * torch.eye(\n",
    "        xtr.size(0)) + JITTER * torch.eye(x_train.size(0))\n",
    "    return -GP.Gaussian_log_likelihood(ytr, Sigma)"
   ],
   "metadata": {
    "collapsed": false,
    "ExecuteTime": {
     "end_time": "2024-07-06T02:09:05.461021300Z",
     "start_time": "2024-07-06T02:09:05.455119900Z"
    }
   }
  },
  {
   "cell_type": "code",
   "execution_count": 22,
   "outputs": [],
   "source": [
    "def forward(xtr, ytr, xte, kernel,log_beta,feature_extractor):\n",
    "    x_train=feature_extractor.forward(xtr)\n",
    "    x_test=feature_extractor.forward(xte)\n",
    "    Sigma = kernel(x_train, x_train) + log_beta.exp().pow(-1) * torch.eye(\n",
    "       x_train.size(0)) + JITTER * torch.eye(x_train.size(0))\n",
    "\n",
    "    K_s = kernel(x_train, x_test)\n",
    "    K_ss= kernel(x_test, x_test)\n",
    "\n",
    "    mean, var = GP.conditional_Gaussian(ytr, Sigma, K_s, K_ss)\n",
    "\n",
    "    var_diag = var.sum(dim=0).view(-1, 1)\n",
    "    var_diag = var_diag + log_beta.exp().pow(-1)\n",
    "\n",
    "    return mean, var_diag"
   ],
   "metadata": {
    "collapsed": false,
    "ExecuteTime": {
     "end_time": "2024-07-06T02:09:05.674074300Z",
     "start_time": "2024-07-06T02:09:05.651621200Z"
    }
   }
  },
  {
   "cell_type": "code",
   "execution_count": 23,
   "outputs": [],
   "source": [
    "def train_adam(xtr, ytr, kernel, log_beta,feature_extractor, niteration=10, lr=0.1):\n",
    "    # Adam optimizer\n",
    "    optimizer = optim.Adam([\n",
    "        {'params': feature_extractor.parameters()},\n",
    "        {'params': kernel.parameters()},\n",
    "        {'params': [log_beta]}\n",
    "    ], lr=lr)\n",
    "\n",
    "    for i in range(niteration):\n",
    "        optimizer.zero_grad()\n",
    "        loss = negative_log_likelihood(xtr, ytr, kernel,log_beta,feature_extractor)\n",
    "        loss.backward()\n",
    "        optimizer.step()\n",
    "\n",
    "        # Print kernel parameters\n",
    "        #for name, param in feature_extractor.named_parameters():\n",
    "            #if param.requires_grad:\n",
    "                #print(f'{name}: {param.data}')\n",
    "\n",
    "        #print('log_beta:', log_beta.data)\n",
    "        if i % 10 == 0:\n",
    "            print('iter', i, 'nll:{:.5f}'.format(loss.item()))"
   ],
   "metadata": {
    "collapsed": false,
    "ExecuteTime": {
     "end_time": "2024-07-06T02:09:05.834343Z",
     "start_time": "2024-07-06T02:09:05.828763200Z"
    }
   }
  },
  {
   "cell_type": "code",
   "execution_count": 24,
   "outputs": [
    {
     "name": "stdout",
     "output_type": "stream",
     "text": [
      "iter 0 nll:100.14906\n",
      "iter 10 nll:94.25362\n",
      "iter 20 nll:89.98869\n",
      "iter 30 nll:85.06242\n",
      "iter 40 nll:79.14226\n",
      "iter 50 nll:74.20846\n",
      "iter 60 nll:71.74020\n",
      "iter 70 nll:70.28432\n",
      "iter 80 nll:69.39472\n",
      "iter 90 nll:68.72405\n"
     ]
    }
   ],
   "source": [
    "train_adam(xtr, ytr, kernel, log_beta,feature_extractor, niteration=100,lr=0.1)"
   ],
   "metadata": {
    "collapsed": false,
    "ExecuteTime": {
     "end_time": "2024-07-06T02:09:06.205312700Z",
     "start_time": "2024-07-06T02:09:06.001533300Z"
    }
   }
  },
  {
   "cell_type": "code",
   "execution_count": 25,
   "outputs": [],
   "source": [
    "with torch.no_grad():\n",
    "    ypred, yvar = forward(xtr, ytr, xte, kernel,log_beta,feature_extractor)"
   ],
   "metadata": {
    "collapsed": false,
    "ExecuteTime": {
     "end_time": "2024-07-06T02:09:06.215905200Z",
     "start_time": "2024-07-06T02:09:06.203932900Z"
    }
   }
  },
  {
   "cell_type": "code",
   "execution_count": 26,
   "outputs": [
    {
     "data": {
      "text/plain": "<Figure size 640x480 with 1 Axes>",
      "image/png": "[encoded data removed]"
     },
     "metadata": {},
     "output_type": "display_data"
    }
   ],
   "source": [
    "#xtr,ytr=data_normalizer.denormalize(xtr,ytr)\n",
    "plt.errorbar(xte.numpy().reshape(100), ypred.detach().numpy().reshape(100),\n",
    "             yerr=yvar.sqrt().squeeze().detach().numpy(), fmt='r-.', alpha=0.2)\n",
    "plt.plot(xtr.numpy(), ytr.numpy(), 'b+')\n",
    "plt.show()"
   ],
   "metadata": {
    "collapsed": false,
    "ExecuteTime": {
     "end_time": "2024-07-06T02:09:07.199509300Z",
     "start_time": "2024-07-06T02:09:07.106196500Z"
    }
   }
  },
  {
   "cell_type": "markdown",
   "source": [
    "# Deep Kernel GP vs Standard GP\n",
    "\n",
    "## Objective\n",
    "\n",
    "Demonstrate the performance improvement of Deep Kernel Gaussian Process (GP) over Standard GP when dealing with complex data.\n",
    "\n",
    "## Instructions\n",
    "\n",
    "1. **Modify the Data Generation Function**:\n",
    "   - Change `input_dim` to 4.\n",
    "   - Set the number of training data points to 400.\n",
    "\n",
    "2. **Update the Model Parameters**:\n",
    "   - Change the input dimension of the feature extractor and ARDKernel to 4.\n",
    "   - Set the number of iterations to 600.\n",
    "\n",
    "3. **Run the Code** to Compare Performance of Deep Kernel GP"
   ],
   "metadata": {
    "collapsed": false
   }
  },
  {
   "cell_type": "code",
   "execution_count": null,
   "outputs": [],
   "source": [
    "model2=cigp(xtr, ytr)\n",
    "model2.train_adam(600,0.01)\n",
    "with torch.no_grad():\n",
    "    ypred2, yvar2 = model2.forward(xte)\n",
    "mse_deepKernel = ((yte - ypred) ** 2).mean()\n",
    "mse_standardGP = ((yte - ypred2) ** 2).mean()\n",
    "print('mse_deepKernel:',mse_deepKernel)\n",
    "print('mse_standardGP:',mse_standardGP)"
   ],
   "metadata": {
    "collapsed": false
   }
  }
 ],
 "metadata": {
  "language_info": {
   "name": "python"
  },
  "kernelspec": {
   "name": "python3",
   "language": "python",
   "display_name": "Python 3 (ipykernel)"
  }
 },
 "nbformat": 4,
 "nbformat_minor": 2
}
