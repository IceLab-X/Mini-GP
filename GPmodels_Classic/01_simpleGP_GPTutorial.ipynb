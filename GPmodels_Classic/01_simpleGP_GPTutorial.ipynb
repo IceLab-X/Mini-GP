{
 "cells": [
  {
   "cell_type": "markdown",
   "id": "b43613e7",
   "metadata": {},
   "source": [
    "# GP Tutorial-E02: Simple GP Implementation in an hour\n",
    "Author: Wei W. Xing (wxing.me) <br />\n",
    "Email: wayne.xingle@gmail.com   <br />\n",
    "Date: 2022-03-23    <br />\n",
    "Acknowledgement: Many thanks to my student Yu Xing to help to put this tutorial together.   <br />\n",
    "\n",
    "Abstract: Despite that Gaussian process (GP) has been a long-existing and common used technique, which comes with many useful tutorials, books, articles, and blogs, I found that many (including me as a young student) struggled to put GP into real projects. I believe that the easiest way to learn something is by doing it, instead of preparing all the necessary mathematical backgrounds and diving into theory. Thus, I wrote this tutorials, trying to make it straight-forward to utilize the fancy GP technique, particularly for engineering students.Hopes that you find the tutorial useful."
   ]
  },
  {
   "cell_type": "markdown",
   "id": "927ed342",
   "metadata": {},
   "source": [
    "In this tutorial, we consider a simple case of single output problem, i.e., $y \\in \\mathcal{R}^1$ is a scalar value, corresponding to $\\mathcal{x} \\in \\mathcal{R}^D$, a $D$-value input vector variable.\n",
    "<!-- For the tutorial purpose, we do not  -->\n",
    "<!-- 为了能够降低阅读的难度，我们在Tutorial-E01中将介绍最为简单的GP的代码，也就是指输出$y \\in \\mathcal{R}^1$为1维标量的情况。 -->\n",
    "<!-- 为了能够更加方便阅读以及理解，我们将GP整体的类定义拆分成了相互独立的函数.在最后会将全部包括定义成class的代码展示 -->\n",
    "\n",
    "Let's get started. This implementation is based on Torch, so let's start from importing it."
   ]
  },
  {
   "cell_type": "code",
   "execution_count": 1,
   "id": "50c77362",
   "metadata": {
    "ExecuteTime": {
     "end_time": "2024-07-30T02:26:40.160471900Z",
     "start_time": "2024-07-30T02:26:37.228204300Z"
    }
   },
   "outputs": [
    {
     "name": "stdout",
     "output_type": "stream",
     "text": [
      "2.2.1\n"
     ]
    }
   ],
   "source": [
    "import torch\n",
    "import torch.nn as nn\n",
    "import numpy as np\n",
    "from matplotlib import pyplot as plt\n",
    "import os\n",
    "# from torch.autograd import Variable\n",
    "\n",
    "print(torch.__version__)\n",
    "# I use torch (1.11.0) for this work. lower version may not work.\n",
    "\n",
    "os.environ['KMP_DUPLICATE_LIB_OK'] = 'True' # Fixing strange error if run in MacOS \n",
    "\n",
    "JITTER = 1e-6\n",
    "EPS = 1e-10\n",
    "PI = 3.1415"
   ]
  },
  {
   "cell_type": "markdown",
   "id": "9e8d3d8c",
   "metadata": {},
   "source": [
    "#### 1. Generating synthetic data\n",
    "<!-- 假设真实函数为$y = (6x-2)^2sin(12x-4)$。训练数据 $xtr, ytr$ 分别是$(32, 1)$的列向量，测试数据集$xte, yte$则是选择了100个点，是$(100, 1)$的列向量。 -->\n",
    "Consider the following function as our target function.\n",
    "$$y = (6x-2)^2sin(12x-4)$$\n",
    "We will generate training set $xtr, ytr$ containing 32 samples and testing set $xte, yte$ 100 samples."
   ]
  },
  {
   "cell_type": "code",
   "execution_count": 2,
   "id": "7692b6d6",
   "metadata": {
    "ExecuteTime": {
     "end_time": "2024-07-30T02:26:41.830447Z",
     "start_time": "2024-07-30T02:26:41.709222800Z"
    }
   },
   "outputs": [
    {
     "name": "stdout",
     "output_type": "stream",
     "text": [
      "xtr.size: torch.Size([32, 1]) ytr.size: torch.Size([32, 1])\n",
      "xte.size: torch.Size([100, 1]) yte.size: torch.Size([100, 1])\n"
     ]
    },
    {
     "data": {
      "text/plain": "<Figure size 640x480 with 1 Axes>",
      "image/png": "[encoded data removed]"
     },
     "metadata": {},
     "output_type": "display_data"
    }
   ],
   "source": [
    "#train_set\n",
    "xtr = torch.rand(32, 1)\n",
    "ytr = ((6*xtr - 2)**2) * torch.sin(12*xtr - 4) + torch.randn(32, 1) * 1\n",
    "\n",
    "#test_set\n",
    "xte = torch.linspace(0, 1, 100).view(-1,1)\n",
    "yte = ((6*xte - 2)**2) * torch.sin(12*xte - 4)\n",
    "\n",
    "#plot the data\n",
    "print(\"xtr.size:\", xtr.size(), \"ytr.size:\", ytr.size())\n",
    "print(\"xte.size:\", xte.size(), \"yte.size:\", yte.size())\n",
    "plt.plot(xtr.numpy(), ytr.numpy(), 'b+')\n",
    "plt.plot(xte.numpy(), yte.numpy(), 'r-', alpha = 0.5)\n",
    "plt.show()"
   ]
  },
  {
   "cell_type": "markdown",
   "id": "e32aeed6",
   "metadata": {},
   "source": [
    "<!-- #### 2. 设定可优化参数以及核函数 -->\n",
    "#### 2. Kernel functions and model parameter (hyperparameters)"
   ]
  },
  {
   "cell_type": "markdown",
   "id": "5a97c038",
   "metadata": {},
   "source": [
    "There are two functions, the mean function and the kernel function, that we need to optimize.\n",
    "We cannot optimize a \"function\" easily. Thus we give these functions a particular form to optimize their parameters.\n",
    "In this tutorial, we specify the mean function as a zero function (and there are nothing to optimize for it.)\n",
    "For the kernel function, we use the most commonly used automatic relevance determinant (ARD) kernel:\n",
    "$$k_{ard}(\\mathbf{x}, \\mathbf{x}') = a \\cdot \\exp(-\\frac{1}{2} \\sum_{d=1}^D{ (\\frac{x_d-x'_d}{l_d}})^2 )$$\n",
    "where $a$ is the amplitude of the kernel function, and $l_d$ is called length scale for d-dimensional input ${x}_d$. We can see that $\\mathbf{l}$ controls the contribution of each input dimension, e.g., a larger $l_d$ means that $x_d$ has a larger contribution (compared to other dimensions) on the system and vise versa. Thus this kernel has the name \"ARD\".\n",
    "\n",
    "One more thing before we start coding. Note that $l_d$ and $a$ are both positive parameters. If we directly define them as torch parameters, they might be pushed to negative during the optimization. Thus we need to make sure that they are positive. One simple way to ensure that is to define them as their logarithmic values and take their exponential values when we use them.\n",
    "\n",
    "Now let's define the kernel function, which returns the kernel matrix $K$ for two sets for input data.\n",
    "\n",
    "\n",
    "<!-- 高斯过程中，需要优化的变量是GP的均值函数（中的参数）以及核函数（中的参数）。\n",
    "在这个例子中我们假设均值函数为0，因此不需要优化他。\n",
    "<!-- 在这个最简单的情况下，我们已经设定均值函数为0，所以只需要优化协方差函数，也就是这个模型的kernel，因此在下面的cell里里设定的需要优化的参数其实就是kernel中的超参数。 -->\n",
    "<!-- 我们采用最为经典的 automatic relevance determinant （ARD）核函数： -->\n",
    "<!-- 这里$l_d$对输入的每个维度进行一个缩放，把那些对系统影响最大的因素（对应着$l_d$很大）筛选出来，所以叫做ARD；$a$ 是kernel的scale。 -->\n",
    "<!-- 计算kernel matrix的时候我们通常传入的是多个$\\mathbf{x}$, -->\n",
    "<!-- 另外，由于$l_d$ 和 $a$ 必须大于0。因此我们在写程序的时候定义的是 $\\log(l_d)$。当需要使用的时候再对其进行指数运算，这样保证我们的参数$\\exp{(\\log(l_d))}$永远是正的。 -->\n",
    "\n",
    "<!-- 核函数返回是两个或两组输入之间的核矩阵，我们可以简单地定义核函数： --> \n",
    "\n",
    "\n",
    "<!-- 下面的cell中我们定义了核函数，具体的核函数表达式为(SE/OU)：$$k_{ard} = a\\cdot exp(-\\frac{(x-x')^2-x^2-x'^2}{a})$$ 上述的公式仅是点对点的kernel的值，为了更好的处理大量的数据我们定义的kernel函数将返回一个大小为$(n_X,n_{X2})$的矩阵，其中的第i行，j列元素的含义是：$K_{ij} = k(X_i,X2_j)$。 -->"
   ]
  },
  {
   "cell_type": "code",
   "execution_count": 13,
   "id": "2190321a",
   "metadata": {
    "ExecuteTime": {
     "end_time": "2024-07-30T02:28:12.563946400Z",
     "start_time": "2024-07-30T02:28:12.551307800Z"
    }
   },
   "outputs": [],
   "source": [
    "# define kernel parameters\n",
    "log_length_scale = nn.Parameter(torch.zeros(xte.size(1)))\n",
    "log_scale = nn.Parameter(torch.zeros(1))\n"
   ]
  },
  {
   "cell_type": "code",
   "execution_count": 14,
   "id": "019a10f8",
   "metadata": {
    "ExecuteTime": {
     "end_time": "2024-07-30T02:28:12.825536700Z",
     "start_time": "2024-07-30T02:28:12.724334Z"
    }
   },
   "outputs": [
    {
     "name": "stdout",
     "output_type": "stream",
     "text": [
      "tensor([[1.0000, 0.7473, 0.9998,  ..., 0.9789, 0.9999, 0.9978],\n",
      "        [0.7473, 1.0000, 0.7359,  ..., 0.8563, 0.7561, 0.7845],\n",
      "        [0.9998, 0.7359, 1.0000,  ..., 0.9748, 0.9994, 0.9963],\n",
      "        ...,\n",
      "        [0.9789, 0.8563, 0.9748,  ..., 1.0000, 0.9819, 0.9903],\n",
      "        [0.9999, 0.7561, 0.9994,  ..., 0.9819, 1.0000, 0.9987],\n",
      "        [0.9978, 0.7845, 0.9963,  ..., 0.9903, 0.9987, 1.0000]],\n",
      "       grad_fn=<CopySlices>)\n"
     ]
    }
   ],
   "source": [
    "def kernel(X1, X2, log_length_scale, log_scale): \n",
    "    length_scale = torch.exp(log_length_scale)\n",
    "    K = torch.zeros(X1.size(0), X2.size(0))\n",
    "    \n",
    "    for i in range(X1.size(0)):\n",
    "        for j in range(X2.size(0)):\n",
    "            for d in range(X1.size(1)):\n",
    "                K[i,j] = torch.exp(-0.5 * ((X1[i,d] - X2[j,d])**2 / length_scale[d]**2).sum() ) * torch.exp(log_scale)\n",
    "    return K\n",
    "\n",
    "K1 = kernel(xtr, xtr, log_length_scale, log_scale)\n",
    "print(K1)"
   ]
  },
  {
   "cell_type": "markdown",
   "id": "b9fb9268",
   "metadata": {},
   "source": [
    "*However, we should *NEVER** use a for loop unless we have to. \n",
    "Using the for loop will take a lot time and memory we should have not paid.\n",
    "Let's redo the kernel function in a different way."
   ]
  },
  {
   "cell_type": "code",
   "execution_count": 15,
   "id": "c88c4cbc",
   "metadata": {
    "ExecuteTime": {
     "end_time": "2024-07-30T02:28:13.067053Z",
     "start_time": "2024-07-30T02:28:13.058505900Z"
    }
   },
   "outputs": [
    {
     "name": "stdout",
     "output_type": "stream",
     "text": [
      "tensor([[1.0000, 0.7473, 0.9998,  ..., 0.9789, 0.9999, 0.9978],\n",
      "        [0.7473, 1.0000, 0.7359,  ..., 0.8563, 0.7561, 0.7845],\n",
      "        [0.9998, 0.7359, 1.0000,  ..., 0.9748, 0.9994, 0.9963],\n",
      "        ...,\n",
      "        [0.9789, 0.8563, 0.9748,  ..., 1.0000, 0.9819, 0.9903],\n",
      "        [0.9999, 0.7561, 0.9994,  ..., 0.9819, 1.0000, 0.9987],\n",
      "        [0.9978, 0.7845, 0.9963,  ..., 0.9903, 0.9987, 1.0000]],\n",
      "       grad_fn=<MulBackward0>)\n",
      "tensor(6.2514e-07, grad_fn=<LinalgVectorNormBackward0>)\n"
     ]
    }
   ],
   "source": [
    "def kernel(X1, X2, log_length_scale, log_scale): # 定义核函数没有加linear\n",
    "\n",
    "    X1 = X1 / log_length_scale.exp()\n",
    "    X2 = X2 / log_length_scale.exp()\n",
    "\n",
    "    X1_norm2 = X1 * X1\n",
    "    X2_norm2 = X2 * X2\n",
    "\n",
    "    K = -2.0 * X1 @ X2.t() + X1_norm2.expand(X1.size(0), X2.size(0)) + X2_norm2.t().expand(X1.size(0), X2.size(0))  #this is the effective Euclidean distance matrix between X1 and X2.\n",
    "    K = log_scale.exp() * torch.exp(-0.5 * K)\n",
    "    return K\n",
    "\n",
    "K2 = kernel(xtr, xtr, log_length_scale, log_scale)\n",
    "print(K2)\n",
    "print( (K1 - K2).norm() )\n",
    "\n"
   ]
  },
  {
   "cell_type": "markdown",
   "id": "71fa4bed",
   "metadata": {},
   "source": [
    "We can see that the resulting kernel is the same, whereas the execution time is much faster. You can test a larger xtr to see the difference.\n",
    "\n",
    "We also need to define the noise $\\sigma^2$ of the GP.\n",
    "To be easier to introduce conjugate prior in a later tutorial, instead of defining $\\sigma^2$, we define its inverse $\\beta=1/\\sigma^2$. Again, we need the value positive."
   ]
  },
  {
   "cell_type": "code",
   "execution_count": 16,
   "id": "34dba8e3",
   "metadata": {
    "ExecuteTime": {
     "end_time": "2024-07-30T02:28:13.421254100Z",
     "start_time": "2024-07-30T02:28:13.413246600Z"
    }
   },
   "outputs": [],
   "source": [
    "log_beta = nn.Parameter(torch.ones(1) * -4) # this is a large noise. we optimize to shrink it to a proper value. "
   ]
  },
  {
   "cell_type": "markdown",
   "id": "932c072b",
   "metadata": {},
   "source": [
    "<!-- #### 3. 定义loss损失函数以及优化器 -->\n",
    "#### 3. Negative log likelihood (nll) \n",
    "For almost all regression problems, we aim to minimize a defined loss function. In the GP case, the loss function is the negative log likelihood.\n",
    "It is negative because we want to minimize as like what we do for a loss function; we take the logarithm of the likelihood because it gives a clear form, and the logarithm does not change the monotonicity of the function.\n",
    "The log likelihood is defined as:\n",
    "$$L=-\\frac{1}{2}\\mathbf{y}^T (\\mathbf{K}+\\sigma^2 \\mathbf{I})^{-1}\\mathbf{y}-\\frac{1}{2}\\log(|\\mathbf{K}+\\sigma^2 \\mathbf{I}|)-\\frac{n}{2}log(2\\pi)$$\n",
    "where $\\mathbf{y}$ is the observed data arranged as a $N\\times1$ vector, $\\mathbf{K}$ is the $N\\times N$ kernel matrix (of the training data), $\\sigma^2$ is the noise variance, and $\\mathbf{I}$ is the identity matrix.\n",
    "Rewrite our loss function in nll, we have\n",
    "$$nll=\\frac{1}{2}\\mathbf{y}^T\\mathbf{\\Sigma}^{-1}\\mathbf{y}+\\frac{1}{2}\\log(|\\mathbf{\\Sigma}|)+\\frac{n}{2}log(2\\pi)$$\n",
    "where we define $\\mathbf{\\Sigma}=\\mathbf{K}+\\sigma^2 \\mathbf{I}$ as the inverse of the kernel matrix.\n",
    "\n",
    "We can directly solve code up the nll function and call it in the optimizer. However, we should NOT inverse a matrix unless we have to.\n",
    "To calculate the nll in a more efficeint way and stable, we can use the following trick:\n",
    "\n",
    "First compute the cholesky decomposition of the kernel matrix, $\\mathbf{\\Sigma} = \\mathbf{L} \\mathbf{L}^T$.\n",
    "For the first term in the nll, we have,\n",
    "$$ \\mathbf{y}^T (\\mathbf{K}+\\sigma^2 \\mathbf{I})^{-1}\\mathbf{y} = \\mathbf{y}^T (\\mathbf{L} \\mathbf{L}^T)^{-1} \\mathbf{y} = \\mathbf{y}^T \\mathbf{L}^{-T} \\mathbf{L}^{-1} \\mathbf{y}  = (\\mathbf{L}^{-1} \\mathbf{y})^T \\mathbf{L}^{-1} \\mathbf{y}  $$\n",
    "The formula allows us to avoid inverting the kernel matrix by solving a linear system, $\\mathbf{L} \\mathbf{\\gamma} = \\mathbf{y}$, which gives us $\\mathbf{L}^{-1} \\mathbf{y} = \\mathbf{\\gamma}$.\n",
    "Once we obtain $\\mathbf{\\gamma}$, we can calculate the first term in nll as the L2 norm of  $\\mathbf{\\gamma}$.\n",
    "\n",
    "<!-- Remember that we should not invert a matrix unless we have to.  -->\n",
    "<!-- Define , which will becomes handy lately. -->\n",
    "For the second term in the nll, we have,\n",
    "$$ \\log(|\\mathbf{\\Sigma}|) = \\log(| \\mathbf{L} \\mathbf{L}^T |) =  \\log(|\\mathbf{L}| |\\mathbf{L}^T|) = \\log(\\prod_{i=1}^{N} L_{ii} \\prod_{i=1}^{N} L_{ii}) = 2\\sum_{i=1}^{N}\\log(L_{ii})$$\n",
    "\n",
    "With these two process, the nll becomes:\n",
    "$$nll=\\frac{1}{2} \\mathbf{\\gamma}^T \\mathbf{\\gamma} + \\sum_{i=1}^{N}\\log(L_{ii}) + \\frac{n}{2}log(2\\pi)$$\n",
    "\n",
    "Let's code these up now. It will turn out simple.\n",
    "\n",
    "<!-- 在高斯过程中，我们是通过找极大似然函数对GP进行优化，那么在这里我们的loss就应该是这个模型的似然函数（likelihood）。为了能够更方便计算，通常会对似然函数取log，且为了方便torch中的优化器调用，可以利用求极小值的优化器来对log_likelihood的相反数进行优化。因此下面cell中的negative_log_likelihood函数是模型的-log(likelihood)。\n",
    "$$-L=\\frac{1}{2}y^T\\Sigma^{-1}y+\\frac{1}{2}log(|\\Sigma|)+\\frac{n}{2}log(2\\pi)$$\n",
    "其中$\\Sigma = K(X,X)+ \\frac{1}{\\beta} I+ Jitter\\cdot I$，是加上噪声影响后的协方差矩阵。\n",
    "\n",
    "但是，由于对一个矩阵求逆计算复杂且耗时较长，因此我们采用cholesky分解，将协方差矩阵$\\Sigma$分解为下三角矩阵$L$和其转置矩阵的乘积，也就是：$\\Sigma = LL^T$，因此我们可以先计算中间变量$\\alpha = L^{-1}Y$，降低计算的复杂度，具体推导如下：\n",
    "\\begin{aligned}\n",
    "-L=&\\frac{1}{2}y^T\\Sigma^{-1}y+\\frac{1}{2}log(|\\Sigma|)+\\frac{n}{2}log(2\\pi)\\\\\n",
    "=&\\frac{1}{2}y^T(LL^T)^{-1}y+\\frac{1}{2}log(|LL^T|)+\\frac{n}{2}log(2\\pi)\\\\\n",
    "=&\\frac{1}{2}(yL^{-1})^TyL^{-1}+\\frac{1}{2}log(|LL^T|)+\\frac{n}{2}log(2\\pi)\\\\\n",
    "=&\\alpha^T\\alpha+\\frac{1}{2}log(|\\prod_{i=1}^nL_{ii}|)+\\frac{n}{2}log(2\\pi)\\\\\n",
    "=&\\sum_{i=1}^{n}\\alpha_i^2+\\sum_{i=1}^{n}L_{ii}+\\frac{n}{2}log(2\\pi)\n",
    "\\end{aligned}\n",
    "在计算$\\Sigma$矩阵行列式时利用cholesky分解的特点，有结论：$|\\Sigma|=|\\prod_{i=1}^nL_{ii}|$，返回值为标量。 -->"
   ]
  },
  {
   "cell_type": "code",
   "execution_count": 17,
   "id": "f3b4cd69",
   "metadata": {
    "ExecuteTime": {
     "end_time": "2024-07-30T02:28:13.784976700Z",
     "start_time": "2024-07-30T02:28:13.778628800Z"
    }
   },
   "outputs": [],
   "source": [
    "def negative_log_likelihood(X, Y, log_length_scale, log_scale, log_beta):\n",
    "    y_num = Y.size(0)\n",
    "    Sigma = kernel(X, X, log_length_scale, log_scale) + log_beta.exp().pow(-1) * torch.eye(X.size(0)) + JITTER * torch.eye(X.size(0))   # add JITTER here to avoid singularity\n",
    "    \n",
    "    L = torch.linalg.cholesky(Sigma)\n",
    "    #option 1 (use this if torch supports)\n",
    "    gamma,_ = torch.triangular_solve(Y, L, upper = False)\n",
    "    #option 2\n",
    "    # gamma = L.inverse() @ Y       # we can use this as an alternative because L is a lower triangular matrix.\n",
    "    \n",
    "    nll =  0.5 * (gamma ** 2).sum() +  L.diag().log().sum()  + 0.5 * y_num * torch.log(2 * torch.tensor(PI))\n",
    "    return nll"
   ]
  },
  {
   "cell_type": "markdown",
   "id": "0218da11",
   "metadata": {},
   "source": [
    "<!-- 当设定好loss函数以后就可以借用torch.optim中的优化器对模型进行优化，求极小值。 -->\n",
    "#### 4. Calling the optimizer\n",
    "With the loss/nll defined, we can simply call an optimizer to minimize the loss."
   ]
  },
  {
   "cell_type": "code",
   "execution_count": 18,
   "id": "28a06a7a",
   "metadata": {
    "ExecuteTime": {
     "end_time": "2024-07-30T02:28:14.158880100Z",
     "start_time": "2024-07-30T02:28:14.143485200Z"
    }
   },
   "outputs": [
    {
     "name": "stdout",
     "output_type": "stream",
     "text": [
      "iter 0 nnl:96.43608\n",
      "iter 1 nnl:96.30409\n",
      "iter 2 nnl:96.17240\n",
      "iter 3 nnl:96.04101\n",
      "iter 4 nnl:95.90992\n"
     ]
    }
   ],
   "source": [
    "def train_adam(X, Y, log_length_scale, log_scale, log_beta, niter = 50, lr = 0.001):\n",
    "    optimizer = torch.optim.Adam([log_beta, log_length_scale, log_scale], lr = lr)\n",
    "    optimizer.zero_grad()\n",
    "    for i in range(niter):\n",
    "        optimizer.zero_grad()\n",
    "        # self.update()\n",
    "        loss = negative_log_likelihood(X, Y, log_length_scale, log_scale, log_beta)\n",
    "        loss.backward()\n",
    "        optimizer.step()\n",
    "\n",
    "        # print the nll\n",
    "        # print('iter', i, ' nnl:', loss.item())\n",
    "        print('iter', i, 'nnl:{:.5f}'.format(loss.item()))\n",
    "        # print the likelihood\n",
    "        # print('iter', i, 'nnl:{:.5f}'.format(loss.item()),'likelihood:{:.9f}'.format((-loss).exp().item()) )\n",
    "        \n",
    "train_adam(xtr, ytr,log_length_scale, log_scale, log_beta, 5, 0.01)"
   ]
  },
  {
   "cell_type": "markdown",
   "id": "0dd16b4d",
   "metadata": {},
   "source": [
    "<!-- #### 4. 预测 Predictive Prosterior  -->\n",
    "#### 5. Predictive posterior \n",
    "\n",
    "With the hyperparameters optimized, we can now calculate the predictive posterior following the standard formulations,\n",
    "\\begin{aligned}\n",
    "&\\mu=\\mathbf{k}^* \\Sigma^{-1} \\mathbf{y}\\\\\n",
    "&s^2=\\mathbf{k}_{**}- (\\mathbf{k}^*)^T \\mathbf{\\Sigma}^{-1} \\mathbf{k}^* + {1}/{\\beta}\\\\\n",
    "\\end{aligned}\n",
    "As we mentioned, we should not invert a matrix unless we have to.\n",
    "Again, we utilize the cholesky decomposition to obtain the predictive posterior.\n",
    "Let define $\\mathbf{\\Sigma}^{-1} \\mathbf{y} =  \\mathbf{\\alpha}$, which is conventionally used in the literature and open source codes. \n",
    "The advantage of introducing $\\mathbf{\\alpha}$ is that 1) we can use the cholesky decomposition to compute the predictive posterior; 2) it saves storage and provides quick prediction of the posterior (no more inversion required).\n",
    "<!-- Using $\\mathbf{\\gamma}$,  -->\n",
    "Using $\\mathbf{L}$ to get $\\mathbf{\\alpha}$, we solve the $\\mathbf{L} \\mathbf{\\gamma} = \\mathbf{y}$ first and then compute $\\mathbf{L}^T \\mathbf{y} = \\mathbf{\\gamma}$, which, as you might have seen, is sometimes written in a compact way\n",
    "$$\\mathbf{\\alpha} = \\mathbf{L}^T \\backslash \\mathbf{L} \\backslash \\mathbf{y}$$\n",
    "\n",
    "The computation of $(\\mathbf{k}^*)^T \\mathbf{\\Sigma}^{-1} \\mathbf{k}^*$ is similar to the computation of $\\mathbf{\\gamma}^T \\mathbf{\\gamma}$ in the previous section.\n",
    "\n",
    "<!-- 在预测模块，需要预测的主要为预测点的均值与方差，值得注意的是虽然模型假设均值函数为0但是预测点的均值不必须为0由预测值来决定。预测点的均值与方差表达式如下：\n",
    "\\begin{aligned}\n",
    "&\\mu=k(x^*,x)\\Sigma^{-1}Y=k(x^*,x)(LL^T)^{-1}Y\\\\\n",
    "&s^2=k_{**}-k(x,x^*)\\Sigma^{-1}k(x^*,x)\n",
    "\\end{aligned}\n",
    "为了方便计算，我们依旧利用cholesky分解，$\\Sigma=LL^T$，并且在方差部分由于函数设置是可以多个预测点同时进行计算，所以方差部分，我们仅需要预测方差矩阵的对角线部分的数值。因为噪声较小，所以课假设噪声不影响求逆。$$diag(s^2)=a\\cdot I-diag(k(x,x^*)(LL^T)^{-1}k(x^*,x))+\\frac{1}{\\beta}\\cdot I$$ -->"
   ]
  },
  {
   "cell_type": "code",
   "execution_count": 19,
   "id": "c2a7a68e",
   "metadata": {
    "ExecuteTime": {
     "end_time": "2024-07-30T02:28:14.552946300Z",
     "start_time": "2024-07-30T02:28:14.546438200Z"
    }
   },
   "outputs": [],
   "source": [
    "def forward(X, Xte, log_length_scale, log_scale, log_beta, Y):\n",
    "    n_test = Xte.size(0)\n",
    "    Sigma = kernel(X, X, log_length_scale, log_scale) + log_beta.exp().pow(-1) * torch.eye(\n",
    "        X.size(0)) + JITTER * torch.eye(X.size(0))\n",
    "    kx = kernel(X, Xte, log_length_scale, log_scale)\n",
    "    L = torch.cholesky(Sigma)\n",
    "    \n",
    "    # option 1\n",
    "    mean = kx.t() @ torch.cholesky_solve(Y, L)  # torch.linalg.cholesky()\n",
    "    # option 2\n",
    "    # mean = kx @ torch.L.t().inverse() @ L.inverse() @ Y\n",
    "    \n",
    "    # LinvKx = L.inverse() @ kx.t()  # TODO: the inverse for L should be cheap. check this.\n",
    "        # torch.cholesky_solve(kx.t(), L)\n",
    "    LinvKx,_ = torch.triangular_solve(kx, L, upper = False)\n",
    "    # option 1, standard way\n",
    "    # var_diag = kernel(Xte, Xte, log_length_scale, log_scale).diag().view(-1,1) - (LinvKx.t() @ LinvKx).diag().view(-1, 1)\n",
    "    # option 2, a faster way\n",
    "    var_diag = log_scale.exp().expand(n_test, 1) - (LinvKx**2).sum(dim = 0).view(-1, 1)\n",
    "    var_diag = var_diag + log_beta.exp().pow(-1)\n",
    "    return mean, var_diag"
   ]
  },
  {
   "cell_type": "markdown",
   "id": "552b00a1",
   "metadata": {},
   "source": [
    "#### 6. Testing and validating\n",
    "let try our GP model on the synthetic data and see how well it does."
   ]
  },
  {
   "cell_type": "code",
   "execution_count": 20,
   "id": "5c1078f3",
   "metadata": {
    "ExecuteTime": {
     "end_time": "2024-07-30T02:28:15.600060900Z",
     "start_time": "2024-07-30T02:28:15.375203100Z"
    }
   },
   "outputs": [
    {
     "name": "stdout",
     "output_type": "stream",
     "text": [
      "iter 0 nnl:95.77915\n",
      "iter 1 nnl:94.48756\n",
      "iter 2 nnl:93.22947\n",
      "iter 3 nnl:92.00893\n",
      "iter 4 nnl:90.83039\n",
      "iter 5 nnl:89.69868\n",
      "iter 6 nnl:88.61901\n",
      "iter 7 nnl:87.59702\n",
      "iter 8 nnl:86.63860\n",
      "iter 9 nnl:85.74992\n",
      "iter 10 nnl:84.93724\n",
      "iter 11 nnl:84.20670\n",
      "iter 12 nnl:83.56409\n",
      "iter 13 nnl:83.01439\n",
      "iter 14 nnl:82.56127\n",
      "iter 15 nnl:82.20659\n",
      "iter 16 nnl:81.94957\n",
      "iter 17 nnl:81.78621\n",
      "iter 18 nnl:81.70866\n",
      "iter 19 nnl:81.70490\n",
      "iter 20 nnl:81.75903\n",
      "iter 21 nnl:81.85210\n",
      "iter 22 nnl:81.96374\n",
      "iter 23 nnl:82.07415\n",
      "iter 24 nnl:82.16637\n",
      "iter 25 nnl:82.22806\n",
      "iter 26 nnl:82.25240\n",
      "iter 27 nnl:82.23826\n",
      "iter 28 nnl:82.18938\n",
      "iter 29 nnl:82.11301\n",
      "iter 30 nnl:82.01843\n",
      "iter 31 nnl:81.91537\n",
      "iter 32 nnl:81.81281\n",
      "iter 33 nnl:81.71795\n",
      "iter 34 nnl:81.63575\n",
      "iter 35 nnl:81.56889\n",
      "iter 36 nnl:81.51816\n",
      "iter 37 nnl:81.48302\n",
      "iter 38 nnl:81.46201\n",
      "iter 39 nnl:81.45312\n",
      "iter 40 nnl:81.45383\n",
      "iter 41 nnl:81.46133\n",
      "iter 42 nnl:81.47263\n",
      "iter 43 nnl:81.48479\n",
      "iter 44 nnl:81.49532\n",
      "iter 45 nnl:81.50243\n",
      "iter 46 nnl:81.50506\n",
      "iter 47 nnl:81.50291\n",
      "iter 48 nnl:81.49627\n",
      "iter 49 nnl:81.48580\n",
      "iter 50 nnl:81.47247\n",
      "iter 51 nnl:81.45730\n",
      "iter 52 nnl:81.44125\n",
      "iter 53 nnl:81.42516\n",
      "iter 54 nnl:81.40965\n",
      "iter 55 nnl:81.39504\n",
      "iter 56 nnl:81.38138\n",
      "iter 57 nnl:81.36840\n",
      "iter 58 nnl:81.35555\n",
      "iter 59 nnl:81.34207\n",
      "iter 60 nnl:81.32698\n",
      "iter 61 nnl:81.30919\n",
      "iter 62 nnl:81.28748\n",
      "iter 63 nnl:81.26054\n",
      "iter 64 nnl:81.22698\n",
      "iter 65 nnl:81.18530\n",
      "iter 66 nnl:81.13381\n",
      "iter 67 nnl:81.07076\n",
      "iter 68 nnl:80.99439\n",
      "iter 69 nnl:80.90318\n",
      "iter 70 nnl:80.79617\n",
      "iter 71 nnl:80.67229\n",
      "iter 72 nnl:80.52791\n",
      "iter 73 nnl:80.35363\n",
      "iter 74 nnl:80.13738\n",
      "iter 75 nnl:79.87132\n",
      "iter 76 nnl:79.55225\n",
      "iter 77 nnl:79.17702\n",
      "iter 78 nnl:78.73753\n",
      "iter 79 nnl:78.21884\n",
      "iter 80 nnl:77.60445\n",
      "iter 81 nnl:76.88544\n",
      "iter 82 nnl:76.06590\n",
      "iter 83 nnl:75.15907\n",
      "iter 84 nnl:74.17432\n",
      "iter 85 nnl:73.12643\n",
      "iter 86 nnl:72.05540\n",
      "iter 87 nnl:70.98535\n",
      "iter 88 nnl:69.91626\n",
      "iter 89 nnl:68.86166\n",
      "iter 90 nnl:67.84210\n",
      "iter 91 nnl:66.85466\n",
      "iter 92 nnl:65.88757\n",
      "iter 93 nnl:64.96999\n",
      "iter 94 nnl:64.09035\n",
      "iter 95 nnl:63.27428\n",
      "iter 96 nnl:62.52583\n",
      "iter 97 nnl:61.86391\n",
      "iter 98 nnl:61.29392\n",
      "iter 99 nnl:60.83343\n"
     ]
    },
    {
     "data": {
      "text/plain": "<Figure size 640x480 with 1 Axes>",
      "image/png": "[encoded data removed]"
     },
     "metadata": {},
     "output_type": "display_data"
    }
   ],
   "source": [
    "train_adam(xtr, ytr, log_length_scale, log_scale, log_beta, 100, 0.1)\n",
    "with torch.no_grad():\n",
    "    ypred, yvar = forward(xtr, xte, log_length_scale, log_scale, log_beta, ytr)\n",
    "    \n",
    "plt.errorbar(xte.numpy().reshape(100), ypred.detach().numpy().reshape(100),\n",
    "             yerr=yvar.sqrt().squeeze().detach().numpy(), fmt='r-.', alpha=0.2)\n",
    "plt.plot(xtr.numpy(), ytr.numpy(), 'b+')\n",
    "plt.show()"
   ]
  },
  {
   "cell_type": "code",
   "execution_count": null,
   "outputs": [],
   "source": [],
   "metadata": {
    "collapsed": false
   }
  }
 ],
 "metadata": {
  "kernelspec": {
   "display_name": "Python 3 (ipykernel)",
   "language": "python",
   "name": "python3"
  },
  "language_info": {
   "codemirror_mode": {
    "name": "ipython",
    "version": 3
   },
   "file_extension": ".py",
   "mimetype": "text/x-python",
   "name": "python",
   "nbconvert_exporter": "python",
   "pygments_lexer": "ipython3",
   "version": "3.6.13"
  }
 },
 "nbformat": 4,
 "nbformat_minor": 5
}
