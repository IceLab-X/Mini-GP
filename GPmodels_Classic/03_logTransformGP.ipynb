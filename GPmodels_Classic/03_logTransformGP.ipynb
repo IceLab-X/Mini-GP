{
 "cells": [
  {
   "metadata": {},
   "cell_type": "code",
   "source": [
    "import os\n",
    "import sys\n",
    "import torch\n",
    "import torch.nn as nn\n",
    "from matplotlib import pyplot as plt\n",
    "from core.kernel import ARDKernel\n",
    "import torch.optim as optim\n",
    "import core.GP_CommonCalculation as GP\n",
    "\n",
    "sys.path.append('..')  # Add parent folder to sys.path\n",
    "os.environ['KMP_DUPLICATE_LIB_OK'] = 'True' # Fixing strange error if run in MacOS\n",
    "JITTER = 1e-6\n",
    "EPS = 1e-10\n",
    "PI = 3.1415"
   ],
   "outputs": [],
   "execution_count": null
  },
  {
   "metadata": {},
   "cell_type": "code",
   "source": [
    "# Generate synthetic data\n",
    "torch.manual_seed(0)\n",
    "xtr = torch.linspace(10, 20, 100,dtype=torch.float64).unsqueeze(1)\n",
    "# Exponential growth with multiplicative noise\n",
    "ytr = torch.exp(0.3 * xtr) * (1 + 0.01 * torch.randn(xtr.size()))\n",
    "\n",
    "# Test data\n",
    "xte=torch.linspace(10, 20, 100,dtype=torch.float64).unsqueeze(1)\n",
    "yte = torch.exp(0.3 * xte)\n",
    "# Plot the original data\n",
    "plt.figure(figsize=(12, 6))\n",
    "\n",
    "plt.plot(xtr.numpy(), ytr.numpy(), 'b*', label='Original Data')\n",
    "plt.plot(xte.numpy(),yte.numpy(),'r')\n",
    "plt.xlabel('X')\n",
    "plt.ylabel('y')\n",
    "plt.title('Original Data')\n",
    "plt.legend()\n",
    "\n",
    "\n",
    "plt.show()\n"
   ],
   "outputs": [],
   "execution_count": null
  },
  {
   "cell_type": "code",
   "source": [
    "warp=GP.Warp(method='log')\n",
    "y_log=warp.transform(ytr)"
   ],
   "metadata": {
    "collapsed": false
   },
   "outputs": [],
   "execution_count": null
  },
  {
   "cell_type": "code",
   "source": [
    "kernel= ARDKernel(1)"
   ],
   "metadata": {
    "collapsed": false
   },
   "outputs": [],
   "execution_count": null
  },
  {
   "cell_type": "code",
   "source": [
    "#initiate_log_beta\n",
    "log_beta = nn.Parameter(torch.ones(1) * -4) # this is a large noise. we optimize to shrink it to a proper value."
   ],
   "metadata": {
    "collapsed": false
   },
   "outputs": [],
   "execution_count": null
  },
  {
   "cell_type": "code",
   "source": [
    "def negative_log_likelihood(xtr, ytr, kernel,log_beta):\n",
    "    Sigma = kernel(xtr, xtr) + log_beta.exp().pow(-1) * torch.eye(\n",
    "        xtr.size(0)) + JITTER * torch.eye(xtr.size(0))\n",
    "    return -GP.Gaussian_log_likelihood(ytr, Sigma) #you may add a loss term for the change of variable, but it is a constant term, which does not affect the optimization."
   ],
   "metadata": {
    "collapsed": false
   },
   "outputs": [],
   "execution_count": null
  },
  {
   "cell_type": "code",
   "source": [
    "def forward(xtr, ytr, xte, kernel,log_beta):\n",
    "    n_test = xte.size(0)\n",
    "\n",
    "    Sigma = kernel(xtr, xtr) + log_beta.exp().pow(-1) * torch.eye(\n",
    "        xtr.size(0)) + JITTER * torch.eye(xtr.size(0))\n",
    "\n",
    "    K_s = kernel(xtr, xte)\n",
    "    K_ss= kernel(xte, xte)\n",
    "\n",
    "    mean, var = GP.conditional_Gaussian(ytr, Sigma, K_s, K_ss)\n",
    "\n",
    "    var_diag = var.sum(dim=0).view(-1, 1)\n",
    "    var_diag = var_diag + log_beta.exp().pow(-1)\n",
    "    return mean, var_diag"
   ],
   "metadata": {
    "collapsed": false
   },
   "outputs": [],
   "execution_count": null
  },
  {
   "cell_type": "code",
   "source": [
    "def train_adam(xtr, y_log, kernel, log_beta, niteration=10, lr=0.1):\n",
    "    # Adam optimizer\n",
    "    optimizer = optim.Adam([\n",
    "        {'params': kernel.parameters()},\n",
    "        {'params': [log_beta]}\n",
    "    ], lr=lr)\n",
    "\n",
    "    for i in range(niteration):\n",
    "        optimizer.zero_grad()\n",
    "        loss = negative_log_likelihood(xtr, y_log, kernel, log_beta)\n",
    "        loss.backward()\n",
    "        optimizer.step()\n",
    "\n",
    "        # Print kernel parameters\n",
    "        #for name, param in kernel.named_parameters():\n",
    "            #if param.requires_grad:\n",
    "                #print(f'{name}: {param.data}')\n",
    "\n",
    "        #print('log_beta:', log_beta.data)\n",
    "        if (i+1)%10==0:\n",
    "            print('iter', i+1, 'nll:{:.5f}'.format(loss.item()))"
   ],
   "metadata": {
    "collapsed": false
   },
   "outputs": [],
   "execution_count": null
  },
  {
   "cell_type": "code",
   "source": [
    "train_adam(xtr, y_log, kernel, log_beta, niteration=200,lr=0.1)"
   ],
   "metadata": {
    "collapsed": false
   },
   "outputs": [],
   "execution_count": null
  },
  {
   "cell_type": "code",
   "source": [
    "with torch.no_grad():\n",
    "    ypred_log, yvar_log = forward(xtr, y_log, xte, kernel,log_beta)"
   ],
   "metadata": {
    "collapsed": false
   },
   "outputs": [],
   "execution_count": null
  },
  {
   "cell_type": "code",
   "source": [
    "# Back-transform\n",
    "ypred,yvar=warp.back_transform(ypred_log, yvar_log)"
   ],
   "metadata": {
    "collapsed": false
   },
   "outputs": [],
   "execution_count": null
  },
  {
   "cell_type": "code",
   "source": [
    "#plt.plot(xte.numpy(), (ypred+0.5*yvar).exp(), 'r', label='Predicted Mean')\n",
    "plt.errorbar(xte.numpy().reshape(100), ypred.detach().numpy().reshape(100),\n",
    "             yerr=yvar.sqrt().squeeze().detach().numpy(), fmt='r-.', alpha=0.2)\n",
    "plt.plot(xtr.detach().numpy(), ytr.detach().numpy(), 'b+')\n",
    "plt.figure(figsize=(12, 6))\n",
    "plt.show()"
   ],
   "metadata": {
    "collapsed": false
   },
   "outputs": [],
   "execution_count": null
  },
  {
   "cell_type": "code",
   "source": [
    "%%capture captured_output\n",
    "#reset parameter and train the model without log transform\n",
    "kernel=ARDKernel(1)\n",
    "log_beta = nn.Parameter(torch.ones(1) * -4) \n",
    "train_adam(xtr, ytr, kernel, log_beta, niteration=1000,lr=0.1)"
   ],
   "metadata": {
    "collapsed": false
   },
   "outputs": [],
   "execution_count": null
  },
  {
   "metadata": {},
   "cell_type": "code",
   "source": [
    " #By running this cell, you will see the output of the training process. This output will demonstrate that without performing a log transform, the training process need more iteration to converge.\n",
    "captured_output.show()"
   ],
   "outputs": [],
   "execution_count": null
  },
  {
   "cell_type": "code",
   "source": [
    "with torch.no_grad():\n",
    "    ypred2, yvar2 = forward(xtr, ytr, xte, kernel,log_beta)\n",
    "mse_log = ((yte - ypred)**2).mean()\n",
    "print('mse_log_transform:',mse_log)\n",
    "mse_standard = ((yte - ypred2)**2).mean()\n",
    "print('mse_standard:',mse_standard)"
   ],
   "metadata": {
    "collapsed": false,
    "ExecuteTime": {
     "end_time": "2024-07-18T05:29:36.061407Z",
     "start_time": "2024-07-18T05:29:36.045338Z"
    }
   },
   "outputs": [
    {
     "name": "stdout",
     "output_type": "stream",
     "text": [
      "mse_log_transform: tensor(0.0471, dtype=torch.float64)\n",
      "mse_standard: tensor(0.0789, dtype=torch.float64)\n"
     ]
    }
   ],
   "execution_count": 29
  },
  {
   "metadata": {},
   "cell_type": "code",
   "outputs": [],
   "execution_count": null,
   "source": []
  }
 ],
 "metadata": {
  "language_info": {
   "name": "python"
  },
  "kernelspec": {
   "name": "python3",
   "language": "python",
   "display_name": "Python 3 (ipykernel)"
  }
 },
 "nbformat": 4,
 "nbformat_minor": 2
}
