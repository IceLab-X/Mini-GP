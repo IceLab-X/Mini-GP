{
 "cells": [
  {
   "cell_type": "markdown",
   "source": [
    "Author: Zidong Chen\n",
    "\n",
    "Date:2024/07/04\n",
    "\n",
    "Introduction\n",
    "\n",
    "With the advancement of hardware technology, leveraging GPUs for parallel computing in Gaussian processes has become a prominent question. After significant progress in developing scalable GP models, I am excited to introduce a new inference method for standard Gaussian processes that enables GPU acceleration. This method allows for training exact Gaussian processes with thousands of data points in seconds, using just a single GPU on a laptop.\n"
   ],
   "metadata": {
    "collapsed": false
   }
  },
  {
   "cell_type": "code",
   "execution_count": 2,
   "outputs": [],
   "source": [
    "import os\n",
    "import time\n",
    "import sys\n",
    "sys.path.append('..')  # Add parent folder to sys.path\n",
    "\n",
    "import torch\n",
    "import torch.nn as nn\n",
    "import numpy as np\n",
    "from matplotlib import pyplot as plt\n",
    "from data_sample import generate_example_data as data\n",
    "from core.cigp_baseline import cigp\n",
    "# from torch.autograd import Variable\n",
    "import torch.optim as optim\n",
    "from core.kernel import ARDKernel\n",
    "os.environ['KMP_DUPLICATE_LIB_OK'] = 'True' # Fixing strange error if run in MacOS\n",
    "JITTER = 1e-3\n",
    "EPS = 1e-10\n",
    "PI = 3.1416\n",
    "torch.set_default_dtype(torch.float64)"
   ],
   "metadata": {
    "collapsed": false,
    "ExecuteTime": {
     "end_time": "2024-07-30T02:47:59.017375100Z",
     "start_time": "2024-07-30T02:47:56.234130200Z"
    }
   }
  },
  {
   "cell_type": "markdown",
   "source": [
    "In standard Gaussian process, the negative log likelihood is given by:\n",
    "$$-L=\\frac{1}{2}y^T\\Sigma^{-1}y+\\frac{1}{2}log(|\\Sigma|)+\\frac{n}{2}log(2\\pi)$$\n",
    "Where$\\Sigma = K(X,X)+ \\frac{1}{\\beta} I$, normally we compute the inverse of $\\Sigma$ using Cholesky decomposition, which requires $O(n^3)$ time complexity. Here we use the conjugate gradient method to solve the linear system $\\Sigma \\cdot x = y$, which gives us x=$\\Sigma^{-1} \\cdot y$. The [conjugate gradient](https://en.wikipedia.org/wiki/Conjugate_gradient_method) is an iterative method, which is more suitable for large-scale data. And the time complexity is $O(n^2 t_\\epsilon)$ with $t_\\epsilon$ equals to the number of iterations required for the algorithm to converge to a solution within a tolerance level $\\epsilon$, and $t_\\epsilon \\ll n$ for large $n$.\n"
   ],
   "metadata": {
    "collapsed": false
   }
  },
  {
   "cell_type": "code",
   "execution_count": 3,
   "outputs": [],
   "source": [
    "device = torch.device('cuda' if torch.cuda.is_available() else 'cpu')\n",
    "def conjugate_gradient(A, b, x0=None, tol=1e-1, max_iter=1000):\n",
    "    if x0 is None:\n",
    "        x = torch.zeros_like(b)\n",
    "    else:\n",
    "        x = x0\n",
    "    r = b - torch.matmul(A, x)\n",
    "    p = r.clone()\n",
    "    rsold = torch.dot(r.flatten(), r.flatten())\n",
    "\n",
    "    for i in range(max_iter):\n",
    "        Ap = torch.matmul(A, p)\n",
    "        alpha = rsold / torch.dot(p.flatten(), Ap.flatten())\n",
    "        x = x + alpha * p\n",
    "        r = r - alpha * Ap\n",
    "        rsnew = torch.dot(r.flatten(), r.flatten())\n",
    "\n",
    "        if torch.sqrt(rsnew) < tol:\n",
    "            break\n",
    "\n",
    "        p = r + (rsnew / rsold) * p\n",
    "        rsold = rsnew\n",
    "\n",
    "        #if i % 10 == 0:  # Print diagnostics every 10 iterations\n",
    "            #print(f\"Iteration {i}: Residual norm {torch.sqrt(rsnew):.6e}\")\n",
    "\n",
    "    return x\n",
    "\n",
    "\n",
    "def cholesky_solve(A, b):\n",
    "    # Perform Cholesky decomposition (A = LL^T)\n",
    "    L = torch.linalg.cholesky(A)\n",
    "\n",
    "    # Solve Ax = b using torch.cholesky_solve\n",
    "    x = torch.cholesky_solve(b, L)\n",
    "\n",
    "    return x\n",
    "# Verify the solutions\n",
    "def verify_solution(A, b, x):\n",
    "    residual = b - torch.matmul(A, x)\n",
    "    residual_norm = torch.norm(residual)\n",
    "    return residual_norm"
   ],
   "metadata": {
    "collapsed": false,
    "ExecuteTime": {
     "end_time": "2024-07-30T02:48:01.543831500Z",
     "start_time": "2024-07-30T02:48:01.509615800Z"
    }
   }
  },
  {
   "cell_type": "code",
   "execution_count": 43,
   "outputs": [],
   "source": [
    "# generate example data\n",
    "xtr, ytr,xte,yte = data.generate(2000,100,seed=42)\n",
    "xtr = xtr.to(dtype=torch.float64,device=device)\n",
    "ytr = ytr.to(dtype=torch.float64, device=device)\n",
    "xte = xte.to(dtype=torch.float64,device=device)"
   ],
   "metadata": {
    "collapsed": false,
    "ExecuteTime": {
     "end_time": "2024-07-30T02:55:52.103131600Z",
     "start_time": "2024-07-30T02:55:52.090240500Z"
    }
   }
  },
  {
   "cell_type": "code",
   "execution_count": 57,
   "outputs": [],
   "source": [
    "kernel= ARDKernel(1)"
   ],
   "metadata": {
    "collapsed": false,
    "ExecuteTime": {
     "end_time": "2024-07-30T03:00:58.262569100Z",
     "start_time": "2024-07-30T03:00:58.254625500Z"
    }
   }
  },
  {
   "cell_type": "code",
   "execution_count": 58,
   "outputs": [],
   "source": [
    "log_beta = nn.Parameter(torch.ones(1, dtype=torch.float64, device=device) * -4)\n",
    " # this is a large noise. we optimize to shrink it to a proper value."
   ],
   "metadata": {
    "collapsed": false,
    "ExecuteTime": {
     "end_time": "2024-07-30T03:00:58.499845300Z",
     "start_time": "2024-07-30T03:00:58.490880100Z"
    }
   }
  },
  {
   "cell_type": "markdown",
   "source": [
    "Let us compare the performance of using conjugate_gradient and cholesky decomposition to solve the linear system $\\Sigma \\cdot x=y$"
   ],
   "metadata": {
    "collapsed": false
   }
  },
  {
   "cell_type": "code",
   "execution_count": 23,
   "outputs": [],
   "source": [
    "Sigma = kernel(xtr, xtr) + torch.eye(xtr.size(0), device=device) * torch.exp(log_beta) + JITTER * torch.eye(xtr.size(0), device=device)\n"
   ],
   "metadata": {
    "collapsed": false,
    "ExecuteTime": {
     "end_time": "2024-07-30T02:49:00.986979Z",
     "start_time": "2024-07-30T02:49:00.954374700Z"
    }
   }
  },
  {
   "cell_type": "code",
   "execution_count": 24,
   "outputs": [
    {
     "name": "stdout",
     "output_type": "stream",
     "text": [
      "Conjugate Gradient Solution Time: 0.005001 seconds\n"
     ]
    }
   ],
   "source": [
    "start_time = time.time()\n",
    "x_cg=conjugate_gradient(Sigma,ytr)\n",
    "time_cg = time.time() - start_time\n",
    "print(f\"Conjugate Gradient Solution Time: {time_cg:.6f} seconds\")"
   ],
   "metadata": {
    "collapsed": false,
    "ExecuteTime": {
     "end_time": "2024-07-30T02:49:01.406524500Z",
     "start_time": "2024-07-30T02:49:01.389526900Z"
    }
   }
  },
  {
   "cell_type": "code",
   "execution_count": 25,
   "outputs": [
    {
     "name": "stdout",
     "output_type": "stream",
     "text": [
      "Cholesky Solution Time: 0.030370 seconds\n"
     ]
    }
   ],
   "source": [
    "start_time = time.time()\n",
    "x_cholesky=cholesky_solve(Sigma,ytr)\n",
    "time_cholesky = time.time() - start_time\n",
    "print(f\"Cholesky Solution Time: {time_cholesky:.6f} seconds\")"
   ],
   "metadata": {
    "collapsed": false,
    "ExecuteTime": {
     "end_time": "2024-07-30T02:49:02.708073300Z",
     "start_time": "2024-07-30T02:49:02.670635Z"
    }
   }
  },
  {
   "cell_type": "code",
   "execution_count": 26,
   "outputs": [
    {
     "name": "stdout",
     "output_type": "stream",
     "text": [
      "Conjugate Gradient Residual Norm: 3.801113e-03\n",
      "Cholesky Residual Norm: 2.529698e-10\n"
     ]
    }
   ],
   "source": [
    "residual_norm_cg=verify_solution(Sigma, ytr, x_cg)\n",
    "residual_norm_cholesky=verify_solution(Sigma, ytr, x_cholesky)\n",
    "print(f\"Conjugate Gradient Residual Norm: {residual_norm_cg:.6e}\")\n",
    "print(f\"Cholesky Residual Norm: {residual_norm_cholesky:.6e}\")"
   ],
   "metadata": {
    "collapsed": false,
    "ExecuteTime": {
     "end_time": "2024-07-30T02:49:05.323692900Z",
     "start_time": "2024-07-30T02:49:05.315970600Z"
    }
   }
  },
  {
   "cell_type": "markdown",
   "source": [
    "As we can see from the above results, the Conjugate Gradient method solves the linear system much faster than Cholesky decomposition with acceptable accuracy. Users can set a smaller tolerance for better accuracy, but due to floating-point errors, this is often unnecessary. The next challenge is to solve for the log determinant of the covariance matrix, here we propose a numerically stable version of [Lanczos algorithm for quadratic forms](https://shashankaubaru.github.io/Papers/Lanc_Quad.pdf)."
   ],
   "metadata": {
    "collapsed": false
   }
  },
  {
   "cell_type": "code",
   "execution_count": 27,
   "outputs": [],
   "source": [
    "import torch\n",
    "\n",
    "def lanc_quad_logdet(A, m=10, nvecs=10):\n",
    "    \"\"\"\n",
    "    Estimate the log-determinant of a symmetric positive definite matrix using\n",
    "    the Stochastic Lanczos Quadrature (SLQ) method.\n",
    "\n",
    "    Parameters:\n",
    "    A (torch.Tensor): The symmetric positive definite input matrix.\n",
    "    m (int): Number of Lanczos steps (degree).\n",
    "    nvecs (int): Number of starting vectors.\n",
    "\n",
    "    Returns:\n",
    "    z1 mean: The average of estimates for starting vectors.\n",
    "    \"\"\"\n",
    "    n = A.shape[0]\n",
    "    z1 = torch.zeros(nvecs, dtype=A.dtype, device=A.device)\n",
    "\n",
    "    for ii in range(nvecs):\n",
    "        w = torch.sign(torch.randn(n, dtype=A.dtype, device=A.device))  # Random Rademacher vector\n",
    "        v0 = w / torch.norm(w)\n",
    "        #print(torch.norm(w))\n",
    "        # Lanczos algorithm\n",
    "        V = torch.zeros((n, m), dtype=A.dtype, device=A.device)\n",
    "        alpha = torch.zeros(m, dtype=A.dtype, device=A.device)\n",
    "        beta = torch.zeros(m-1, dtype=A.dtype, device=A.device)\n",
    "        V[:, 0] = v0.clone()\n",
    "\n",
    "\n",
    "        w = A @ V[:, 0].clone()\n",
    "        #print(A)\n",
    "        alpha[0] = torch.dot(V[:, 0].clone(), w)\n",
    "        w = w - alpha[0].clone() * V[:, 0].clone()\n",
    "\n",
    "        for j in range(1, m):\n",
    "            beta[j-1] = torch.norm(w)\n",
    "            if beta[j-1] != 0:\n",
    "                V[:, j] = w / beta[j-1].clone()\n",
    "                w = A @ V[:, j].clone() - beta[j-1].clone() * V[:, j-1].clone()\n",
    "                alpha[j] = torch.dot(V[:, j].clone(), w)\n",
    "                w = w - alpha[j].clone() * V[:, j].clone()\n",
    "\n",
    "        H = torch.diag(alpha) + torch.diag(beta, 1) + torch.diag(beta, -1)\n",
    "        #print(V[:, j])\n",
    "        #print(w)\n",
    "        #print(torch.diag(alpha),torch.diag(beta, 1),torch.diag(beta, -1))\n",
    "        #print(H)\n",
    "        eigvals, eigvecs = torch.linalg.eig(H)\n",
    "        #print(eigvals)\n",
    "        theta = torch.abs(eigvals)\n",
    "        gamma2 = eigvecs[0, :]**2\n",
    "\n",
    "        # Sum of gamma2 * log(theta)\n",
    "        count = torch.sum(gamma2 * torch.log(theta))\n",
    "        z1[ii] = (count * n).real\n",
    "\n",
    "    return z1.mean()\n"
   ],
   "metadata": {
    "collapsed": false,
    "ExecuteTime": {
     "end_time": "2024-07-30T02:49:09.238100100Z",
     "start_time": "2024-07-30T02:49:09.232281Z"
    }
   }
  },
  {
   "cell_type": "code",
   "execution_count": 30,
   "outputs": [
    {
     "name": "stdout",
     "output_type": "stream",
     "text": [
      "Lanczos Quadrature Time: 0.244657 seconds\n",
      "Log determinant (SLQ): -7865.352889049164\n"
     ]
    }
   ],
   "source": [
    "start_time = time.time()\n",
    "log_det_lanc = lanc_quad_logdet(Sigma)\n",
    "end_time = time.time()\n",
    "print(f\"Lanczos Quadrature Time: {end_time - start_time:.6f} seconds\")\n",
    "print(f\"Log determinant (SLQ): {log_det_lanc}\")"
   ],
   "metadata": {
    "collapsed": false,
    "ExecuteTime": {
     "end_time": "2024-07-30T02:49:14.515634100Z",
     "start_time": "2024-07-30T02:49:14.266612900Z"
    }
   }
  },
  {
   "cell_type": "code",
   "execution_count": 31,
   "outputs": [
    {
     "name": "stdout",
     "output_type": "stream",
     "text": [
      "Cholesky Decomposition Time: 0.215580 seconds\n",
      "Exact log determinant (Cholesky): -7865.82029438415\n"
     ]
    }
   ],
   "source": [
    "start_time = time.time()\n",
    "L = torch.linalg.cholesky(Sigma)\n",
    "log_det_cholesky=2 * torch.sum(torch.log(torch.diag(L)))\n",
    "end_time = time.time()\n",
    "print(f\"Cholesky Decomposition Time: {end_time - start_time:.6f} seconds\")\n",
    "print(f\"Exact log determinant (Cholesky): {log_det_cholesky.item()}\")"
   ],
   "metadata": {
    "collapsed": false,
    "ExecuteTime": {
     "end_time": "2024-07-30T02:49:16.999015900Z",
     "start_time": "2024-07-30T02:49:16.780184900Z"
    }
   }
  },
  {
   "cell_type": "markdown",
   "source": [
    "Again the difference is acceptable. Now we can build our standard GP with new inference methods that leverage GPU acceleration."
   ],
   "metadata": {
    "collapsed": false
   }
  },
  {
   "cell_type": "code",
   "execution_count": 32,
   "outputs": [],
   "source": [
    "def negative_log_likelihood(xtr, ytr, kernel,log_beta):\n",
    "    n = xtr.shape[0]\n",
    "    Sigma = kernel(xtr, xtr) + torch.eye(n, device=device) * torch.exp(log_beta) + JITTER * torch.eye(n, device=device)\n",
    "    Sigma_inv_y = conjugate_gradient(Sigma, ytr)\n",
    "    #option1:\n",
    "    L=torch.linalg.cholesky(Sigma)\n",
    "    nll = 0.5 * (torch.matmul(ytr.t(), Sigma_inv_y) + 0.5* n * torch.log(2 * torch.tensor(PI))) +L.diag().log().sum()\n",
    "    #option2: torch autograd bug???\n",
    "    #nll=0.5 * (torch.matmul(ytr.t(), Sigma_inv_y) + 0.5* n * torch.log(2 * torch.tensor(PI)))+0.5*lanc_quad_logdet(Sigma)\n",
    "    return nll\n"
   ],
   "metadata": {
    "collapsed": false,
    "ExecuteTime": {
     "end_time": "2024-07-30T02:49:22.104042500Z",
     "start_time": "2024-07-30T02:49:22.096030200Z"
    }
   }
  },
  {
   "cell_type": "code",
   "execution_count": 39,
   "outputs": [],
   "source": [
    "def forward(xtr, ytr, xte, kernel,log_beta):\n",
    "    n_test = xte.size(0)\n",
    "    #xte=data_normalizer.normalize(xte)\n",
    "    Sigma = kernel(xtr, xtr) + torch.eye(xtr.size(0), device=device) * torch.exp(log_beta) + JITTER * torch.eye(xtr.size(0), device=device)\n",
    "\n",
    "    K_s = kernel(xtr, xte)\n",
    "\n",
    "    mean=K_s.t()@conjugate_gradient(Sigma, ytr)\n",
    "\n",
    "    #option 1 (standard):\n",
    "    # K_ss= kernel(xte, xte)\n",
    "    # var=K_ss- (K_s.t()@conjugate_gradient(Sigma, K_s))\n",
    "\n",
    "    # var_diag=var.sum(dim = 0).view(-1, 1)\n",
    "\n",
    "    #option 2 (fast):\n",
    "    var = kernel.signal_variance.exp().expand(n_test, 1).to(device) -  (K_s.t()@conjugate_gradient(Sigma, K_s)).diag()\n",
    "    var_diag=var.sum(dim = 0).view(-1, 1)\n",
    "    # The first term of above equation might be different if you use a different kernel!\n",
    "\n",
    "    var_diag = var_diag + log_beta.exp().pow(-1)\n",
    "\n",
    "    # Denormalize\n",
    "    #mean, var_diag = data_normalizer.denormalize_result(mean, var_diag)\n",
    "    return mean, var_diag"
   ],
   "metadata": {
    "collapsed": false,
    "ExecuteTime": {
     "end_time": "2024-07-30T02:52:59.536925300Z",
     "start_time": "2024-07-30T02:52:59.532418900Z"
    }
   }
  },
  {
   "cell_type": "code",
   "execution_count": 51,
   "outputs": [],
   "source": [
    "def train_adam(xtr, ytr, kernel, log_beta, niteration=10, lr=0.1):\n",
    "    # Adam optimizer\n",
    "    optimizer = optim.Adam([\n",
    "        {'params': kernel.parameters()},\n",
    "        {'params': [log_beta]}\n",
    "    ], lr=lr)\n",
    "\n",
    "    for i in range(niteration):\n",
    "        optimizer.zero_grad()\n",
    "        loss = negative_log_likelihood(xtr, ytr, kernel, log_beta)\n",
    "        loss.backward()\n",
    "        optimizer.step()\n",
    "\n",
    "        # Print kernel parameters\n",
    "        # for name, param in kernel.named_parameters():\n",
    "        #     if param.requires_grad:\n",
    "        #         print(f'{name}: {param.data}')\n",
    "\n",
    "        #print('log_beta:', log_beta.data)\n",
    "        if i%10==0:\n",
    "            print('iter', i, 'nll:{:.5f}'.format(loss.item()))"
   ],
   "metadata": {
    "collapsed": false,
    "ExecuteTime": {
     "end_time": "2024-07-30T02:59:11.674274800Z",
     "start_time": "2024-07-30T02:59:11.666735200Z"
    }
   }
  },
  {
   "cell_type": "code",
   "execution_count": 59,
   "outputs": [
    {
     "name": "stdout",
     "output_type": "stream",
     "text": [
      "iter 0 nll:428188.03829\n",
      "iter 10 nll:42796.74242\n",
      "iter 20 nll:13390.91112\n",
      "iter 30 nll:9303.11295\n",
      "iter 40 nll:7703.18610\n",
      "iter 50 nll:6732.58782\n",
      "iter 60 nll:6029.81166\n",
      "iter 70 nll:5471.78810\n",
      "iter 80 nll:5008.56116\n",
      "iter 90 nll:4616.21390\n"
     ]
    }
   ],
   "source": [
    "start_time = time.time()\n",
    "train_adam(xtr, ytr, kernel, log_beta, niteration=100,lr=0.1)\n",
    "end_time = time.time()\n",
    "cg_gp_time=end_time-start_time"
   ],
   "metadata": {
    "collapsed": false,
    "ExecuteTime": {
     "end_time": "2024-07-30T03:01:29.221925Z",
     "start_time": "2024-07-30T03:01:03.683089300Z"
    }
   }
  },
  {
   "cell_type": "code",
   "execution_count": 60,
   "outputs": [
    {
     "data": {
      "text/plain": "<Figure size 640x480 with 1 Axes>",
      "image/png": "[encoded data removed]"
     },
     "metadata": {},
     "output_type": "display_data"
    }
   ],
   "source": [
    "with torch.no_grad():\n",
    "    ypred, yvar = forward(xtr, ytr, xte, kernel,log_beta)\n",
    "\n",
    "plt.fill_between(xte.cpu().squeeze().numpy(), ypred.cpu().squeeze().detach().numpy() - 1.96 * np.sqrt(yvar.cpu().squeeze().detach().numpy()), ypred.cpu().squeeze().detach().numpy() + 1.96 * np.sqrt(yvar.cpu().squeeze().detach().numpy()), alpha=0.2, label='95% Confidence interval')\n",
    "subset_size = 100  # Adjust this to the desired subset size\n",
    "indices = torch.randperm(xtr.size(0))[:subset_size]\n",
    "\n",
    "xtr_subset = xtr[indices]\n",
    "ytr_subset = ytr[indices]\n",
    "\n",
    "# Move the subset data to CPU for plotting\n",
    "xtr_subset_cpu = xtr_subset.cpu().numpy()\n",
    "ytr_subset_cpu = ytr_subset.cpu().numpy()\n",
    "\n",
    "# Plot the subset of the training data\n",
    "plt.plot(xtr_subset_cpu, ytr_subset_cpu, 'b+')\n",
    "plt.plot(xte.cpu(),yte.cpu())\n",
    "plt.show()"
   ],
   "metadata": {
    "collapsed": false,
    "ExecuteTime": {
     "end_time": "2024-07-30T03:02:49.278959500Z",
     "start_time": "2024-07-30T03:02:48.694624100Z"
    }
   }
  },
  {
   "cell_type": "code",
   "execution_count": 41,
   "outputs": [
    {
     "name": "stdout",
     "output_type": "stream",
     "text": [
      "iter 0 nll:5853.86449\n",
      "iter 10 nll:4855.93433\n",
      "iter 20 nll:3863.76793\n",
      "iter 30 nll:2880.84095\n",
      "iter 40 nll:1922.04631\n",
      "iter 50 nll:1028.37265\n",
      "iter 60 nll:295.39943\n",
      "iter 70 nll:-116.08111\n",
      "iter 80 nll:-169.58521\n",
      "iter 90 nll:-154.71214\n"
     ]
    }
   ],
   "source": [
    "start_time = time.time()\n",
    "xtr,ytr=xtr.cpu(),ytr.cpu()\n",
    "model=cigp(xtr,ytr)\n",
    "model.train_adam(100,0.1)\n",
    "end_time = time.time()\n",
    "standard_gp_time=end_time-start_time"
   ],
   "metadata": {
    "collapsed": false,
    "ExecuteTime": {
     "end_time": "2024-07-30T02:54:08.849533Z",
     "start_time": "2024-07-30T02:53:23.016312600Z"
    }
   }
  },
  {
   "cell_type": "code",
   "execution_count": 100,
   "outputs": [
    {
     "name": "stdout",
     "output_type": "stream",
     "text": [
      "standard GP time: 45.84003567695618\n",
      "CG GP time: 25.938597440719604\n"
     ]
    }
   ],
   "source": [
    "print(\"standard GP time:\",standard_gp_time)\n",
    "print(\"CG GP time:\",cg_gp_time)"
   ],
   "metadata": {
    "collapsed": false,
    "ExecuteTime": {
     "end_time": "2024-07-30T02:04:36.670470600Z",
     "start_time": "2024-07-30T02:04:36.666270100Z"
    }
   }
  }
 ],
 "metadata": {
  "kernelspec": {
   "display_name": "Python 3",
   "language": "python",
   "name": "python3"
  },
  "language_info": {
   "codemirror_mode": {
    "name": "ipython",
    "version": 2
   },
   "file_extension": ".py",
   "mimetype": "text/x-python",
   "name": "python",
   "nbconvert_exporter": "python",
   "pygments_lexer": "ipython2",
   "version": "2.7.6"
  }
 },
 "nbformat": 4,
 "nbformat_minor": 0
}
