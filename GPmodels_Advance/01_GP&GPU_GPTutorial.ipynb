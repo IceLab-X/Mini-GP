{
 "cells": [
  {
   "cell_type": "markdown",
   "source": [
    "Author: Zidong Chen\n",
    "\n",
    "Date:2024/07/04\n",
    "\n",
    "Introduction\n",
    "\n",
    "With the advancement of hardware technology, leveraging GPUs for parallel computing in Gaussian processes has become a prominent question. After significant progress in developing scalable GP models, I am excited to introduce a new inference method for standard Gaussian processes that enables GPU acceleration. This method allows for training exact Gaussian processes with thousands of data points in seconds, using just a single GPU on a laptop.\n"
   ],
   "metadata": {
    "collapsed": false
   }
  },
  {
   "cell_type": "code",
   "execution_count": 191,
   "outputs": [],
   "source": [
    "import os\n",
    "import time\n",
    "import sys\n",
    "\n",
    "sys.path.append('..')  # Add parent folder to sys.path\n",
    "\n",
    "import torch\n",
    "import torch.nn as nn\n",
    "import numpy as np\n",
    "from matplotlib import pyplot as plt\n",
    "from data_sample import generate_example_data as data\n",
    "from core.cigp import cigp\n",
    "import torch.optim as optim\n",
    "from core.kernel import ARDKernel\n",
    "\n",
    "os.environ['KMP_DUPLICATE_LIB_OK'] = 'True'  # Fixing strange error if run in MacOS\n",
    "JITTER = 1e-6\n",
    "EPS = 1e-10\n",
    "PI = 3.1416\n",
    "torch.set_default_dtype(torch.float64)"
   ],
   "metadata": {
    "collapsed": false,
    "ExecuteTime": {
     "end_time": "2024-08-21T07:38:22.495620400Z",
     "start_time": "2024-08-21T07:38:22.485220900Z"
    }
   }
  },
  {
   "cell_type": "markdown",
   "source": [
    "In standard Gaussian process, the negative log likelihood is given by:\n",
    "$$-L=\\frac{1}{2}y^T\\Sigma^{-1}y+\\frac{1}{2}log(|\\Sigma|)+\\frac{n}{2}log(2\\pi)$$\n",
    "Where$\\Sigma = K(X,X)+ \\frac{1}{\\beta} I$, normally we compute the inverse of $\\Sigma$ using Cholesky decomposition, which requires $O(n^3)$ time complexity. Here we use the conjugate gradient method to solve the linear system $\\Sigma \\cdot x = y$, which gives us x=$\\Sigma^{-1} \\cdot y$. The [conjugate gradient](https://en.wikipedia.org/wiki/Conjugate_gradient_method) is an iterative method, which is more suitable for large-scale data. And the time complexity is $O(n^2 t_\\epsilon)$ with $t_\\epsilon$ equals to the number of iterations required for the algorithm to converge to a solution within a tolerance level $\\epsilon$, and $t_\\epsilon \\ll n$ for large $n$.\n"
   ],
   "metadata": {
    "collapsed": false
   }
  },
  {
   "cell_type": "code",
   "execution_count": 192,
   "outputs": [],
   "source": [
    "device = torch.device('cuda')\n",
    "\n",
    "\n",
    "def conjugate_gradient(A, b, x0=None, tol=1e-1, max_iter=1000):\n",
    "    if x0 is None:\n",
    "        x = torch.zeros_like(b)\n",
    "    else:\n",
    "        x = x0\n",
    "    r = b - torch.matmul(A, x)\n",
    "    p = r.clone()\n",
    "    rsold = torch.dot(r.flatten(), r.flatten())\n",
    "\n",
    "    for i in range(max_iter):\n",
    "        Ap = torch.matmul(A, p)\n",
    "        alpha = rsold / torch.dot(p.flatten(), Ap.flatten())\n",
    "        x = x + alpha * p\n",
    "        r = r - alpha * Ap\n",
    "        rsnew = torch.dot(r.flatten(), r.flatten())\n",
    "\n",
    "        if torch.sqrt(rsnew) < tol:\n",
    "            break\n",
    "\n",
    "        p = r + (rsnew / rsold) * p\n",
    "        rsold = rsnew\n",
    "\n",
    "        #if i % 10 == 0:  # Print diagnostics every 10 iterations\n",
    "        #print(f\"Iteration {i}: Residual norm {torch.sqrt(rsnew):.6e}\")\n",
    "\n",
    "    return x\n",
    "\n",
    "\n",
    "def cholesky_solve(A, b):\n",
    "    # Perform Cholesky decomposition (A = LL^T)\n",
    "    L = torch.linalg.cholesky(A)\n",
    "\n",
    "    # Solve Ax = b using torch.cholesky_solve\n",
    "    x = torch.cholesky_solve(b, L)\n",
    "\n",
    "    return x\n",
    "\n",
    "\n",
    "# Verify the solutions\n",
    "def verify_solution(A, b, x):\n",
    "    residual = b - torch.matmul(A, x)\n",
    "    residual_norm = torch.norm(residual)\n",
    "    return residual_norm"
   ],
   "metadata": {
    "collapsed": false,
    "ExecuteTime": {
     "end_time": "2024-08-21T07:38:23.320423500Z",
     "start_time": "2024-08-21T07:38:23.314029900Z"
    }
   }
  },
  {
   "cell_type": "code",
   "execution_count": 193,
   "outputs": [],
   "source": [
    "# generate example data\n",
    "xtr, ytr, xte, yte = data.generate(5000, 100, seed=42)\n",
    "xtr = xtr.to(dtype=torch.float64, device=device)\n",
    "ytr = ytr.to(dtype=torch.float64, device=device)\n",
    "xte = xte.to(dtype=torch.float64, device=device)"
   ],
   "metadata": {
    "collapsed": false,
    "ExecuteTime": {
     "end_time": "2024-08-21T07:38:23.767060100Z",
     "start_time": "2024-08-21T07:38:23.753369700Z"
    }
   }
  },
  {
   "cell_type": "code",
   "execution_count": 194,
   "outputs": [],
   "source": [
    "kernel = ARDKernel(1)\n",
    "log_beta = nn.Parameter(torch.ones(1, dtype=torch.float64, device=device) * 0)\n",
    "# this is a large noise. we optimize to shrink it to a proper value."
   ],
   "metadata": {
    "collapsed": false,
    "ExecuteTime": {
     "end_time": "2024-08-21T07:38:24.132577900Z",
     "start_time": "2024-08-21T07:38:24.122401800Z"
    }
   }
  },
  {
   "cell_type": "markdown",
   "source": [
    "Let us compare the performance of using conjugate_gradient and cholesky decomposition to solve the linear system $\\Sigma \\cdot x=y$"
   ],
   "metadata": {
    "collapsed": false
   }
  },
  {
   "cell_type": "code",
   "execution_count": 195,
   "outputs": [],
   "source": [
    "Sigma = kernel(xtr, xtr) + torch.eye(xtr.size(0), device=device) * torch.exp(log_beta) + JITTER * torch.eye(xtr.size(0), device=device)"
   ],
   "metadata": {
    "collapsed": false,
    "ExecuteTime": {
     "end_time": "2024-08-21T07:38:24.968385200Z",
     "start_time": "2024-08-21T07:38:24.942730200Z"
    }
   }
  },
  {
   "cell_type": "code",
   "execution_count": 227,
   "outputs": [
    {
     "name": "stdout",
     "output_type": "stream",
     "text": [
      "Conjugate Gradient Solution Time: 0.006001 seconds\n"
     ]
    }
   ],
   "source": [
    "start_time = time.time()\n",
    "x_cg = conjugate_gradient(Sigma, ytr)\n",
    "time_cg = time.time() - start_time\n",
    "print(f\"Conjugate Gradient Solution Time: {time_cg:.6f} seconds\")"
   ],
   "metadata": {
    "collapsed": false,
    "ExecuteTime": {
     "end_time": "2024-08-21T07:56:59.885134Z",
     "start_time": "2024-08-21T07:56:59.860488700Z"
    }
   }
  },
  {
   "cell_type": "code",
   "execution_count": 220,
   "outputs": [
    {
     "name": "stdout",
     "output_type": "stream",
     "text": [
      "Cholesky Solution Time: 0.596621 seconds\n"
     ]
    }
   ],
   "source": [
    "start_time = time.time()\n",
    "x_cholesky = cholesky_solve(Sigma, ytr)\n",
    "time_cholesky = time.time() - start_time\n",
    "print(f\"Cholesky Solution Time: {time_cholesky:.6f} seconds\")"
   ],
   "metadata": {
    "collapsed": false,
    "ExecuteTime": {
     "end_time": "2024-08-21T07:55:40.343769400Z",
     "start_time": "2024-08-21T07:55:39.741413200Z"
    }
   }
  },
  {
   "cell_type": "code",
   "execution_count": 198,
   "outputs": [
    {
     "name": "stdout",
     "output_type": "stream",
     "text": [
      "Conjugate Gradient Residual Norm: 6.809222e-02\n",
      "Cholesky Residual Norm: 2.271525e-11\n"
     ]
    }
   ],
   "source": [
    "residual_norm_cg = verify_solution(Sigma, ytr, x_cg)\n",
    "residual_norm_cholesky = verify_solution(Sigma, ytr, x_cholesky)\n",
    "print(f\"Conjugate Gradient Residual Norm: {residual_norm_cg:.6e}\")\n",
    "print(f\"Cholesky Residual Norm: {residual_norm_cholesky:.6e}\")"
   ],
   "metadata": {
    "collapsed": false,
    "ExecuteTime": {
     "end_time": "2024-08-21T07:38:28.186833900Z",
     "start_time": "2024-08-21T07:38:28.177521900Z"
    }
   }
  },
  {
   "cell_type": "markdown",
   "source": [
    "As we can see from the above results, the Conjugate Gradient method solves the linear system much faster than Cholesky decomposition with acceptable accuracy. Users can set a smaller tolerance for better accuracy, but due to floating-point errors, this is often unnecessary. The next challenge is to solve for the log determinant of the covariance matrix, here we propose a numerically stable version of [Lanczos algorithm for quadratic forms](https://shashankaubaru.github.io/Papers/Lanc_Quad.pdf)."
   ],
   "metadata": {
    "collapsed": false
   }
  },
  {
   "cell_type": "code",
   "execution_count": 199,
   "outputs": [],
   "source": [
    "import torch\n",
    "\n",
    "\n",
    "def lanc_quad_logdet(A, m=10, nvecs=10):\n",
    "    \"\"\"\n",
    "    Estimate the log-determinant of a symmetric positive definite matrix using\n",
    "    the Stochastic Lanczos Quadrature (SLQ) method.\n",
    "\n",
    "    Parameters:\n",
    "    A (torch.Tensor): The symmetric positive definite input matrix.\n",
    "    m (int): Number of Lanczos steps (degree).\n",
    "    nvecs (int): Number of starting vectors.\n",
    "\n",
    "    Returns:\n",
    "    z1 mean: The average of estimates for starting vectors.\n",
    "    \"\"\"\n",
    "    n = A.shape[0]\n",
    "    z1 = torch.zeros(nvecs, dtype=A.dtype, device=A.device)\n",
    "\n",
    "    for ii in range(nvecs):\n",
    "        w = torch.sign(torch.randn(n, dtype=A.dtype, device=A.device))  # Random Rademacher vector\n",
    "        v0 = w / (torch.norm(w)+EPS)\n",
    "        #print(v0)\n",
    "        # Lanczos algorithm\n",
    "        V = torch.zeros((n, m), dtype=A.dtype, device=A.device)\n",
    "        alpha = torch.zeros(m, dtype=A.dtype, device=A.device)\n",
    "        beta = torch.zeros(m - 1, dtype=A.dtype, device=A.device)\n",
    "        V[:, 0] = v0.clone()\n",
    "\n",
    "        w = A @ V[:, 0].clone()\n",
    "\n",
    "        alpha[0] = torch.dot(V[:, 0].clone(), w)\n",
    "        w = w - alpha[0].clone() * V[:, 0].clone()\n",
    "\n",
    "        for j in range(1, m):\n",
    "            beta[j - 1] = torch.norm(w)\n",
    "            if beta[j - 1] != 0:\n",
    "                V[:, j] = w / (beta[j - 1].clone()+EPS)\n",
    "                w = A @ V[:, j].clone() - beta[j - 1].clone() * V[:, j - 1].clone()\n",
    "                alpha[j] = torch.dot(V[:, j].clone(), w)\n",
    "                w = w - alpha[j].clone() * V[:, j].clone()\n",
    "\n",
    "        H = torch.diag(alpha) + torch.diag(beta, 1) + torch.diag(beta, -1)\n",
    "        #print(V[:, j])\n",
    "        # print(w)\n",
    "        # print(torch.diag(alpha),torch.diag(beta, 1),torch.diag(beta, -1))\n",
    "        # print(H)\n",
    "        eigvals, eigvecs = torch.linalg.eig(H)\n",
    "        eigvals, eigvecs = eigvals.real, eigvecs.real\n",
    "        #print(eigvals)\n",
    "        theta = torch.abs(eigvals)\n",
    "        gamma2 = eigvecs[0, :] ** 2\n",
    "\n",
    "        # Sum of gamma2 * log(theta)\n",
    "        count = torch.sum(gamma2 * torch.log(theta))\n",
    "        z1[ii] = (count * n).real\n",
    "\n",
    "    return z1.mean()\n"
   ],
   "metadata": {
    "collapsed": false,
    "ExecuteTime": {
     "end_time": "2024-08-21T07:38:34.740936400Z",
     "start_time": "2024-08-21T07:38:34.729222700Z"
    }
   }
  },
  {
   "cell_type": "code",
   "execution_count": 209,
   "outputs": [
    {
     "name": "stdout",
     "output_type": "stream",
     "text": [
      "Lanczos Quadrature Time: 0.236053 seconds\n",
      "Log determinant (SLQ): 18.97595262047382\n"
     ]
    }
   ],
   "source": [
    "start_time = time.time()\n",
    "log_det_lanc = lanc_quad_logdet(Sigma)\n",
    "end_time = time.time()\n",
    "print(f\"Lanczos Quadrature Time: {end_time - start_time:.6f} seconds\")\n",
    "print(f\"Log determinant (SLQ): {log_det_lanc}\")"
   ],
   "metadata": {
    "collapsed": false,
    "ExecuteTime": {
     "end_time": "2024-08-21T07:39:19.031933400Z",
     "start_time": "2024-08-21T07:39:18.792052800Z"
    }
   }
  },
  {
   "cell_type": "code",
   "execution_count": 212,
   "outputs": [
    {
     "name": "stdout",
     "output_type": "stream",
     "text": [
      "Cholesky Decomposition Time: 0.528001 seconds\n",
      "Exact log determinant (Cholesky): 17.12168046471974\n"
     ]
    }
   ],
   "source": [
    "start_time = time.time()\n",
    "L = torch.linalg.cholesky(Sigma)\n",
    "log_det_cholesky = 2 * torch.sum(torch.log(torch.diag(L)))\n",
    "end_time = time.time()\n",
    "print(f\"Cholesky Decomposition Time: {end_time - start_time:.6f} seconds\")\n",
    "print(f\"Exact log determinant (Cholesky): {log_det_cholesky.item()}\")"
   ],
   "metadata": {
    "collapsed": false,
    "ExecuteTime": {
     "end_time": "2024-08-21T07:39:31.809161600Z",
     "start_time": "2024-08-21T07:39:31.275339400Z"
    }
   }
  },
  {
   "cell_type": "markdown",
   "source": [
    "Again the difference is acceptable. Now we can build our standard GP with new inference methods that leverage GPU acceleration."
   ],
   "metadata": {
    "collapsed": false
   }
  },
  {
   "cell_type": "code",
   "execution_count": 213,
   "outputs": [],
   "source": [
    "def negative_log_likelihood(xtr, ytr, kernel, log_beta):\n",
    "    n = xtr.shape[0]\n",
    "    Sigma = kernel(xtr, xtr) + torch.eye(n, device=device) * torch.exp(log_beta).pow(-1) + JITTER * torch.eye(n,\n",
    "                                                                                                              device=device)\n",
    "    Sigma_inv_y = conjugate_gradient(Sigma, ytr)\n",
    "    #option1:\n",
    "    # L = torch.linalg.cholesky(Sigma)\n",
    "    # nll = L.diag().log().sum() +0.5 * (torch.matmul(ytr.t(), Sigma_inv_y) + 0.5* n * torch.log(2 * torch.tensor(PI)))\n",
    "    #option2: torch autograd bug???\n",
    "\n",
    "    nll = 0.5 * lanc_quad_logdet(\n",
    "         Sigma)  +0.5 * (torch.matmul(ytr.t(), Sigma_inv_y) + 0.5* n * torch.log(2 * torch.tensor(PI)))\n",
    "    return nll\n"
   ],
   "metadata": {
    "collapsed": false,
    "ExecuteTime": {
     "end_time": "2024-08-21T07:39:43.043489900Z",
     "start_time": "2024-08-21T07:39:43.036006Z"
    }
   }
  },
  {
   "cell_type": "code",
   "execution_count": 214,
   "outputs": [],
   "source": [
    "def forward(xtr, ytr, xte, kernel, log_beta):\n",
    "    n_test = xte.size(0)\n",
    "    #xte=data_normalizer.normalize(xte)\n",
    "    Sigma = kernel(xtr, xtr) + torch.eye(xtr.size(0), device=device) * torch.exp(log_beta) + JITTER * torch.eye(\n",
    "        xtr.size(0), device=device)\n",
    "\n",
    "    K_s = kernel(xtr, xte)\n",
    "\n",
    "    mean = K_s.t() @ conjugate_gradient(Sigma, ytr)\n",
    "\n",
    "    #option 1 (standard):\n",
    "    # K_ss= kernel(xte, xte)\n",
    "    # var=K_ss- (K_s.t()@conjugate_gradient(Sigma, K_s))\n",
    "\n",
    "    # var_diag=var.sum(dim = 0).view(-1, 1)\n",
    "\n",
    "    #option 2 (fast):\n",
    "    var = kernel.signal_variance.exp().expand(n_test, 1).to(device) - (K_s.t() @ conjugate_gradient(Sigma, K_s)).diag()\n",
    "    var_diag = var.sum(dim=0).view(-1, 1)\n",
    "    # The first term of above equation might be different if you use a different kernel!\n",
    "\n",
    "    var_diag = var_diag + log_beta.exp().pow(-1)\n",
    "\n",
    "    # Denormalize\n",
    "    #mean, var_diag = data_normalizer.denormalize_result(mean, var_diag)\n",
    "    return mean, var_diag"
   ],
   "metadata": {
    "collapsed": false,
    "ExecuteTime": {
     "end_time": "2024-08-21T07:39:43.520271Z",
     "start_time": "2024-08-21T07:39:43.495643300Z"
    }
   }
  },
  {
   "cell_type": "code",
   "execution_count": 215,
   "outputs": [],
   "source": [
    "def train_adam(xtr, ytr, kernel, log_beta, niteration=10, lr=0.1):\n",
    "    # Adam optimizer\n",
    "    optimizer = optim.Adam([\n",
    "        {'params': kernel.parameters()},\n",
    "        {'params': [log_beta]}\n",
    "    ], lr=lr)\n",
    "\n",
    "    for i in range(niteration):\n",
    "        optimizer.zero_grad()\n",
    "        loss = negative_log_likelihood(xtr, ytr, kernel, log_beta)\n",
    "        loss.backward()\n",
    "        optimizer.step()\n",
    "\n",
    "        #Print kernel parameters\n",
    "        # for name, param in kernel.named_parameters():\n",
    "        #     if param.requires_grad:\n",
    "        #         print(f'{name}: {param.data}', log_beta)\n",
    "\n",
    "        #print('log_beta:', log_beta.data)\n",
    "        if i%10==0:\n",
    "            print(f\"Iteration {i}, Loss: {loss.item()}\")"
   ],
   "metadata": {
    "collapsed": false,
    "ExecuteTime": {
     "end_time": "2024-08-21T07:39:45.112108600Z",
     "start_time": "2024-08-21T07:39:45.103495900Z"
    }
   }
  },
  {
   "cell_type": "code",
   "execution_count": 216,
   "outputs": [
    {
     "name": "stdout",
     "output_type": "stream",
     "text": [
      "Iteration 0, Loss: 13133.389463868345\n",
      "Iteration 10, Loss: 10753.956066837043\n",
      "Iteration 20, Loss: 7621.808055132352\n",
      "Iteration 30, Loss: 5707.857269272505\n",
      "Iteration 40, Loss: 4976.819992818509\n",
      "Iteration 50, Loss: 5082.525002458684\n",
      "Iteration 60, Loss: 4970.77230322258\n",
      "Iteration 70, Loss: 4942.971378275089\n",
      "Iteration 80, Loss: 4944.855096081037\n",
      "Iteration 90, Loss: 4924.780036737617\n",
      "Iteration 100, Loss: 4939.723503206766\n",
      "Iteration 110, Loss: 4926.184142758282\n",
      "Iteration 120, Loss: 4930.073199950462\n",
      "Iteration 130, Loss: 4927.650690560781\n",
      "Iteration 140, Loss: 4924.400280386099\n",
      "Iteration 150, Loss: 4918.123378180415\n",
      "Iteration 160, Loss: 4922.9038439711785\n",
      "Iteration 170, Loss: 4912.8804969399\n",
      "Iteration 180, Loss: 4912.108746554232\n",
      "Iteration 190, Loss: 4921.0920456442045\n"
     ]
    }
   ],
   "source": [
    "kernel = ARDKernel(1)\n",
    "log_beta = nn.Parameter(torch.ones(1, dtype=torch.float64, device=device) * -4)\n",
    "start_time = time.time()\n",
    "train_adam(xtr, ytr, kernel, log_beta, niteration=200, lr=0.1)\n",
    "end_time = time.time()\n",
    "cg_gp_time = end_time - start_time"
   ],
   "metadata": {
    "collapsed": false,
    "ExecuteTime": {
     "end_time": "2024-08-21T07:41:58.802235500Z",
     "start_time": "2024-08-21T07:39:45.750275400Z"
    }
   }
  },
  {
   "cell_type": "code",
   "execution_count": 217,
   "outputs": [
    {
     "data": {
      "text/plain": "<Figure size 640x480 with 1 Axes>",
      "image/png": "[encoded data removed]"
     },
     "metadata": {},
     "output_type": "display_data"
    }
   ],
   "source": [
    "with torch.no_grad():\n",
    "    ypred, yvar = forward(xtr, ytr, xte, kernel, log_beta)\n",
    "\n",
    "plt.fill_between(xte.cpu().squeeze().numpy(),\n",
    "                 ypred.cpu().squeeze().detach().numpy() - 1.96 * np.sqrt(yvar.cpu().squeeze().detach().numpy()),\n",
    "                 ypred.cpu().squeeze().detach().numpy() + 1.96 * np.sqrt(yvar.cpu().squeeze().detach().numpy()),\n",
    "                 alpha=0.2, label='95% Confidence interval')\n",
    "subset_size = 100  # Adjust this to the desired subset size\n",
    "indices = torch.randperm(xtr.size(0))[:subset_size]\n",
    "\n",
    "xtr_subset = xtr[indices]\n",
    "ytr_subset = ytr[indices]\n",
    "\n",
    "# Move the subset data to CPU for plotting\n",
    "xtr_subset_cpu = xtr_subset.cpu().numpy()\n",
    "ytr_subset_cpu = ytr_subset.cpu().numpy()\n",
    "\n",
    "# Plot the subset of the training data\n",
    "plt.plot(xtr_subset_cpu, ytr_subset_cpu, 'b+')\n",
    "plt.plot(xte.cpu(), yte.cpu())\n",
    "plt.show()"
   ],
   "metadata": {
    "collapsed": false,
    "ExecuteTime": {
     "end_time": "2024-08-21T07:42:32.569969200Z",
     "start_time": "2024-08-21T07:42:31.378104200Z"
    }
   }
  },
  {
   "cell_type": "code",
   "execution_count": 218,
   "outputs": [
    {
     "name": "stdout",
     "output_type": "stream",
     "text": [
      "iter 0 nll:14670.65447\n",
      "iter 10 nll:12258.78492\n",
      "iter 20 nll:10005.62360\n",
      "iter 30 nll:8181.30541\n",
      "iter 40 nll:7267.93116\n",
      "iter 50 nll:7272.31587\n",
      "iter 60 nll:7253.54617\n",
      "iter 70 nll:7209.38090\n",
      "iter 80 nll:7215.41914\n",
      "iter 90 nll:7210.18523\n",
      "iter 100 nll:7209.70099\n",
      "iter 110 nll:7209.58497\n",
      "iter 120 nll:7209.35911\n",
      "iter 130 nll:7209.38522\n",
      "iter 140 nll:7209.34786\n",
      "iter 150 nll:7209.35265\n",
      "iter 160 nll:7209.34776\n",
      "iter 170 nll:7209.34837\n",
      "iter 180 nll:7209.34776\n",
      "iter 190 nll:7209.34784\n"
     ]
    }
   ],
   "source": [
    "start_time = time.time()\n",
    "model = cigp().to(device)\n",
    "model.train_adam(xtr, ytr,200, 0.1)\n",
    "end_time = time.time()\n",
    "standard_gp_time = end_time - start_time"
   ],
   "metadata": {
    "collapsed": false,
    "ExecuteTime": {
     "end_time": "2024-08-21T07:52:30.821615600Z",
     "start_time": "2024-08-21T07:42:38.809619500Z"
    }
   }
  },
  {
   "cell_type": "code",
   "execution_count": 219,
   "outputs": [
    {
     "name": "stdout",
     "output_type": "stream",
     "text": [
      "standard GP time: 592.0098221302032\n",
      "CG GP time: 133.0477843284607\n"
     ]
    }
   ],
   "source": [
    "print(\"standard GP time:\", standard_gp_time)\n",
    "print(\"CG GP time:\", cg_gp_time)"
   ],
   "metadata": {
    "collapsed": false,
    "ExecuteTime": {
     "end_time": "2024-08-21T07:54:31.342927200Z",
     "start_time": "2024-08-21T07:54:31.339255500Z"
    }
   }
  },
  {
   "cell_type": "code",
   "execution_count": null,
   "outputs": [],
   "source": [],
   "metadata": {
    "collapsed": false
   }
  }
 ],
 "metadata": {
  "kernelspec": {
   "display_name": "Python 3",
   "language": "python",
   "name": "python3"
  },
  "language_info": {
   "codemirror_mode": {
    "name": "ipython",
    "version": 2
   },
   "file_extension": ".py",
   "mimetype": "text/x-python",
   "name": "python",
   "nbconvert_exporter": "python",
   "pygments_lexer": "ipython2",
   "version": "2.7.6"
  }
 },
 "nbformat": 4,
 "nbformat_minor": 0
}
