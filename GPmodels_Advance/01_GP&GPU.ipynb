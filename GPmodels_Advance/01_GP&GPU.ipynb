{
 "cells": [
  {
   "cell_type": "code",
   "execution_count": 1,
   "metadata": {
    "collapsed": true
   },
   "outputs": [
    {
     "name": "stdout",
     "output_type": "stream",
     "text": [
      "cuda\n"
     ]
    }
   ],
   "source": [
    "import os\n",
    "import time\n",
    "import sys\n",
    "sys.path.append('..')  # Add parent folder to sys.path\n",
    "\n",
    "import torch\n",
    "import torch.nn as nn\n",
    "import numpy as np\n",
    "from matplotlib import pyplot as plt\n",
    "from data_sample import generate_example_data as data\n",
    "from kernel import ARDKernel\n",
    "import GP_CommonCalculation as GP\n",
    "# from torch.autograd import Variable\n",
    "import torch.optim as optim\n",
    "os.environ['KMP_DUPLICATE_LIB_OK'] = 'True' # Fixing strange error if run in MacOS\n",
    "JITTER = 1e-6\n",
    "EPS = 1e-10\n",
    "PI = 3.1415\n",
    "device = torch.device('cuda' if torch.cuda.is_available() else 'cpu')\n",
    "print(device)"
   ]
  },
  {
   "cell_type": "code",
   "execution_count": 25,
   "outputs": [],
   "source": [
    "# generate example data\n",
    "xtr, ytr,xte,yte = data.generate(2000,100,seed=42)\n",
    "xtr = xtr.to(dtype=torch.float64,device=device)\n",
    "ytr = ytr.to(dtype=torch.float64, device=device)\n",
    "xte = xte.to(dtype=torch.float64,device=device)"
   ],
   "metadata": {
    "collapsed": false,
    "ExecuteTime": {
     "end_time": "2024-07-10T00:46:35.731969Z",
     "start_time": "2024-07-10T00:46:35.721252Z"
    }
   }
  },
  {
   "cell_type": "code",
   "execution_count": 26,
   "outputs": [],
   "source": [
    "kernel= ARDKernel(1)"
   ],
   "metadata": {
    "collapsed": false,
    "ExecuteTime": {
     "end_time": "2024-07-10T00:46:37.818333Z",
     "start_time": "2024-07-10T00:46:37.808108700Z"
    }
   }
  },
  {
   "cell_type": "code",
   "execution_count": 27,
   "outputs": [],
   "source": [
    "log_beta = nn.Parameter(torch.ones(1, dtype=torch.float64, device=device) * -4)"
   ],
   "metadata": {
    "collapsed": false,
    "ExecuteTime": {
     "end_time": "2024-07-10T00:46:38.098588700Z",
     "start_time": "2024-07-10T00:46:38.084677400Z"
    }
   }
  },
  {
   "cell_type": "code",
   "execution_count": 28,
   "outputs": [],
   "source": [
    "def negative_log_likelihood(xtr, ytr, kernel,log_beta):\n",
    "    n = xtr.shape[0]\n",
    "    Sigma = kernel(xtr, xtr) + torch.eye(xtr.size(0), device=device) * torch.exp(log_beta) + JITTER * torch.eye(xtr.size(0), device=device)\n",
    "\n",
    "    return -GP.Gaussian_log_likelihood(ytr,Sigma,Kinv_method='conjugate')"
   ],
   "metadata": {
    "collapsed": false,
    "ExecuteTime": {
     "end_time": "2024-07-10T00:46:39.081968500Z",
     "start_time": "2024-07-10T00:46:39.070821500Z"
    }
   }
  },
  {
   "cell_type": "code",
   "execution_count": 31,
   "outputs": [],
   "source": [
    "def forward(xtr, ytr, xte, kernel,log_beta):\n",
    "    n_test = xte.size(0)\n",
    "\n",
    "\n",
    "    Sigma = kernel(xtr, xtr) + torch.eye(xtr.size(0), device=device) * torch.exp(log_beta) + JITTER * torch.eye(xtr.size(0), device=device)\n",
    "\n",
    "    K_s = kernel(xtr, xte)\n",
    "    K_ss=kernel(xte,xte)\n",
    "    mean,var=GP.conditional_Gaussian(ytr,Sigma,K_s,K_ss,Kinv_method=\"conjugate\")\n",
    "    var_diag=var.sum(dim = 0).view(-1, 1)\n",
    "    var_diag = var_diag + log_beta.exp().pow(-1)\n",
    "\n",
    "\n",
    "    return mean,var_diag"
   ],
   "metadata": {
    "collapsed": false,
    "ExecuteTime": {
     "end_time": "2024-07-10T00:47:02.628070400Z",
     "start_time": "2024-07-10T00:47:02.600777600Z"
    }
   }
  },
  {
   "cell_type": "code",
   "execution_count": 32,
   "outputs": [],
   "source": [
    "def train_adam(xtr, ytr, kernel, log_beta, niteration=10, lr=0.1):\n",
    "    # Adam optimizer\n",
    "    optimizer = optim.Adam([\n",
    "        {'params': kernel.parameters()},\n",
    "        {'params': [log_beta]}\n",
    "    ], lr=lr)\n",
    "\n",
    "    for i in range(niteration):\n",
    "        optimizer.zero_grad()\n",
    "        loss = negative_log_likelihood(xtr, ytr, kernel, log_beta)\n",
    "        loss.backward()\n",
    "        optimizer.step()\n",
    "\n",
    "        # Print kernel parameters\n",
    "        #for name, param in kernel.named_parameters():\n",
    "            #if param.requires_grad:\n",
    "                #print(f'{name}: {param.data}')\n",
    "\n",
    "        #print('log_beta:', log_beta.data)\n",
    "        print('iter', i, 'nll:{:.5f}'.format(loss.item()))"
   ],
   "metadata": {
    "collapsed": false,
    "ExecuteTime": {
     "end_time": "2024-07-10T00:47:03.120995300Z",
     "start_time": "2024-07-10T00:47:03.105704800Z"
    }
   }
  },
  {
   "cell_type": "code",
   "execution_count": 34,
   "outputs": [
    {
     "name": "stdout",
     "output_type": "stream",
     "text": [
      "iter 0 nll:107954.41532\n",
      "iter 1 nll:80872.89368\n",
      "iter 2 nll:64239.62418\n",
      "iter 3 nll:52863.57460\n",
      "iter 4 nll:44182.43623\n",
      "iter 5 nll:37151.46441\n",
      "iter 6 nll:31297.49897\n",
      "iter 7 nll:26166.73908\n",
      "iter 8 nll:21365.30573\n",
      "iter 9 nll:16982.51224\n",
      "iter 10 nll:13517.76069\n",
      "iter 11 nll:11144.71451\n",
      "iter 12 nll:9574.72975\n",
      "iter 13 nll:8488.84795\n",
      "iter 14 nll:7682.32606\n",
      "iter 15 nll:7037.24315\n",
      "iter 16 nll:6492.31769\n",
      "iter 17 nll:6017.53101\n",
      "iter 18 nll:5597.43069\n",
      "iter 19 nll:5222.57975\n",
      "iter 20 nll:4886.19333\n",
      "iter 21 nll:4582.95333\n",
      "iter 22 nll:4308.38617\n",
      "iter 23 nll:4058.87609\n",
      "iter 24 nll:3831.42785\n",
      "iter 25 nll:3623.52182\n",
      "iter 26 nll:3433.03519\n",
      "iter 27 nll:3258.14154\n",
      "iter 28 nll:3097.26712\n",
      "iter 29 nll:2948.97528\n",
      "iter 30 nll:2812.02630\n",
      "iter 31 nll:2685.30988\n",
      "iter 32 nll:2567.83800\n",
      "iter 33 nll:2458.73258\n",
      "iter 34 nll:2357.21054\n",
      "iter 35 nll:2262.57434\n",
      "iter 36 nll:2174.20241\n",
      "iter 37 nll:2091.53861\n",
      "iter 38 nll:2014.08452\n",
      "iter 39 nll:1941.39393\n",
      "iter 40 nll:1873.06578\n",
      "iter 41 nll:1808.73981\n",
      "iter 42 nll:1748.09090\n",
      "iter 43 nll:1690.82639\n",
      "iter 44 nll:1636.68152\n",
      "iter 45 nll:1585.41670\n",
      "iter 46 nll:1536.81471\n",
      "iter 47 nll:1490.67907\n",
      "iter 48 nll:1446.83068\n",
      "iter 49 nll:1405.10679\n",
      "iter 50 nll:1365.35888\n",
      "iter 51 nll:1327.45195\n",
      "iter 52 nll:1291.26180\n",
      "iter 53 nll:1256.67629\n",
      "iter 54 nll:1223.59108\n",
      "iter 55 nll:1191.91189\n",
      "iter 56 nll:1161.55131\n",
      "iter 57 nll:1132.42916\n",
      "iter 58 nll:1104.47206\n",
      "iter 59 nll:1077.61187\n",
      "iter 60 nll:1051.78581\n",
      "iter 61 nll:1026.93658\n",
      "iter 62 nll:1003.01020\n",
      "iter 63 nll:979.95714\n",
      "iter 64 nll:957.73186\n",
      "iter 65 nll:936.29154\n",
      "iter 66 nll:915.59657\n",
      "iter 67 nll:895.61041\n",
      "iter 68 nll:876.29824\n",
      "iter 69 nll:857.62839\n",
      "iter 70 nll:839.57096\n",
      "iter 71 nll:822.09818\n",
      "iter 72 nll:805.18387\n",
      "iter 73 nll:788.80345\n",
      "iter 74 nll:772.93398\n",
      "iter 75 nll:757.55399\n",
      "iter 76 nll:742.64302\n",
      "iter 77 nll:728.18243\n",
      "iter 78 nll:714.15372\n",
      "iter 79 nll:700.54016\n",
      "iter 80 nll:687.32583\n",
      "iter 81 nll:674.49542\n",
      "iter 82 nll:662.03436\n",
      "iter 83 nll:649.92969\n",
      "iter 84 nll:638.16791\n",
      "iter 85 nll:626.73717\n",
      "iter 86 nll:615.62546\n",
      "iter 87 nll:604.82212\n",
      "iter 88 nll:594.31630\n",
      "iter 89 nll:584.09807\n",
      "iter 90 nll:574.15795\n",
      "iter 91 nll:564.48638\n",
      "iter 92 nll:555.07520\n",
      "iter 93 nll:545.91568\n",
      "iter 94 nll:536.99994\n",
      "iter 95 nll:528.32027\n",
      "iter 96 nll:519.86914\n",
      "iter 97 nll:511.63969\n",
      "iter 98 nll:503.62519\n",
      "iter 99 nll:495.81901\n"
     ]
    }
   ],
   "source": [
    "train_adam(xtr, ytr, kernel, log_beta, niteration=100,lr=0.1)"
   ],
   "metadata": {
    "collapsed": false,
    "ExecuteTime": {
     "end_time": "2024-07-10T00:47:38.741371800Z",
     "start_time": "2024-07-10T00:47:12.294967100Z"
    }
   }
  },
  {
   "cell_type": "code",
   "execution_count": 35,
   "outputs": [],
   "source": [
    "with torch.no_grad():\n",
    "    ypred, yvar = forward(xtr, ytr, xte, kernel,log_beta)"
   ],
   "metadata": {
    "collapsed": false,
    "ExecuteTime": {
     "end_time": "2024-07-10T00:47:41.191489300Z",
     "start_time": "2024-07-10T00:47:40.809540800Z"
    }
   }
  },
  {
   "cell_type": "code",
   "execution_count": 36,
   "outputs": [
    {
     "data": {
      "text/plain": "<Figure size 640x480 with 1 Axes>",
      "image/png": "[encoded data removed]"
     },
     "metadata": {},
     "output_type": "display_data"
    }
   ],
   "source": [
    "plt.errorbar(xte.cpu().numpy().reshape(100), ypred.detach().cpu().numpy().reshape(100),\n",
    "             yerr=yvar.cpu().sqrt().squeeze().detach().numpy(), fmt='r-.', alpha=0.2)\n",
    "plt.plot(xtr.cpu().numpy(), ytr.cpu().numpy(), 'b+')\n",
    "plt.show()"
   ],
   "metadata": {
    "collapsed": false,
    "ExecuteTime": {
     "end_time": "2024-07-10T00:47:41.269265Z",
     "start_time": "2024-07-10T00:47:41.177485600Z"
    }
   }
  },
  {
   "cell_type": "code",
   "execution_count": null,
   "outputs": [],
   "source": [],
   "metadata": {
    "collapsed": false
   }
  }
 ],
 "metadata": {
  "kernelspec": {
   "display_name": "Python 3",
   "language": "python",
   "name": "python3"
  },
  "language_info": {
   "codemirror_mode": {
    "name": "ipython",
    "version": 2
   },
   "file_extension": ".py",
   "mimetype": "text/x-python",
   "name": "python",
   "nbconvert_exporter": "python",
   "pygments_lexer": "ipython2",
   "version": "2.7.6"
  }
 },
 "nbformat": 4,
 "nbformat_minor": 0
}
