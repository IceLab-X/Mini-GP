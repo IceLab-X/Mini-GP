{
 "cells": [
  {
   "cell_type": "markdown",
   "source": [
    "Author: Zidong Chen\n",
    "\n",
    "Date:2024/08/21\n",
    "\n",
    "Introduction: This is a demonstration of how to use the inference method mentioned in [01_GP&GPU_GPTutorial.ipynb](https://github.com/IceLab-X/Mini-GP/blob/ffba9d2a75bd3f051792cd92a8ec51c823de2ec2/GPmodels_Advance/01_GP&GPU_GPTutorial.ipynb) for standard GP using GP_Common_Computation pack"
   ],
   "metadata": {
    "collapsed": false
   }
  },
  {
   "cell_type": "code",
   "execution_count": 13,
   "outputs": [],
   "source": [
    "import os\n",
    "import sys\n",
    "import torch\n",
    "import torch.nn as nn\n",
    "import numpy as np\n",
    "from matplotlib import pyplot as plt\n",
    "from core.kernel import ARDKernel\n",
    "import torch.optim as optim\n",
    "import core.GP_CommonCalculation as GP\n",
    "from data_sample import generate_example_data as data\n",
    "os.environ['KMP_DUPLICATE_LIB_OK'] = 'True' # Fixing strange error if run in MacOS\n",
    "JITTER = 1e-6\n",
    "EPS = 1e-10\n",
    "PI = 3.1415"
   ],
   "metadata": {
    "collapsed": false,
    "ExecuteTime": {
     "end_time": "2024-08-21T09:12:09.997233500Z",
     "start_time": "2024-08-21T09:12:09.990071900Z"
    }
   }
  },
  {
   "cell_type": "code",
   "execution_count": 14,
   "metadata": {
    "collapsed": false,
    "jupyter": {
     "outputs_hidden": false
    },
    "ExecuteTime": {
     "end_time": "2024-08-21T09:12:10.395316200Z",
     "start_time": "2024-08-21T09:12:10.295269700Z"
    }
   },
   "outputs": [
    {
     "data": {
      "text/plain": "<Figure size 600x400 with 1 Axes>",
      "image/png": "[encoded data removed]"
     },
     "metadata": {},
     "output_type": "display_data"
    }
   ],
   "source": [
    " # generate example data\n",
    "xtr, ytr, xte, yte = data.generate(32, 100, seed=42)\n",
    "data.plot(xtr, ytr, xte, yte, figsize=(6, 4))"
   ]
  },
  {
   "cell_type": "code",
   "execution_count": 15,
   "metadata": {
    "collapsed": false,
    "jupyter": {
     "outputs_hidden": false
    },
    "ExecuteTime": {
     "end_time": "2024-08-21T09:12:10.497828200Z",
     "start_time": "2024-08-21T09:12:10.493036Z"
    }
   },
   "outputs": [],
   "source": [
    "normalizer = GP.DataNormalization(method=\"standard\", mode=0, learnable=False)\n",
    "normalizer.fit(xtr, 'xtr')\n",
    "normalizer.fit(ytr, 'ytr')\n",
    "xtr = normalizer.normalize(xtr, 'xtr')\n",
    "ytr = normalizer.normalize(ytr, 'ytr')"
   ]
  },
  {
   "cell_type": "code",
   "execution_count": 16,
   "metadata": {
    "collapsed": false,
    "jupyter": {
     "outputs_hidden": false
    },
    "ExecuteTime": {
     "end_time": "2024-08-21T09:12:10.700724500Z",
     "start_time": "2024-08-21T09:12:10.690979900Z"
    }
   },
   "outputs": [],
   "source": [
    "kernel = ARDKernel(1)"
   ]
  },
  {
   "cell_type": "code",
   "execution_count": 17,
   "metadata": {
    "collapsed": false,
    "jupyter": {
     "outputs_hidden": false
    },
    "ExecuteTime": {
     "end_time": "2024-08-21T09:12:10.932089500Z",
     "start_time": "2024-08-21T09:12:10.923040400Z"
    }
   },
   "outputs": [],
   "source": [
    "#initiate_log_beta\n",
    "log_beta = nn.Parameter(torch.ones(1) * -4)  # this is a large noise. we optimize to shrink it to a proper value."
   ]
  },
  {
   "cell_type": "code",
   "execution_count": 18,
   "metadata": {
    "collapsed": false,
    "jupyter": {
     "outputs_hidden": false
    },
    "ExecuteTime": {
     "end_time": "2024-08-21T09:12:11.131314400Z",
     "start_time": "2024-08-21T09:12:11.121923100Z"
    }
   },
   "outputs": [],
   "source": [
    "def negative_log_likelihood(xtr, ytr, kernel, log_beta):\n",
    "    Sigma = kernel(xtr, xtr) + log_beta.exp().pow(-1) * torch.eye(\n",
    "        xtr.size(0)) + JITTER * torch.eye(xtr.size(0))\n",
    "    return -GP.Gaussian_log_likelihood(ytr, Sigma,Kinv_method='conjugate')"
   ]
  },
  {
   "cell_type": "code",
   "execution_count": 19,
   "metadata": {
    "collapsed": false,
    "jupyter": {
     "outputs_hidden": false
    },
    "ExecuteTime": {
     "end_time": "2024-08-21T09:12:11.329133800Z",
     "start_time": "2024-08-21T09:12:11.318235400Z"
    }
   },
   "outputs": [],
   "source": [
    "def forward(xtr, ytr, xte, kernel, log_beta):\n",
    "    n_test = xte.size(0)\n",
    "    xte = normalizer.normalize(xte, 'xtr')\n",
    "    Sigma = kernel(xtr, xtr) + log_beta.exp().pow(-1) * torch.eye(\n",
    "        xtr.size(0)) + JITTER * torch.eye(xtr.size(0))\n",
    "\n",
    "    K_s = kernel(xtr, xte)\n",
    "    K_ss = kernel(xte, xte)\n",
    "\n",
    "    mean, var = GP.conditional_Gaussian(ytr, Sigma, K_s, K_ss,Kinv_method='conjugate')\n",
    "\n",
    "    var_diag = var.sum(dim=0).view(-1, 1)\n",
    "    var_diag = var_diag + log_beta.exp().pow(-1)\n",
    "\n",
    "    # Denormalize\n",
    "    mean = normalizer.denormalize(mean, \"ytr\")\n",
    "    var_diag = normalizer.denormalize_cov(var_diag, \"ytr\")\n",
    "    return mean, var_diag"
   ]
  },
  {
   "cell_type": "code",
   "execution_count": 20,
   "metadata": {
    "collapsed": false,
    "jupyter": {
     "outputs_hidden": false
    },
    "ExecuteTime": {
     "end_time": "2024-08-21T09:12:11.525121900Z",
     "start_time": "2024-08-21T09:12:11.516925800Z"
    }
   },
   "outputs": [],
   "source": [
    "def train_adam(xtr, ytr, kernel, log_beta, niteration=10, lr=0.1):\n",
    "    # Adam optimizer\n",
    "    optimizer = optim.Adam([\n",
    "        {'params': kernel.parameters()},\n",
    "        {'params': [log_beta]}\n",
    "    ], lr=lr)\n",
    "\n",
    "    for i in range(niteration):\n",
    "        optimizer.zero_grad()\n",
    "        loss = negative_log_likelihood(xtr, ytr, kernel, log_beta)\n",
    "        loss.backward()\n",
    "        optimizer.step()\n",
    "\n",
    "        # Print kernel parameters\n",
    "        #for name, param in kernel.named_parameters():\n",
    "        #if param.requires_grad:\n",
    "        #print(f'{name}: {param.data}')\n",
    "\n",
    "        #print('log_beta:', log_beta.data)\n",
    "    print('iter', i, 'nll:{:.5f}'.format(loss.item()))"
   ]
  },
  {
   "cell_type": "code",
   "execution_count": 21,
   "metadata": {
    "collapsed": false,
    "jupyter": {
     "outputs_hidden": false
    },
    "ExecuteTime": {
     "end_time": "2024-08-21T09:12:16.838996500Z",
     "start_time": "2024-08-21T09:12:11.726952500Z"
    }
   },
   "outputs": [
    {
     "name": "stdout",
     "output_type": "stream",
     "text": [
      "iter 99 nll:-15.36603\n"
     ]
    }
   ],
   "source": [
    "train_adam(xtr, ytr, kernel, log_beta, niteration=100, lr=0.1)"
   ]
  },
  {
   "cell_type": "code",
   "execution_count": 22,
   "metadata": {
    "collapsed": false,
    "jupyter": {
     "outputs_hidden": false
    },
    "ExecuteTime": {
     "end_time": "2024-08-21T09:12:16.838996500Z",
     "start_time": "2024-08-21T09:12:16.830796200Z"
    }
   },
   "outputs": [],
   "source": [
    "with torch.no_grad():\n",
    "    ypred, yvar = forward(xtr, ytr, xte, kernel, log_beta)"
   ]
  },
  {
   "cell_type": "code",
   "execution_count": 23,
   "metadata": {
    "collapsed": false,
    "jupyter": {
     "outputs_hidden": false
    },
    "ExecuteTime": {
     "end_time": "2024-08-21T09:12:16.842153900Z",
     "start_time": "2024-08-21T09:12:16.836795600Z"
    }
   },
   "outputs": [],
   "source": [
    "xtr = normalizer.denormalize(xtr, 'xtr')\n",
    "ytr = normalizer.denormalize(ytr, 'ytr')"
   ]
  },
  {
   "cell_type": "code",
   "execution_count": 24,
   "metadata": {
    "collapsed": false,
    "jupyter": {
     "outputs_hidden": false
    },
    "ExecuteTime": {
     "end_time": "2024-08-21T09:12:16.941489400Z",
     "start_time": "2024-08-21T09:12:16.845154400Z"
    }
   },
   "outputs": [
    {
     "data": {
      "text/plain": "<Figure size 640x480 with 1 Axes>",
      "image/png": "[encoded data removed]"
     },
     "metadata": {},
     "output_type": "display_data"
    }
   ],
   "source": [
    "plt.fill_between(xte.squeeze().numpy(),\n",
    "                 ypred.squeeze().detach().numpy() - 1.96 * np.sqrt(yvar.squeeze().detach().numpy()),\n",
    "                 ypred.squeeze().detach().numpy() + 1.96 * np.sqrt(yvar.squeeze().detach().numpy()), alpha=0.2,\n",
    "                 label='95% Confidence interval')\n",
    "plt.plot(xte.squeeze().numpy(), ypred.squeeze().detach().numpy(), label='Predictive mean')\n",
    "plt.plot(xtr.detach().numpy(), ytr.detach().numpy(), 'b+')\n",
    "plt.show()"
   ]
  },
  {
   "cell_type": "code",
   "execution_count": null,
   "metadata": {
    "collapsed": false,
    "jupyter": {
     "outputs_hidden": false
    }
   },
   "outputs": [],
   "source": []
  }
 ],
 "metadata": {
  "kernelspec": {
   "display_name": "Python 3 (ipykernel)",
   "language": "python",
   "name": "python3"
  },
  "language_info": {
   "codemirror_mode": {
    "name": "ipython",
    "version": 3
   },
   "file_extension": ".py",
   "mimetype": "text/x-python",
   "name": "python",
   "nbconvert_exporter": "python",
   "pygments_lexer": "ipython3",
   "version": "3.11.7"
  }
 },
 "nbformat": 4,
 "nbformat_minor": 4
}
