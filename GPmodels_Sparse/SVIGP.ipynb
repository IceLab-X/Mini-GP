{
 "cells": [
  {
   "cell_type": "markdown",
   "id": "9d0d9dd5-534c-4a6a-8027-f5be4ca8a86f",
   "metadata": {},
   "source": [
    "SVIGP\n",
    "[对应论文](https://arxiv.org/pdf/1309.6835)\n",
    "[对应code](https://github.com/ratschlab/SVGP-VAE/blob/main/SVIGP_Hensman_model.py)\n"
   ]
  },
  {
   "cell_type": "code",
   "execution_count": 23,
   "id": "30a10e18-dcec-4d6d-ab64-99ed5513a5ff",
   "metadata": {
    "ExecuteTime": {
     "end_time": "2024-07-01T01:46:27.580821600Z",
     "start_time": "2024-07-01T01:46:24.430159400Z"
    }
   },
   "outputs": [],
   "source": [
    "import os\n",
    "import time\n",
    "import sys\n",
    "sys.path.append('..')  # Add parent folder to sys.path\n",
    "\n",
    "import torch\n",
    "import torch.nn as nn\n",
    "import numpy as np\n",
    "from matplotlib import pyplot as plt\n",
    "\n",
    "from kernel import ARDKernel2\n",
    "# from torch.autograd import Variable\n",
    "import torch.optim as optim\n",
    "# Variational Sparse Gaussian Processes\n",
    "\n",
    "os.environ['KMP_DUPLICATE_LIB_OK'] = 'True' # Fixing strange error if run in MacOS\n",
    "\n",
    "JITTER = 1e-4\n",
    "torch.manual_seed(1)  \n",
    "EPS = 1e-10\n",
    "PI = 3.1415\n",
    "softplus = nn.Softplus()"
   ]
  },
  {
   "cell_type": "code",
   "execution_count": 24,
   "id": "a64f8d83-93ce-4334-9672-137d1621c199",
   "metadata": {
    "ExecuteTime": {
     "end_time": "2024-07-01T02:05:04.635967100Z",
     "start_time": "2024-07-01T02:05:04.630343900Z"
    }
   },
   "outputs": [],
   "source": [
    "#train_set\n",
    "xtr = torch.rand(100, 1)\n",
    "ytr = ((6*xtr - 2)**2) * torch.sin(12*xtr - 4) + torch.randn(100, 1) * 0.01\n",
    "\n",
    "#test_set\n",
    "xte = torch.linspace(0, 1, 100).view(-1,1)\n",
    "yte = ((6*xte - 2)**2) * torch.sin(12*xte - 4)"
   ]
  },
  {
   "cell_type": "code",
   "execution_count": 25,
   "id": "eecf77bd-444f-46bc-8e45-03736f3dd7b5",
   "metadata": {
    "ExecuteTime": {
     "end_time": "2024-07-01T02:05:08.662195300Z",
     "start_time": "2024-07-01T02:05:08.656687600Z"
    }
   },
   "outputs": [],
   "source": [
    "#subset_set_of_training_set\n",
    "num_inducing=20\n",
    "subset_indices = torch.randperm(len(xtr))[:num_inducing]\n",
    "xm = xtr[subset_indices]\n",
    "ym = ytr[subset_indices]\n",
    "#xm=nn.Parameter(torch.rand(num_inducing,1))\n",
    "#plt.plot(xte.numpy(), yte.numpy(), 'r-', alpha = 0.5)\n",
    "#plt.plot(xm.numpy(), ym.numpy(), 'b+')"
   ]
  },
  {
   "cell_type": "code",
   "execution_count": 26,
   "id": "88171297-a84d-49cd-8921-0d667630743c",
   "metadata": {
    "ExecuteTime": {
     "end_time": "2024-07-01T02:05:09.125387600Z",
     "start_time": "2024-07-01T02:05:09.117383Z"
    }
   },
   "outputs": [],
   "source": [
    "log_beta = nn.Parameter(torch.ones(1) * 4)# this is a large noise. we optimize to shrink it to a proper value."
   ]
  },
  {
   "cell_type": "code",
   "execution_count": 27,
   "id": "963dc876-a34b-4814-8396-13c53d12bced",
   "metadata": {
    "ExecuteTime": {
     "end_time": "2024-07-01T02:05:09.600159300Z",
     "start_time": "2024-07-01T02:05:09.575239Z"
    }
   },
   "outputs": [],
   "source": [
    "kernel=ARDKernel2(1)"
   ]
  },
  {
   "cell_type": "markdown",
   "id": "cd01779f-b35c-4545-a4f7-8a2ed3ce6701",
   "metadata": {},
   "source": [
    "The lowerbound introduced by Hensman et al. [2013]\n",
    "$$\n",
    "\\mathcal{L} = \\mathbb{E}_{q(\\mathbf{f}, \\mathbf{u})}[\\log p(\\mathbf{y}|\\mathbf{f})] - \\mathrm{KL}[q(\\mathbf{u})||p(\\mathbf{u})]\n",
    "$$\n",
    "allow us to apply mini-batch learning on sparse GP"
   ]
  },
  {
   "cell_type": "code",
   "execution_count": 28,
   "id": "264c95da-2793-4896-812f-56c88f7bb6a9",
   "metadata": {
    "ExecuteTime": {
     "end_time": "2024-07-01T02:05:11.518761Z",
     "start_time": "2024-07-01T02:05:11.513090900Z"
    }
   },
   "outputs": [],
   "source": [
    "mean=ym.clone()+(torch.randn(num_inducing, 1) * 1) #如果这里initialize成0，均值就不动，但是loss对均值的偏导不是0，很奇怪！\n",
    "q_u_mean=nn.Parameter(mean)\n",
    "#q_u_mean=nn.Parameter(torch.zeros(xm.size(0),1))\n",
    "chole=nn.Parameter(torch.rand(xm.size(0),1))"
   ]
  },
  {
   "cell_type": "markdown",
   "id": "2ca33737-c119-4ba4-8c97-776347b231b4",
   "metadata": {},
   "source": [
    "Now we want to initialize parameter q_u_S, which is the covariance matrix for $q(u)$. So we want to keep q_u_S as positive definite matrix"
   ]
  },
  {
   "cell_type": "markdown",
   "id": "dcef19a7-0116-44dc-8c2d-6f94ab99c6b7",
   "metadata": {},
   "source": [
    "$$\n",
    "\\mathcal{L} = \\sum_{i=1}^{n} \\left\\{ \\log \\mathcal{N}\\left(y_i \\middle| k_i^T K_{mm}^{-1} m, \\beta^{-1}\\right) - \\frac{1}{2} \\beta k_{i,i} - \\frac{1}{2} \\text{tr}(S \\Lambda_i) \\right\\} - \\mathrm{KL}[q(\\mathbf{u}) \\parallel p(\\mathbf{u})]\n",
    "$$\n",
    "$$\n",
    "\\mathcal{L} = \\sum_{i=1}^{n} \\left\\{-\\frac{1}{2} \\log(2 \\pi \\beta^{-1}) - \\frac{\\beta}{2} \\left((y_i - k_i^T K_{mm}^{-1} m)^2 \\right)- \\frac{1}{2} \\beta k_{i,i} - \\frac{1}{2} \\text{tr}(S \\Lambda_i) \\right\\} - \\mathrm{KL}[q(\\mathbf{u}) \\parallel p(\\mathbf{u})]\n",
    "$$\n",
    "And:\n",
    "$$\n",
    "\\mathrm{KL}[q(\\mathbf{u}) \\parallel p(\\mathbf{u})] = \\frac{1}{2} \\left( \\text{tr}(\\mathbf{K_{mm}}^{-1}\\mathbf{S}) + \\mathbf{m}^T \\mathbf{K_{mm}}^{-1} \\mathbf{m} - \\log\\left(\\frac{|\\mathbf{S}|}{|\\mathbf{K_{mm}}|}\\right) - d \\right)\n",
    "$$\n",
    "[reference for KL](https://en.wikipedia.org/wiki/Kullback%E2%80%93Leibler_divergence)"
   ]
  },
  {
   "cell_type": "markdown",
   "metadata": {
    "collapsed": false
   },
   "source": [
    "$\\tilde{k}_{i,i}$ is the ith diagonal element of $\\tilde{\\mathbf{K}}$\n",
    "\n",
    "$$\n",
    "\\tilde{\\mathbf{K}} = \\mathbf{K}_{nn} - \\mathbf{K}_{nm} \\mathbf{K}_{mm}^{-1} \\mathbf{K}_{mn}\n",
    "$$\n",
    "$\\mathbf{k}_i$ is a vector representing the $i$-th column of $\\mathbf{K}_{mn}$ and $\\Lambda_i$is defined as:\n",
    "\n",
    "$$\\Lambda_i = \\beta \\mathbf{K}_{mm}^{-1} \\mathbf{k}_i \\mathbf{k}_i^\\top \\mathbf{K}_{mm}^{-1} $$\n"
   ]
  },
  {
   "cell_type": "code",
   "execution_count": 29,
   "metadata": {
    "ExecuteTime": {
     "end_time": "2024-07-01T02:05:13.330748800Z",
     "start_time": "2024-07-01T02:05:13.328256900Z"
    },
    "collapsed": false
   },
   "outputs": [],
   "source": [
    "def negative_lower_bound(q_u_mean,chole,xm,xtr,ytr,kernel,log_beta):\n",
    "    b=xtr.size(0) #batch size\n",
    "\n",
    "    k_mm=kernel(xm, xm)+JITTER * torch.eye(xm.size(0))\n",
    "    k_mn=kernel(xm, xtr)\n",
    "    Lm = torch.linalg.cholesky(k_mm)\n",
    "    k_nm=k_mn.t()\n",
    "\n",
    "    gamma,_ = torch.triangular_solve(k_mn, Lm, upper = False)\n",
    "    K=gamma.t()@gamma\n",
    "    K_tilda=(kernel(xtr, xtr).diag()-K.diag()).view(-1,1)\n",
    "\n",
    "    #Option 1\n",
    "    #k_mm_inv=torch.inverse(k_mm)\n",
    "\n",
    "    #Option 2 More efficient and stable\n",
    "    k_mm_inv= torch.cholesky_inverse(Lm)\n",
    "\n",
    "    q_u_S=chole@chole.t()+JITTER * torch.eye(xm.size(0))\n",
    "    Ls=torch.linalg.cholesky(q_u_S)\n",
    "    #Ls=flat_to_trian(chole)\n",
    "    #q_u_S=Ls@Ls.t()\n",
    "\n",
    "\n",
    "    A_i=log_beta.exp()*(k_mm_inv@k_mn@k_nm@k_mm_inv)\n",
    "    SA_i=q_u_S@A_i\n",
    "    tr_SA_i=SA_i.diag()\n",
    "    L=-0.5*b*torch.log(2*torch.tensor(PI))+0.5*b*torch.log(log_beta.exp())\\\n",
    "      -0.5*log_beta.exp()*((ytr-k_nm@k_mm_inv@q_u_mean)**2).sum(dim = 0).view(-1,1)\\\n",
    "      -0.5*log_beta.exp()*K_tilda.sum(dim = 0).view(-1,1)-0.5*(tr_SA_i.sum(dim = 0).view(-1,1))\n",
    "\n",
    "\n",
    "    # compute KL\n",
    "    logdetS = 2 * Ls.diag().log().sum()\n",
    "    logdetKmm=2*Lm.diag().log().sum()\n",
    "    k_mm_invS=k_mm_inv@q_u_S\n",
    "\n",
    "    KL =  0.5*k_mm_invS.diag().sum(dim = 0).view(-1,1)+ 0.5*(q_u_mean.t()@k_mm_inv@q_u_mean)-0.5*logdetS+ 0.5*logdetKmm -0.5*num_inducing\n",
    "\n",
    "    return KL,L,k_mm_inv\n"
   ]
  },
  {
   "cell_type": "code",
   "execution_count": 30,
   "id": "517aaa62-b8a7-4b56-b5d2-55f9b67edc83",
   "metadata": {
    "ExecuteTime": {
     "end_time": "2024-07-01T02:05:15.618147400Z",
     "start_time": "2024-07-01T02:05:13.818986600Z"
    }
   },
   "outputs": [
    {
     "name": "stdout",
     "output_type": "stream",
     "text": [
      "iter 0 nll:568208.93750\n",
      "iter 10 nll:469223.87500\n",
      "iter 20 nll:355631.75000\n",
      "iter 30 nll:242054.42188\n",
      "iter 40 nll:154911.04688\n",
      "iter 50 nll:103406.96094\n",
      "iter 60 nll:74823.10156\n",
      "iter 70 nll:57219.84375\n",
      "iter 80 nll:45350.22266\n",
      "iter 90 nll:37082.57422\n",
      "iter 100 nll:30982.67773\n",
      "iter 110 nll:26317.56250\n",
      "iter 120 nll:22622.34180\n",
      "iter 130 nll:19619.93164\n",
      "iter 140 nll:17198.06836\n",
      "iter 150 nll:15191.30859\n",
      "iter 160 nll:13510.30664\n",
      "iter 170 nll:12149.35449\n",
      "iter 180 nll:11004.38867\n",
      "iter 190 nll:10037.30176\n",
      "iter 200 nll:9219.52246\n",
      "iter 210 nll:8506.17383\n",
      "iter 220 nll:7883.75391\n",
      "iter 230 nll:7343.30762\n",
      "iter 240 nll:6880.33984\n",
      "iter 250 nll:6471.58838\n",
      "iter 260 nll:6105.92969\n",
      "iter 270 nll:5778.79443\n",
      "iter 280 nll:5479.62207\n",
      "iter 290 nll:5214.91748\n",
      "iter 300 nll:4974.21631\n",
      "iter 310 nll:4755.23730\n",
      "iter 320 nll:4564.42676\n",
      "iter 330 nll:4373.60400\n",
      "iter 340 nll:4196.37451\n",
      "iter 350 nll:4050.21973\n",
      "iter 360 nll:3901.72217\n",
      "iter 370 nll:3767.79883\n",
      "iter 380 nll:3640.25098\n",
      "iter 390 nll:3522.23462\n",
      "iter 400 nll:3415.30200\n",
      "iter 410 nll:3305.54639\n",
      "iter 420 nll:3208.97266\n",
      "iter 430 nll:3113.67017\n",
      "iter 440 nll:3024.00293\n",
      "iter 450 nll:2940.44336\n",
      "iter 460 nll:2858.38135\n",
      "iter 470 nll:2793.29199\n",
      "iter 480 nll:2714.47705\n",
      "iter 490 nll:2650.19824\n",
      "CPU times: user 3.7 s, sys: 5.09 s, total: 8.8 s\n",
      "Wall time: 1.24 s\n"
     ]
    }
   ],
   "source": [
    "%%time\n",
    "num_epochs = 500\n",
    "optimizer = optim.Adam([q_u_mean, chole, log_beta] + list(kernel.parameters()), lr=0.01)\n",
    "for i in range(num_epochs):\n",
    "    optimizer.zero_grad()\n",
    "    KL,L,k_mm_inv=negative_lower_bound(q_u_mean,chole,xm,xtr,ytr,kernel,log_beta)\n",
    "    loss=KL-L\n",
    "    loss.backward()\n",
    "    optimizer.step()\n",
    "\n",
    "        # Print kernel parameters\n",
    "        #for name, param in kernel.named_parameters():\n",
    "            #if param.requires_grad:\n",
    "                #print(f'{name}: {param.data}')\n",
    "\n",
    "        #print('log_beta:', log_beta.data)\n",
    "    if i % 10 == 0:\n",
    "\n",
    "        print('iter', i, 'nll:{:.5f}'.format(loss.item()))\n",
    "\n"
   ]
  },
  {
   "cell_type": "code",
   "execution_count": 31,
   "id": "7ceccc9a-ca2d-42e2-b7bb-a396a1d87e61",
   "metadata": {
    "ExecuteTime": {
     "end_time": "2024-07-01T02:05:17.483646100Z",
     "start_time": "2024-07-01T02:05:17.476921100Z"
    }
   },
   "outputs": [],
   "source": [
    "_,_,k_mm_inv=negative_lower_bound(q_u_mean,chole,xm,xtr,ytr,kernel,log_beta)\n",
    "def forward(xm,xte,q_u_mean,kernel, log_beta):\n",
    "    K_tt=kernel(xte,xte)\n",
    "    K_tm=kernel(xte,xm)\n",
    "    K_mt= K_tm.t()\n",
    "    ypred=(K_tm@k_mm_inv)@q_u_mean\n",
    "    #yvar=K_tt-K_tm@K_mm_inv@K_mt+K_tm@K_mm_inv@A_m@K_mm_inv@K_mt\n",
    "    #yvar = yvar.diag().view(-1,1)\n",
    "    return ypred#,yvar"
   ]
  },
  {
   "cell_type": "code",
   "execution_count": 32,
   "id": "e5ff5400-e8b3-4cb2-9fca-d49f825c33c6",
   "metadata": {
    "ExecuteTime": {
     "end_time": "2024-07-01T02:05:18.174215100Z",
     "start_time": "2024-07-01T02:05:18.075058900Z"
    }
   },
   "outputs": [
    {
     "data": {
      "text/plain": [
       "<matplotlib.collections.PathCollection at 0x7faca847ef20>"
      ]
     },
     "execution_count": 32,
     "metadata": {},
     "output_type": "execute_result"
    },
    {
     "data": {
      "image/png": "[encoded data removed]",
      "text/plain": [
       "<Figure size 640x480 with 1 Axes>"
      ]
     },
     "metadata": {},
     "output_type": "display_data"
    }
   ],
   "source": [
    "#经过训练后\n",
    "plt.plot(xte.cpu().numpy(), yte.cpu().numpy(), label='Latent function', c='k', lw=0.5)\n",
    "plt.scatter(xm.cpu().numpy(), q_u_mean.cpu().detach().numpy(), label='Prediction', c='b',lw=0.5)\n",
    "# plot training data\n",
    "plt.scatter(xtr.cpu().numpy(), ytr.cpu().numpy(), label='Training data', c='r', lw=0.5, marker='x')\n"
   ]
  },
  {
   "cell_type": "code",
   "execution_count": 33,
   "id": "5287c31e-8f20-40d7-8812-19a16e518d13",
   "metadata": {
    "ExecuteTime": {
     "end_time": "2024-07-01T02:05:19.343986900Z",
     "start_time": "2024-07-01T02:05:19.246861100Z"
    }
   },
   "outputs": [
    {
     "data": {
      "text/plain": [
       "[<matplotlib.lines.Line2D at 0x7face9e59d20>]"
      ]
     },
     "execution_count": 33,
     "metadata": {},
     "output_type": "execute_result"
    },
    {
     "data": {
      "image/png": "[encoded data removed]",
      "text/plain": [
       "<Figure size 640x480 with 1 Axes>"
      ]
     },
     "metadata": {},
     "output_type": "display_data"
    }
   ],
   "source": [
    "ypred=forward(xm,xte,q_u_mean,kernel, log_beta)\n",
    "plt.plot(xte.numpy(), yte.numpy(), label='Latent function', c='k', lw=0.5)\n",
    "plt.plot(xte.numpy(), ypred.detach().numpy(), label='Prediction', c='b',lw=0.5)"
   ]
  },
  {
   "cell_type": "code",
   "execution_count": null,
   "id": "f3aea0fe-028d-4208-ab9c-ed7f6eb482a4",
   "metadata": {},
   "outputs": [],
   "source": []
  }
 ],
 "metadata": {
  "kernelspec": {
   "display_name": "Python 3 (ipykernel)",
   "language": "python",
   "name": "python3"
  },
  "language_info": {
   "codemirror_mode": {
    "name": "ipython",
    "version": 3
   },
   "file_extension": ".py",
   "mimetype": "text/x-python",
   "name": "python",
   "nbconvert_exporter": "python",
   "pygments_lexer": "ipython3",
   "version": "3.10.10"
  }
 },
 "nbformat": 4,
 "nbformat_minor": 5
}
